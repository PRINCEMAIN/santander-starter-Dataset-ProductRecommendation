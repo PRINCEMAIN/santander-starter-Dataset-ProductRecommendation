{
 "cells": [
  {
   "cell_type": "markdown",
   "metadata": {},
   "source": [
    "# Problem Statement\n",
    "\n",
    "Santander wants to find which customers will make a specific transaction in the future, irrespective of the amount of money transacted."
   ]
  },
  {
   "cell_type": "markdown",
   "metadata": {},
   "source": [
    "#### This kernels consists of : \n",
    "\n",
    "* LGB\n",
    "* Gradient Boosting\n",
    "* Linear Regression\n",
    "* Decision Tree\n",
    " \n",
    " Modelling and relevant scoring"
   ]
  },
  {
   "cell_type": "code",
   "execution_count": 2,
   "metadata": {},
   "outputs": [
    {
     "data": {
      "text/plain": [
       "{0: 'Current Accounts',\n",
       " 1: 'Short-term deposits',\n",
       " 2: 'Current Accounts, Direct Debit',\n",
       " 3: 'Current Accounts, e-account',\n",
       " 4: '',\n",
       " 5: 'Current Accounts, e-account, Direct Debit',\n",
       " 6: 'Current Accounts, e-account, Securities',\n",
       " 7: 'Payroll Account, e-account, Direct Debit',\n",
       " 8: 'e-account',\n",
       " 9: 'Payroll Account, e-account, Taxes, Direct Debit',\n",
       " 10: 'Payroll Account, e-account, Securities, Direct Debit',\n",
       " 11: 'Payroll Account, e-account, Taxes, Credit Card, Payroll, Direct Debit',\n",
       " 12: 'Direct Debit',\n",
       " 13: 'Payroll Account, Payroll, Direct Debit',\n",
       " 14: 'Payroll Account, Payroll',\n",
       " 15: 'Payroll Account',\n",
       " 16: 'Payroll Account, e-account, Payroll, Direct Debit',\n",
       " 17: 'e-account, Credit Card, Direct Debit',\n",
       " 18: 'Payroll Account, e-account, Payroll',\n",
       " 19: 'Current Accounts, Taxes, Direct Debit',\n",
       " 20: 'Current Accounts, Más particular Account',\n",
       " 21: 'Junior Account',\n",
       " 22: 'Payroll Account, e-account',\n",
       " 23: 'Current Accounts, Long-term deposits, e-account',\n",
       " 24: 'Payroll Account, e-account, Credit Card, Payroll, Direct Debit',\n",
       " 25: 'Payroll Account, Long-term deposits, e-account, Payroll, Direct Debit',\n",
       " 26: 'Credit Card',\n",
       " 27: 'Taxes',\n",
       " 28: 'Payroll Account, Direct Debit',\n",
       " 29: 'Current Accounts, Payroll Account, Direct Debit',\n",
       " 30: 'Current Accounts, Credit Card, Direct Debit',\n",
       " 31: 'Payroll Account, Long-term deposits, Payroll',\n",
       " 32: 'Long-term deposits, e-account',\n",
       " 33: 'Current Accounts, Long-term deposits, e-account, Direct Debit',\n",
       " 34: 'Current Accounts, Payroll Account, e-account',\n",
       " 35: 'Loans, Taxes, Credit Card',\n",
       " 36: 'Current Accounts, e-account, Securities, Direct Debit',\n",
       " 37: 'Current Accounts, e-account, Funds, Credit Card, Direct Debit',\n",
       " 38: 'Current Accounts, e-account, Taxes, Credit Card',\n",
       " 39: 'Payroll Account, Securities, Payroll, Direct Debit',\n",
       " 40: 'Current Accounts, Taxes',\n",
       " 41: 'Taxes, Direct Debit',\n",
       " 42: 'Payroll Account, Long-term deposits, e-account, Credit Card, Direct Debit',\n",
       " 43: 'Payroll Account, e-account, Mortgage, Credit Card, Payroll, Direct Debit',\n",
       " 44: 'Current Accounts, e-account, Taxes, Direct Debit',\n",
       " 45: 'Current Accounts, e-account, Credit Card',\n",
       " 46: 'Payroll Account, Long-term deposits, e-account, Funds, Credit Card, Payroll, Direct Debit',\n",
       " 47: 'Payroll Account, Long-term deposits, e-account',\n",
       " 48: 'Payroll Account, e-account, Credit Card, Direct Debit',\n",
       " 49: 'Payroll Account, Taxes, Payroll, Direct Debit',\n",
       " 50: 'Current Accounts, Payroll Account, Payroll, Direct Debit',\n",
       " 51: 'Más particular Account',\n",
       " 52: 'Current Accounts, e-account, Credit Card, Securities',\n",
       " 53: 'Current Accounts, e-account, Taxes',\n",
       " 54: 'Payroll Account, Credit Card, Payroll, Direct Debit',\n",
       " 55: 'Current Accounts, Payroll',\n",
       " 56: 'nan',\n",
       " 57: 'Taxes, Payroll, Direct Debit',\n",
       " 58: 'Payroll, Direct Debit',\n",
       " 59: 'Payroll Account, Taxes, Payroll',\n",
       " 60: 'Current Accounts, Securities',\n",
       " 61: 'Payroll Account, Taxes, Securities, Direct Debit',\n",
       " 62: 'Payroll Account, Funds, Pensions, Credit Card, Securities, Payroll, Direct Debit',\n",
       " 63: 'Current Accounts, e-account, Funds',\n",
       " 64: 'Current Accounts, Payroll Account, e-account, Direct Debit',\n",
       " 65: 'Payroll Account, e-account, Taxes, Payroll, Direct Debit',\n",
       " 66: 'Current Accounts, Long-term deposits',\n",
       " 67: 'Current Accounts, e-account, Credit Card, Direct Debit',\n",
       " 68: 'Current Accounts, Securities, Direct Debit',\n",
       " 69: 'Current Accounts, Payroll Account, Taxes, Direct Debit',\n",
       " 70: 'Current Accounts, Más particular Account, Direct Debit',\n",
       " 71: 'Current Accounts, Long-term deposits, e-account, Credit Card',\n",
       " 72: 'e-account, Direct Debit',\n",
       " 73: 'Current Accounts, Payroll Account, Credit Card, Payroll, Direct Debit',\n",
       " 74: 'Payroll Account, Long-term deposits',\n",
       " 75: 'Current Accounts, Credit Card',\n",
       " 76: 'Payroll Account, e-account, Taxes, Credit Card, Direct Debit',\n",
       " 77: 'e-account, Taxes, Direct Debit',\n",
       " 78: 'Securities',\n",
       " 79: 'Current Accounts, Long-term deposits, e-account, Funds',\n",
       " 80: 'Current Accounts, e-account, Taxes, Credit Card, Direct Debit',\n",
       " 81: 'Current Accounts, e-account, Pensions, Taxes, Direct Debit',\n",
       " 82: 'Payroll Account, e-account, Taxes, Credit Card, Securities, Payroll, Direct Debit',\n",
       " 83: 'e-account, Credit Card, Payroll, Direct Debit',\n",
       " 84: 'Taxes, Credit Card, Direct Debit',\n",
       " 85: 'Long-term deposits',\n",
       " 86: 'Payroll Account, Credit Card, Direct Debit',\n",
       " 87: 'Payroll Account, e-account, Credit Card',\n",
       " 88: 'Current Accounts, Payroll Account',\n",
       " 89: 'Current Accounts, e-account, Payroll, Direct Debit',\n",
       " 90: 'e-account, Taxes, Credit Card, Direct Debit',\n",
       " 91: 'Current Accounts, Short-term deposits',\n",
       " 92: 'Current Accounts, Loans',\n",
       " 93: 'Payroll Account, e-account, Funds',\n",
       " 94: 'Payroll Account, Long-term deposits, Payroll, Direct Debit',\n",
       " 95: 'Current Accounts, Funds',\n",
       " 96: 'Current Accounts, Pensions, Taxes, Direct Debit',\n",
       " 97: 'Current Accounts, Medium-term deposits, e-account',\n",
       " 98: 'Current Accounts, Taxes, Securities',\n",
       " 99: 'Payroll Account, Long-term deposits, e-account, Funds, Taxes, Credit Card, Payroll, Direct Debit',\n",
       " 100: 'Payroll Account, e-account, Funds, Payroll',\n",
       " 101: 'Payroll Account, e-account, Pensions, Direct Debit',\n",
       " 102: 'Current Accounts, e-account, Funds, Pensions',\n",
       " 103: 'Payroll Account, Mortgage, Payroll, Direct Debit',\n",
       " 104: 'Payroll Account, Long-term deposits, e-account, Credit Card, Payroll, Direct Debit',\n",
       " 105: 'Current Accounts, Credit Card, Securities',\n",
       " 106: 'Funds, Securities',\n",
       " 107: 'Funds',\n",
       " 108: 'Current Accounts, e-account, Credit Card, Payroll',\n",
       " 109: 'Payroll Account, Taxes, Direct Debit',\n",
       " 110: 'Credit Card, Payroll, Direct Debit',\n",
       " 111: 'Current Accounts, e-account, Credit Card, Payroll, Direct Debit',\n",
       " 112: 'Current Accounts, Long-term deposits, Funds, Direct Debit',\n",
       " 113: 'Payroll Account, Pensions, Payroll, Direct Debit',\n",
       " 114: 'Medium-term deposits, e-account',\n",
       " 115: 'Payroll Account, Long-term deposits, e-account, Funds, Securities, Payroll, Direct Debit',\n",
       " 116: 'Current Accounts, Long-term deposits, Funds',\n",
       " 117: 'Payroll Account, Taxes, Credit Card',\n",
       " 118: 'Current Accounts, Long-term deposits, e-account, Funds, Direct Debit',\n",
       " 119: 'e-account, Funds',\n",
       " 120: 'Payroll Account, Long-term deposits, e-account, Payroll',\n",
       " 121: 'Payroll Account, Taxes, Credit Card, Direct Debit',\n",
       " 122: 'Payroll Account, e-account, Taxes',\n",
       " 123: 'Payroll Account, Securities, Payroll',\n",
       " 124: 'Current Accounts, Long-term deposits, e-account, Taxes',\n",
       " 125: 'Payroll Account, e-account, Funds, Securities, Payroll, Direct Debit',\n",
       " 126: 'e-account, Taxes',\n",
       " 127: 'Taxes, nan',\n",
       " 128: 'Long-term deposits, e-account, Taxes, Direct Debit',\n",
       " 129: 'Current Accounts, Payroll Account, e-account, Taxes, Credit Card, Direct Debit',\n",
       " 130: 'Current Accounts, Long-term deposits, Direct Debit',\n",
       " 131: 'Payroll Account, Pensions, Taxes, Payroll, Direct Debit',\n",
       " 132: 'Payroll Account, e-account, Credit Card, Securities, Payroll, Direct Debit',\n",
       " 133: 'Current Accounts, Payroll Account, Taxes, Payroll, Direct Debit',\n",
       " 134: 'Payroll Account, Long-term deposits, e-account, Funds, Direct Debit',\n",
       " 135: 'Current Accounts, e-account, Pensions, Direct Debit',\n",
       " 136: 'Current Accounts, e-account, Pensions',\n",
       " 137: 'Current Accounts, Long-term deposits, Funds, Credit Card, Direct Debit',\n",
       " 138: 'Payroll Account, Taxes',\n",
       " 139: 'Current Accounts, Long-term deposits, e-account, Pensions',\n",
       " 140: 'Current Accounts, Long-term deposits, Funds, Pensions',\n",
       " 141: 'e-account, Payroll',\n",
       " 142: 'Current Accounts, Payroll, Direct Debit',\n",
       " 143: 'Current Accounts, e-account, Funds, Securities',\n",
       " 144: 'Current Accounts, Long-term deposits, e-account, Credit Card, Direct Debit',\n",
       " 145: 'Current Accounts, e-account, Funds, Direct Debit',\n",
       " 146: 'Payroll Account, Long-term deposits, e-account, Funds, Payroll',\n",
       " 147: 'Payroll Account, Credit Card, Payroll',\n",
       " 148: 'Pensions, Credit Card, Payroll, Direct Debit',\n",
       " 149: 'Current Accounts, Long-term deposits, e-account, Credit Card, Payroll',\n",
       " 150: 'Current Accounts, Taxes, Credit Card, Direct Debit',\n",
       " 151: 'Credit Card, Direct Debit',\n",
       " 152: 'Current Accounts, e-account, Credit Card, Securities, Direct Debit',\n",
       " 153: 'Current Accounts, e-account, Payroll',\n",
       " 154: 'Current Accounts, Payroll Account, e-account, Credit Card, Securities',\n",
       " 155: 'Payroll Account, e-account, Taxes, Credit Card',\n",
       " 156: 'Payroll Account, e-account, Credit Card, Securities, Payroll',\n",
       " 157: 'Payroll Account, Securities, Direct Debit',\n",
       " 158: 'Current Accounts, Payroll Account, e-account, Payroll, Direct Debit',\n",
       " 159: 'Current Accounts, Payroll Account, Credit Card, Direct Debit',\n",
       " 160: 'Payroll Account, Pensions, Taxes, Direct Debit',\n",
       " 161: 'Payroll Account, e-account, Credit Card, Payroll',\n",
       " 162: 'Payroll Account, Long-term deposits, Credit Card, Payroll',\n",
       " 163: 'Current Accounts, Long-term deposits, e-account, Taxes, Direct Debit',\n",
       " 164: 'Payroll Account, e-account, Taxes, Credit Card, Securities, Direct Debit',\n",
       " 165: 'Payroll Account, e-account, Securities',\n",
       " 166: 'Payroll Account, e-account, Pensions, Payroll, Direct Debit',\n",
       " 167: 'Payroll Account, Long-term deposits, e-account, Taxes, Credit Card, Payroll, Direct Debit',\n",
       " 168: 'Current Accounts, Más particular Account, Long-term deposits, Funds',\n",
       " 169: 'Current Accounts, Long-term deposits, Funds, Credit Card',\n",
       " 170: 'Current Accounts, Long-term deposits, e-account, Funds, Taxes',\n",
       " 171: 'Current Accounts, Más particular Account, Long-term deposits',\n",
       " 172: 'Payroll Account, Long-term deposits, e-account, Direct Debit',\n",
       " 173: 'Payroll Account, Más particular Account',\n",
       " 174: 'Current Accounts, Long-term deposits, e-account, Funds, Securities',\n",
       " 175: 'Current Accounts, e-account, Funds, Taxes, Securities',\n",
       " 176: 'Payroll Account, Taxes, Credit Card, Payroll, Direct Debit',\n",
       " 177: 'Current Accounts, Long-term deposits, e-account, Funds, Pensions',\n",
       " 178: 'e-account, Credit Card',\n",
       " 179: 'Current Accounts, Payroll Account, Payroll',\n",
       " 180: 'Current Accounts, Long-term deposits, Taxes',\n",
       " 181: 'Current Accounts, Payroll Account, Taxes, Credit Card, Payroll, Direct Debit',\n",
       " 182: 'Current Accounts, Taxes, Securities, Direct Debit',\n",
       " 183: 'Pensions',\n",
       " 184: 'Payroll Account, e-account, Taxes, Payroll',\n",
       " 185: 'Current Accounts, Long-term deposits, e-account, Securities',\n",
       " 186: 'Payroll Account, Long-term deposits, Credit Card, Payroll, Direct Debit',\n",
       " 187: 'Current Accounts, Payroll Account, e-account, Credit Card, Payroll',\n",
       " 188: 'Current Accounts, e-account, Funds, Taxes, Direct Debit',\n",
       " 189: 'Current Accounts, Payroll Account, e-account, Credit Card, Securities, Payroll, Direct Debit',\n",
       " 190: 'Current Accounts, Payroll Account, Long-term deposits, Direct Debit',\n",
       " 191: 'Long-term deposits, e-account, Taxes',\n",
       " 192: 'Current Accounts, Payroll Account, e-account, Credit Card, Payroll, Direct Debit',\n",
       " 193: 'Current Accounts, Payroll Account, e-account, Taxes, Payroll, Direct Debit',\n",
       " 194: 'Taxes, Credit Card',\n",
       " 195: 'Current Accounts, Payroll Account, e-account, Payroll',\n",
       " 196: 'Payroll Account, Long-term deposits, e-account, Taxes, Direct Debit',\n",
       " 197: 'Current Accounts, Funds, Securities',\n",
       " 198: 'Payroll Account, Long-term deposits, e-account, Credit Card',\n",
       " 199: 'e-account, Payroll, Direct Debit',\n",
       " 200: 'Current Accounts, Long-term deposits, e-account, Securities, Direct Debit',\n",
       " 201: 'Payroll Account, Credit Card',\n",
       " 202: 'Current Accounts, e-account, Taxes, Payroll, Direct Debit',\n",
       " 203: 'Current Accounts, e-account, Funds, Taxes, Credit Card, Direct Debit',\n",
       " 204: 'Current Accounts, Payroll Account, Long-term deposits, Pensions, Taxes, Payroll, Direct Debit',\n",
       " 205: 'Payroll Account, e-account, Pensions, Credit Card, Direct Debit',\n",
       " 206: 'Current Accounts, Medium-term deposits, Long-term deposits, e-account',\n",
       " 207: 'Current Accounts, Más particular Account, Credit Card',\n",
       " 208: 'Payroll Account, Long-term deposits, e-account, Taxes, Payroll, Direct Debit',\n",
       " 209: 'e-account, Taxes, Credit Card, Payroll, Direct Debit',\n",
       " 210: 'Payroll Account, Long-term deposits, Taxes',\n",
       " 211: 'Payroll Account, e-account, Funds, Taxes, Direct Debit',\n",
       " 212: 'Payroll Account, e-account, Funds, Pensions, Credit Card, Direct Debit',\n",
       " 213: 'Payroll Account, Short-term deposits, Long-term deposits, e-account, Pensions, Payroll, Direct Debit',\n",
       " 214: 'Payroll Account, Long-term deposits, e-account, Credit Card, Payroll',\n",
       " 215: 'Más particular Account, e-account',\n",
       " 216: 'Payroll Account, e-account, Funds, Credit Card, Securities',\n",
       " 217: 'Current Accounts, e-account, Funds, Credit Card',\n",
       " 218: 'Current Accounts, Payroll Account, e-account, Taxes, Payroll',\n",
       " 219: 'Current Accounts, Long-term deposits, e-account, Credit Card, Securities',\n",
       " 220: 'e-account, Securities',\n",
       " 221: 'Current Accounts, Payroll Account, e-account, Taxes, Credit Card, Payroll, Direct Debit',\n",
       " 222: 'Payroll Account, e-account, Taxes, Securities, Payroll',\n",
       " 223: 'Payroll Account, Long-term deposits, e-account, Taxes, Credit Card, Direct Debit',\n",
       " 224: 'Current Accounts, e-account, Pensions, Securities',\n",
       " 225: 'Payroll Account, Long-term deposits, e-account, Credit Card, Securities, Payroll, Direct Debit',\n",
       " 226: 'Current Accounts, e-account, Mortgage',\n",
       " 227: 'Payroll Account, Long-term deposits, e-account, Funds, Payroll, Direct Debit',\n",
       " 228: 'Current Accounts, Payroll Account, e-account, Taxes, Direct Debit',\n",
       " 229: 'Payroll Account, Más particular Account, Payroll',\n",
       " 230: 'Current Accounts, Más particular Account, e-account',\n",
       " 231: 'Current Accounts, Long-term deposits, e-account, Credit Card, Payroll, Direct Debit',\n",
       " 232: 'Current Accounts, Más particular Account, Medium-term deposits, Long-term deposits',\n",
       " 233: 'Payroll Account, e-account, Funds, Payroll, Direct Debit',\n",
       " 234: 'Payroll Account, Long-term deposits, e-account, Taxes, Credit Card, Payroll',\n",
       " 235: 'Current Accounts, Long-term deposits, Securities',\n",
       " 236: 'Payroll Account, e-account, Funds, Credit Card, Direct Debit',\n",
       " 237: 'Current Accounts, Más particular Account, Long-term deposits, Direct Debit',\n",
       " 238: 'Payroll Account, Pensions, Credit Card, Direct Debit',\n",
       " 239: 'Payroll Account, e-account, Securities, Payroll, Direct Debit',\n",
       " 240: 'Payroll Account, Loans, Credit Card, Payroll, Direct Debit',\n",
       " 241: 'Más particular Account, Long-term deposits',\n",
       " 242: 'Payroll Account, e-account, Credit Card, Securities, Direct Debit',\n",
       " 243: 'Payroll Account, e-account, Securities, Payroll',\n",
       " 244: 'Payroll Account, e-account, Funds, Credit Card',\n",
       " 245: 'Current Accounts, Más particular Account, Taxes',\n",
       " 246: 'e-account, Credit Card, Securities',\n",
       " 247: 'Payroll Account, e-account, Funds, Pensions, Taxes, Credit Card, Securities, Direct Debit',\n",
       " 248: 'Current Accounts, Long-term deposits, e-account, Funds, Credit Card, Direct Debit',\n",
       " 249: 'Current Accounts, Payroll Account, Long-term deposits, e-account, Payroll, Direct Debit',\n",
       " 250: 'Payroll Account, e-account, Taxes, Credit Card, Payroll',\n",
       " 251: 'Long-term deposits, e-account, Funds',\n",
       " 252: 'Long-term deposits, Funds',\n",
       " 253: 'Current Accounts, Pensions, Taxes',\n",
       " 254: 'Current Accounts, e-account, Credit Card, Securities, Payroll, Direct Debit',\n",
       " 255: 'Loans',\n",
       " 256: 'Long-term deposits, e-account, Direct Debit',\n",
       " 257: 'Current Accounts, Long-term deposits, Funds, Taxes',\n",
       " 258: 'Payroll Account, e-account, Pensions, Taxes, Credit Card, Payroll, Direct Debit',\n",
       " 259: 'Payroll Account, Long-term deposits, e-account, Funds, Taxes, Direct Debit',\n",
       " 260: 'Payroll Account, Credit Card, Securities, Payroll, Direct Debit',\n",
       " 261: 'Payroll Account, e-account, Taxes, Credit Card, Home Account, Direct Debit',\n",
       " 262: 'Current Accounts, Medium-term deposits, Long-term deposits, Credit Card, Direct Debit',\n",
       " 263: 'Payroll Account, e-account, Pensions',\n",
       " 264: 'Current Accounts, Long-term deposits, Credit Card',\n",
       " 265: 'Payroll',\n",
       " 266: 'Payroll Account, Funds',\n",
       " 267: 'Junior Account, Taxes',\n",
       " 268: 'Payroll Account, Securities',\n",
       " 269: 'Current Accounts, Taxes, Credit Card',\n",
       " 270: 'Payroll Account, e-account, Loans, Credit Card, Payroll, Direct Debit',\n",
       " 271: 'Payroll Account, Taxes, Securities, Payroll, Direct Debit',\n",
       " 272: 'Current Accounts, e-account, Pensions, Credit Card, Securities, Direct Debit',\n",
       " 273: 'Más particular Account, Taxes',\n",
       " 274: 'Payroll Account, e-account, Funds, Direct Debit',\n",
       " 275: 'Long-term deposits, e-account, Payroll',\n",
       " 276: 'Payroll Account, e-account, Pensions, Taxes, Payroll, Direct Debit',\n",
       " 277: 'Current Accounts, Payroll Account, Pensions, Payroll, Direct Debit',\n",
       " 278: 'Current Accounts, Long-term deposits, e-account, Funds, Credit Card',\n",
       " 279: 'Current Accounts, Loans, Direct Debit',\n",
       " 280: 'Current Accounts, Long-term deposits, Pensions',\n",
       " 281: 'Current Accounts, Long-term deposits, e-account, Taxes, Credit Card, Direct Debit',\n",
       " 282: 'Current Accounts, Payroll Account, e-account, Credit Card, Direct Debit',\n",
       " 283: 'Payroll Account, e-account, Pensions, Credit Card, Payroll, Direct Debit',\n",
       " 284: 'Taxes, Credit Card, Payroll, Direct Debit',\n",
       " 285: 'Current Accounts, Payroll Account, Taxes, Credit Card, Direct Debit',\n",
       " 286: 'Payroll Account, Pensions, Credit Card, Payroll, Direct Debit',\n",
       " 287: 'Payroll Account, Long-term deposits, Direct Debit',\n",
       " 288: 'Current Accounts, Medium-term deposits',\n",
       " 289: 'Payroll Account, Long-term deposits, e-account, Funds, Securities, Payroll',\n",
       " 290: 'Payroll Account, Funds, Pensions, Credit Card, Payroll, Direct Debit',\n",
       " 291: 'Current Accounts, Pensions',\n",
       " 292: 'Payroll Account, nan, Direct Debit',\n",
       " 293: 'Long-term deposits, Credit Card',\n",
       " 294: 'Current Accounts, Long-term deposits, e-account, Payroll, Direct Debit',\n",
       " 295: 'Current Accounts, Funds, Direct Debit',\n",
       " 296: 'Payroll Account, Long-term deposits, Taxes, Payroll, Direct Debit',\n",
       " 297: 'Current Accounts, e-account, Loans, Direct Debit',\n",
       " 298: 'Payroll Account, e-account, Funds, Credit Card, Securities, Direct Debit',\n",
       " 299: 'Payroll Account, Funds, Payroll',\n",
       " 300: 'nan, Direct Debit',\n",
       " 301: 'Medium-term deposits',\n",
       " 302: 'Current Accounts, Long-term deposits, Credit Card, Direct Debit',\n",
       " 303: 'Current Accounts, Long-term deposits, e-account, Funds, Taxes, Direct Debit',\n",
       " 304: 'Current Accounts, Long-term deposits, Taxes, Direct Debit',\n",
       " 305: 'Long-term deposits, Funds, Securities',\n",
       " 306: 'Current Accounts, Medium-term deposits, Long-term deposits',\n",
       " 307: 'Payroll Account, Funds, Credit Card, Securities, Payroll',\n",
       " 308: 'Current Accounts, e-account, Taxes, Securities, Direct Debit',\n",
       " 309: 'Current Accounts, Taxes, Payroll, Direct Debit',\n",
       " 310: 'Payroll Account, Long-term deposits, e-account, Funds, Taxes, Credit Card, Direct Debit',\n",
       " 311: 'Payroll Account, Long-term deposits, Securities, Payroll, Direct Debit',\n",
       " 312: 'Payroll Account, Funds, Securities',\n",
       " 313: 'Payroll Account, Taxes, Credit Card, Payroll',\n",
       " 314: 'Current Accounts, Credit Card, Securities, Direct Debit',\n",
       " 315: 'Current Accounts, Long-term deposits, e-account, Pensions, Credit Card',\n",
       " 316: 'Payroll Account, e-account, Pensions, Securities',\n",
       " 317: 'Payroll Account, Funds, Credit Card, Direct Debit',\n",
       " 318: 'Current Accounts, Payroll Account, Securities',\n",
       " 319: 'Current Accounts, e-account, Funds, Taxes',\n",
       " 320: 'Pensions, Taxes, Payroll, Direct Debit',\n",
       " 321: 'Current Accounts, Long-term deposits, Taxes, Credit Card',\n",
       " 322: 'Payroll Account, Funds, Securities, Direct Debit',\n",
       " 323: 'Payroll Account, Long-term deposits, e-account, Funds, Credit Card, Securities, Payroll',\n",
       " 324: 'Payroll Account, e-account, Funds, Credit Card, Payroll, Direct Debit',\n",
       " 325: 'Payroll Account, Funds, Credit Card, Securities, Direct Debit',\n",
       " 326: 'Current Accounts, Derivada Account, Securities',\n",
       " 327: 'Payroll Account, Long-term deposits, Taxes, Credit Card, Direct Debit',\n",
       " 328: 'Short-term deposits, Medium-term deposits, Long-term deposits, e-account, Payroll, Direct Debit',\n",
       " 329: 'Current Accounts, Funds, Credit Card',\n",
       " 330: 'Current Accounts, Payroll Account, Taxes, Credit Card, Securities, Payroll, Direct Debit',\n",
       " 331: 'Current Accounts, e-account, Securities, Payroll',\n",
       " 332: 'Current Accounts, Payroll Account, Long-term deposits, Payroll, Direct Debit',\n",
       " 333: 'Current Accounts, Payroll Account, Long-term deposits, e-account, Pensions, Taxes, Credit Card, Direct Debit',\n",
       " 334: 'Pensions, Credit Card',\n",
       " 335: 'Current Accounts, e-account, Taxes, Securities',\n",
       " 336: 'Current Accounts, Payroll Account, e-account, Loans, Credit Card, Direct Debit',\n",
       " 337: 'Payroll Account, Long-term deposits, e-account, Taxes',\n",
       " 338: 'Payroll Account, Más particular Account, Direct Debit',\n",
       " 339: 'Payroll Account, Long-term deposits, Funds, Payroll',\n",
       " 340: 'Payroll Account, Long-term deposits, e-account, Pensions, Payroll',\n",
       " 341: 'Current Accounts, Payroll Account, Long-term deposits, e-account, Funds, Securities, Direct Debit',\n",
       " 342: 'Current Accounts, Medium-term deposits, Long-term deposits, e-account, Funds',\n",
       " 343: 'Payroll Account, Medium-term deposits, Payroll, Direct Debit',\n",
       " 344: 'Current Accounts, Medium-term deposits, Credit Card',\n",
       " 345: 'Payroll Account, Long-term deposits, Taxes, Credit Card, Payroll, Direct Debit',\n",
       " 346: 'Current Accounts, Funds, Pensions',\n",
       " 347: 'Payroll Account, Pensions, Taxes, Credit Card, Payroll, Direct Debit',\n",
       " 348: 'Current Accounts, Medium-term deposits, Long-term deposits, Credit Card',\n",
       " 349: 'Current Accounts, Payroll Account, Long-term deposits, e-account',\n",
       " 350: 'e-account, Home Account',\n",
       " 351: 'Payroll Account, Medium-term deposits, Long-term deposits, Payroll',\n",
       " 352: 'Payroll Account, e-account, Funds, Pensions, Taxes, Credit Card, Payroll, Direct Debit',\n",
       " 353: 'Current Accounts, Pensions, Securities, Direct Debit',\n",
       " 354: 'Payroll Account, e-account, Funds, Pensions, Credit Card, Payroll, Direct Debit',\n",
       " 355: 'Current Accounts, Short-term deposits, Direct Debit',\n",
       " 356: 'Payroll Account, e-account, Pensions, Credit Card, Securities, Payroll, Direct Debit',\n",
       " 357: 'Current Accounts, Más particular Account, Securities, Direct Debit',\n",
       " 358: 'Current Accounts, Payroll Account, Pensions, Credit Card, Payroll, Direct Debit',\n",
       " 359: 'Payroll Account, Pensions, Taxes, Payroll',\n",
       " 360: 'Current Accounts, Long-term deposits, e-account, Taxes, Securities',\n",
       " 361: 'Current Accounts, Pensions, Credit Card, Securities, Direct Debit',\n",
       " 362: 'Credit Card, Payroll',\n",
       " 363: 'Current Accounts, Payroll Account, Long-term deposits, e-account, Credit Card, Payroll, Direct Debit',\n",
       " 364: 'Current Accounts, Pensions, Securities',\n",
       " 365: 'Current Accounts, Payroll Account, Long-term deposits, Funds, Taxes, Credit Card, Securities, Direct Debit',\n",
       " 366: 'Current Accounts, Loans, Taxes, Credit Card, Direct Debit',\n",
       " 367: 'Current Accounts, e-account, Securities, Payroll, Direct Debit',\n",
       " 368: 'Current Accounts, Payroll Account, Funds',\n",
       " 369: 'Payroll Account, e-account, Funds, Credit Card, Securities, Payroll, Direct Debit',\n",
       " 370: 'Current Accounts, Funds, Taxes, Credit Card, Direct Debit',\n",
       " 371: 'Payroll Account, e-account, Loans, Taxes, Credit Card, Payroll, Direct Debit',\n",
       " 372: 'Current Accounts, Long-term deposits, Funds, Securities',\n",
       " 373: 'Current Accounts, Long-term deposits, e-account, Taxes, Securities, Direct Debit',\n",
       " 374: 'Current Accounts, Long-term deposits, e-account, Funds, Payroll',\n",
       " 375: 'Current Accounts, Derivada Account',\n",
       " 376: 'Current Accounts, Payroll Account, e-account, Funds, Taxes, Credit Card, Payroll, Direct Debit',\n",
       " 377: 'Current Accounts, Funds, Credit Card, Direct Debit',\n",
       " 378: 'Payroll Account, nan',\n",
       " 379: 'Current Accounts, Derivada Account, Long-term deposits, e-account, Taxes, Credit Card, Direct Debit',\n",
       " 380: 'Payroll Account, e-account, Pensions, Taxes',\n",
       " 381: 'Payroll Account, Más particular Account, Taxes, Credit Card, Direct Debit',\n",
       " 382: 'Medium-term deposits, Long-term deposits',\n",
       " 383: 'Credit Card, nan',\n",
       " 384: 'Current Accounts, Short-term deposits, Long-term deposits',\n",
       " 385: 'e-account, Funds, Pensions, Credit Card, Direct Debit',\n",
       " 386: 'Medium-term deposits, Direct Debit',\n",
       " 387: 'Payroll Account, Medium-term deposits, e-account, Payroll',\n",
       " 388: 'Current Accounts, Más particular Account, Securities',\n",
       " 389: 'Payroll Account, Más particular Account, Pensions, Taxes, Credit Card, Payroll, Direct Debit',\n",
       " 390: 'Current Accounts, Más particular Account, Long-term deposits, Taxes',\n",
       " 391: 'Payroll Account, Más particular Account, Long-term deposits, Taxes, Payroll, Direct Debit',\n",
       " 392: 'Payroll Account, Más particular Account, e-account, Payroll, Direct Debit',\n",
       " 393: 'Current Accounts, Payroll Account, Más particular Account, Taxes, Direct Debit',\n",
       " 394: 'Current Accounts, Más particular Account, Credit Card, Securities',\n",
       " 395: 'Payroll Account, particular Plus Account, e-account, Taxes, Credit Card, Direct Debit',\n",
       " 396: 'Payroll Account, Más particular Account, Payroll, Direct Debit',\n",
       " 397: 'Payroll Account, Más particular Account, Taxes',\n",
       " 398: 'Payroll Account, Más particular Account, Credit Card, Payroll',\n",
       " 399: 'Payroll Account, Más particular Account, e-account, Direct Debit',\n",
       " 400: 'Más particular Account, Taxes, Credit Card, Payroll, Direct Debit',\n",
       " 401: 'Más particular Account, e-account, Taxes, Payroll',\n",
       " 402: 'Current Accounts, Más particular Account, Medium-term deposits, Direct Debit',\n",
       " 403: 'Payroll Account, particular Account, Direct Debit',\n",
       " 404: 'Payroll Account, particular Plus Account, e-account, Credit Card, Payroll, Direct Debit',\n",
       " 405: 'Payroll Account, Más particular Account, Credit Card, Payroll, Direct Debit',\n",
       " 406: 'Current Accounts, Más particular Account, Credit Card, Direct Debit',\n",
       " 407: 'Payroll Account, Más particular Account, Short-term deposits, Long-term deposits, Payroll, Direct Debit',\n",
       " 408: 'Mortgage, Credit Card',\n",
       " 409: 'Current Accounts, Más particular Account, Long-term deposits, e-account',\n",
       " 410: 'Long-term deposits, Direct Debit',\n",
       " 411: 'Current Accounts, Payroll Account, Taxes, Payroll',\n",
       " 412: 'Payroll Account, Más particular Account, e-account',\n",
       " 413: 'Current Accounts, Más particular Account, e-account, Funds',\n",
       " 414: 'Current Accounts, Payroll Account, Más particular Account, e-account, Taxes, Credit Card, Payroll, Direct Debit',\n",
       " 415: 'Payroll Account, Más particular Account, Credit Card, Securities, Payroll, Direct Debit',\n",
       " 416: 'Payroll Account, e-account, Mortgage, Taxes, Credit Card, Payroll, Direct Debit',\n",
       " 417: 'Más particular Account, Credit Card, Direct Debit',\n",
       " 418: 'Más particular Account, Pensions',\n",
       " 419: 'Current Accounts, Más particular Account, Long-term deposits, Credit Card',\n",
       " 420: 'Current Accounts, Más particular Account, e-account, Direct Debit',\n",
       " 421: 'Current Accounts, e-account, Taxes, Credit Card, Home Account',\n",
       " 422: 'Payroll Account, particular Plus Account, Taxes, Credit Card, Payroll, Direct Debit',\n",
       " 423: 'Payroll Account, Más particular Account, Taxes, Securities, Payroll, Direct Debit',\n",
       " 424: 'Payroll Account, Long-term deposits, e-account, Securities, Payroll',\n",
       " 425: 'Payroll Account, Más particular Account, Credit Card, Direct Debit',\n",
       " 426: 'Current Accounts, Payroll Account, Más particular Account, Direct Debit',\n",
       " 427: 'Current Accounts, Mortgage, Credit Card, Direct Debit',\n",
       " 428: 'Current Accounts, Más particular Account, Taxes, Direct Debit',\n",
       " 429: 'Current Accounts, Más particular Account, e-account, Taxes, Credit Card, Direct Debit',\n",
       " 430: 'Current Accounts, Payroll Account, Más particular Account, Payroll',\n",
       " 431: 'Más particular Account, Home Account',\n",
       " 432: 'Current Accounts, Más particular Account, Loans, Direct Debit',\n",
       " 433: 'Current Accounts, Más particular Account, Long-term deposits, Pensions, Credit Card',\n",
       " 434: 'Payroll Account, Más particular Account, Taxes, Credit Card, Payroll, Direct Debit',\n",
       " 435: 'Current Accounts, Más particular Account, Payroll, Direct Debit',\n",
       " 436: 'particular Account',\n",
       " 437: 'Current Accounts, Más particular Account, Funds, Securities',\n",
       " 438: 'Payroll Account, e-account, Pensions, Credit Card, Payroll',\n",
       " 439: 'Current Accounts, Más particular Account, Taxes, Credit Card, Direct Debit',\n",
       " 440: 'Current Accounts, Payroll Account, Más particular Account, Credit Card, Direct Debit',\n",
       " 441: 'Current Accounts, Payroll Account, Más particular Account, Taxes, Credit Card, Direct Debit',\n",
       " 442: 'Más particular Account, Direct Debit',\n",
       " 443: 'Current Accounts, Más particular Account, Funds',\n",
       " 444: 'Payroll Account, Pensions, Payroll',\n",
       " 445: 'Más particular Account, Payroll',\n",
       " 446: 'Current Accounts, Más particular Account, e-account, Credit Card, Direct Debit',\n",
       " 447: 'Current Accounts, Más particular Account, Medium-term deposits, Taxes, Direct Debit',\n",
       " 448: 'Current Accounts, Más particular Account, e-account, Securities',\n",
       " 449: 'Current Accounts, Long-term deposits, e-account, Payroll',\n",
       " 450: 'Más particular Account, e-account, Securities',\n",
       " 451: 'Payroll Account, Más particular Account, Taxes, Payroll, Direct Debit',\n",
       " 452: 'Payroll Account, Más particular Account, e-account, Payroll',\n",
       " 453: 'Current Accounts, Más particular Account, Pensions, Direct Debit',\n",
       " 454: 'Current Accounts, Payroll Account, Long-term deposits, e-account, Securities, Payroll, Direct Debit',\n",
       " 455: 'Payroll Account, Más particular Account, Long-term deposits, Taxes, Credit Card, Payroll',\n",
       " 456: 'Current Accounts, particular Plus Account, Direct Debit',\n",
       " 457: 'Current Accounts, Payroll Account, Más particular Account, Taxes, Credit Card, Payroll, Direct Debit',\n",
       " 458: 'Current Accounts, Más particular Account, Payroll',\n",
       " 459: 'Payroll Account, Más particular Account, Taxes, Direct Debit',\n",
       " 460: 'Payroll Account, Más particular Account, Funds, Taxes, Direct Debit',\n",
       " 461: 'Payroll Account, Más particular Account, Credit Card',\n",
       " 462: 'Current Accounts, Payroll Account, Más particular Account, Credit Card, Securities, Payroll, Direct Debit',\n",
       " 463: 'Payroll Account, Más particular Account, Long-term deposits, Taxes, Credit Card, Direct Debit',\n",
       " 464: 'Payroll Account, Más particular Account, e-account, Credit Card, Payroll',\n",
       " 465: 'Payroll Account, Más particular Account, Pensions, Taxes, Payroll, Direct Debit',\n",
       " 466: 'Long-term deposits, Pensions',\n",
       " 467: 'Payroll Account, Más particular Account, particular Account, Taxes, Direct Debit',\n",
       " 468: 'Current Accounts, e-account, Taxes, Credit Card, Securities, Direct Debit',\n",
       " 469: 'Current Accounts, Más particular Account, e-account, Taxes',\n",
       " 470: 'Payroll Account, Más particular Account, e-account, Taxes, Direct Debit',\n",
       " 471: 'Current Accounts, Más particular Account, e-account, Credit Card',\n",
       " 472: 'Current Accounts, e-account, Pensions, Credit Card',\n",
       " 473: 'Más particular Account, Payroll, Direct Debit',\n",
       " 474: 'Más particular Account, Credit Card',\n",
       " 475: 'Payroll Account, Más particular Account, Long-term deposits, Direct Debit',\n",
       " 476: 'Current Accounts, Payroll Account, Más particular Account, Payroll, Direct Debit',\n",
       " 477: 'Payroll Account, Más particular Account, e-account, Pensions, Taxes, Credit Card, Direct Debit',\n",
       " 478: 'Current Accounts, Más particular Account, e-account, Taxes, Direct Debit',\n",
       " 479: 'Current Accounts, Más particular Account, Funds, Credit Card',\n",
       " 480: 'Current Accounts, Más particular Account, Long-term deposits, e-account, Securities, Direct Debit',\n",
       " 481: 'Current Accounts, Más particular Account, Taxes, Credit Card',\n",
       " 482: 'Current Accounts, particular Plus Account',\n",
       " 483: 'Payroll Account, Más particular Account, Long-term deposits, Payroll, Direct Debit',\n",
       " 484: 'Más particular Account, Credit Card, Payroll, Direct Debit',\n",
       " 485: 'Current Accounts, Más particular Account, Funds, Direct Debit',\n",
       " 486: 'Current Accounts, Más particular Account, Medium-term deposits',\n",
       " 487: 'Current Accounts, particular Account, Direct Debit',\n",
       " 488: 'Current Accounts, e-account, Pensions, Taxes, Credit Card, Direct Debit',\n",
       " 489: 'Current Accounts, Más particular Account, Long-term deposits, Pensions, Credit Card, Direct Debit',\n",
       " 490: 'Payroll Account, e-account, Pensions, Credit Card, Securities, Payroll',\n",
       " 491: 'Current Accounts, Más particular Account, Long-term deposits, Securities, Direct Debit',\n",
       " 492: 'Current Accounts, particular Account',\n",
       " 493: 'Payroll Account, Taxes, nan',\n",
       " 494: 'Current Accounts, Funds, Securities, Payroll',\n",
       " 495: 'Payroll Account, Más particular Account, Taxes, Payroll',\n",
       " 496: 'Payroll Account, Más particular Account, e-account, Credit Card, Payroll, Direct Debit',\n",
       " 497: 'Current Accounts, Long-term deposits, e-account, Funds, Credit Card, Securities, Direct Debit',\n",
       " 498: 'Current Accounts, Payroll Account, Long-term deposits, e-account, Taxes, Credit Card, Payroll, Direct Debit',\n",
       " 499: 'Current Accounts, Credit Card, Payroll, Direct Debit',\n",
       " 500: 'Payroll Account, Más particular Account, e-account, Credit Card, Direct Debit',\n",
       " 501: 'Current Accounts, Más particular Account, Long-term deposits, Securities',\n",
       " 502: 'Current Accounts, Más particular Account, Long-term deposits, Taxes, Direct Debit',\n",
       " 503: 'Current Accounts, Payroll Account, Más particular Account, Taxes, Credit Card, Payroll',\n",
       " 504: 'Current Accounts, Más particular Account, Credit Card, Payroll, Direct Debit',\n",
       " 505: 'Payroll Account, Long-term deposits, e-account, Credit Card, Securities, Direct Debit',\n",
       " 506: 'Payroll Account, Short-term deposits',\n",
       " 507: 'Payroll Account, Más particular Account, Taxes, Credit Card, Securities, Direct Debit',\n",
       " 508: 'Current Accounts, Payroll Account, Más particular Account, Taxes, Payroll, Direct Debit',\n",
       " 509: 'Payroll Account, Más particular Account, Taxes, Credit Card, Securities, Payroll, Direct Debit',\n",
       " 510: 'Current Accounts, Más particular Account, Long-term deposits, Credit Card, Direct Debit',\n",
       " 511: 'Payroll Account, Más particular Account, Long-term deposits, Credit Card, Payroll, Direct Debit',\n",
       " 512: 'Current Accounts, Más particular Account, Long-term deposits, e-account, Funds',\n",
       " 513: 'Payroll Account, e-account, Funds, Pensions, Credit Card, Securities, Payroll, Direct Debit',\n",
       " 514: 'Payroll Account, Más particular Account, e-account, Taxes, Payroll, Direct Debit',\n",
       " 515: 'Current Accounts, Payroll Account, e-account, Mortgage, Payroll, Direct Debit',\n",
       " 516: 'Current Accounts, Long-term deposits, Taxes, Home Account',\n",
       " 517: 'Payroll Account, Credit Card, Home Account, Payroll',\n",
       " 518: 'Current Accounts, Long-term deposits, e-account, Credit Card, Securities, Direct Debit',\n",
       " 519: 'Current Accounts, Payroll Account, Más particular Account, Pensions, Credit Card, Payroll, Direct Debit',\n",
       " 520: 'Current Accounts, Más particular Account, Funds, Credit Card, Securities',\n",
       " 521: 'Derivada Account, Payroll Account, Funds, Pensions, Securities, Direct Debit',\n",
       " 522: 'Payroll Account, Más particular Account, e-account, Taxes, Credit Card, Payroll, Direct Debit',\n",
       " 523: 'Payroll Account, Mortgage, Taxes, Payroll, Direct Debit',\n",
       " 524: 'Current Accounts, Payroll Account, Loans, Taxes, Credit Card, Payroll, Direct Debit',\n",
       " 525: 'Payroll Account, Más particular Account, e-account, Funds, Credit Card, Payroll, Direct Debit',\n",
       " 526: 'Payroll Account, Más particular Account, e-account, Credit Card',\n",
       " 527: 'Current Accounts, Más particular Account, particular Plus Account, Securities',\n",
       " 528: 'Payroll Account, particular Plus Account, Taxes',\n",
       " 529: 'Current Accounts, Payroll Account, Más particular Account, Credit Card, Payroll, Direct Debit',\n",
       " 530: 'Current Accounts, Payroll Account, Más particular Account, e-account, Credit Card, Payroll, Direct Debit',\n",
       " 531: 'Current Accounts, Más particular Account, Taxes, Securities',\n",
       " 532: 'Payroll Account, Más particular Account, Taxes, Credit Card, Payroll',\n",
       " 533: 'Payroll Account, Más particular Account, Pensions, Taxes, Credit Card, Securities, Direct Debit',\n",
       " 534: 'Más particular Account, Taxes, Credit Card',\n",
       " 535: 'Payroll Account, Más particular Account, Long-term deposits, e-account, Credit Card, Payroll, Direct Debit',\n",
       " 536: 'Long-term deposits, e-account, Payroll, Direct Debit',\n",
       " 537: 'Payroll Account, Más particular Account, Long-term deposits, e-account, Funds, Taxes, Securities, Payroll, Direct Debit',\n",
       " 538: 'Payroll Account, Más particular Account, Long-term deposits',\n",
       " 539: 'Payroll Account, particular Plus Account, e-account, Taxes, Credit Card, Payroll, Direct Debit',\n",
       " 540: 'Current Accounts, Funds, Securities, Direct Debit',\n",
       " 541: 'Current Accounts, e-account, Pensions, Credit Card, Direct Debit',\n",
       " 542: 'Más particular Account, Funds, Credit Card',\n",
       " 543: 'Current Accounts, Más particular Account, Pensions',\n",
       " 544: 'Más particular Account, Long-term deposits, Taxes, Credit Card, Direct Debit',\n",
       " 545: 'Current Accounts, Payroll Account, e-account, Funds, Taxes, Direct Debit',\n",
       " 546: 'Current Accounts, Más particular Account, Taxes, Securities, Direct Debit',\n",
       " 547: 'Current Accounts, Más particular Account, Medium-term deposits, Long-term deposits, Direct Debit',\n",
       " 548: 'e-account, Taxes, Payroll, Direct Debit',\n",
       " 549: 'Payroll Account, Credit Card, Securities, Direct Debit',\n",
       " 550: 'Current Accounts, Payroll Account, Funds, Taxes, Direct Debit',\n",
       " 551: 'particular Plus Account',\n",
       " 552: 'Current Accounts, Más particular Account, Pensions, Credit Card, Payroll, Direct Debit',\n",
       " 553: 'Más particular Account, particular Account',\n",
       " 554: 'Current Accounts, Más particular Account, Medium-term deposits, e-account, Securities',\n",
       " 555: 'Payroll Account, Más particular Account, Funds, Credit Card, Payroll',\n",
       " 556: 'Current Accounts, Taxes, Credit Card, Securities',\n",
       " 557: 'Payroll Account, Más particular Account, Long-term deposits, Credit Card, Direct Debit',\n",
       " 558: 'Payroll Account, Más particular Account, Securities',\n",
       " 559: 'Payroll Account, Más particular Account, e-account, Pensions, Payroll',\n",
       " 560: 'Current Accounts, Payroll Account, Más particular Account, Taxes, Securities, Payroll, Direct Debit',\n",
       " 561: 'Payroll Account, Más particular Account, e-account, Funds, Pensions, Credit Card, Payroll, Direct Debit',\n",
       " 562: 'Current Accounts, Funds, Pensions, Securities',\n",
       " 563: 'Current Accounts, Payroll Account, e-account, Taxes, Credit Card, Securities, Payroll, Direct Debit',\n",
       " 564: 'Current Accounts, Payroll Account, Más particular Account, e-account, Payroll, Direct Debit',\n",
       " 565: 'Payroll Account, Más particular Account, particular Account, Direct Debit',\n",
       " 566: 'Payroll Account, e-account, Funds, Credit Card, Payroll',\n",
       " 567: 'Payroll Account, particular Plus Account, Long-term deposits, Payroll, Direct Debit',\n",
       " 568: 'Payroll Account, Más particular Account, e-account, Funds, Taxes, Direct Debit',\n",
       " 569: 'Current Accounts, Más particular Account, Long-term deposits, e-account, Credit Card, Direct Debit',\n",
       " 570: 'Current Accounts, Más particular Account, e-account, Credit Card, Securities',\n",
       " 571: 'Payroll Account, particular Plus Account, Payroll',\n",
       " 572: 'Current Accounts, Más particular Account, Taxes, Payroll, Direct Debit',\n",
       " 573: 'Payroll Account, Long-term deposits, Funds, Credit Card, Payroll, Direct Debit',\n",
       " 574: 'Current Accounts, Payroll Account, Más particular Account, Long-term deposits, Direct Debit',\n",
       " 575: 'Current Accounts, Más particular Account, Pensions, Securities',\n",
       " 576: 'Payroll Account, Más particular Account, Securities, Payroll, Direct Debit',\n",
       " 577: 'Payroll Account, particular Plus Account, Long-term deposits, Taxes, Credit Card, Direct Debit',\n",
       " 578: 'Current Accounts, Más particular Account, Long-term deposits, e-account, Taxes, Credit Card, Direct Debit',\n",
       " 579: 'Payroll Account, e-account, Taxes, Securities, Payroll, Direct Debit',\n",
       " 580: 'Current Accounts, Taxes, Home Account, Direct Debit',\n",
       " 581: 'Current Accounts, Más particular Account, Long-term deposits, e-account, Direct Debit',\n",
       " 582: 'Payroll Account, Más particular Account, Credit Card, Securities, Direct Debit',\n",
       " 583: 'Payroll Account, Más particular Account, Long-term deposits, Taxes, Direct Debit',\n",
       " 584: 'Current Accounts, Payroll Account, Long-term deposits, e-account, Credit Card, Direct Debit',\n",
       " 585: 'Payroll Account, e-account, Funds, Taxes, Payroll',\n",
       " 586: 'Current Accounts, Más particular Account, e-account, Taxes, Payroll, Direct Debit',\n",
       " 587: 'Payroll Account, particular Plus Account, Taxes, Payroll, Direct Debit',\n",
       " 588: 'Current Accounts, Más particular Account, particular Plus Account, Direct Debit',\n",
       " 589: 'Más particular Account, Long-term deposits, e-account',\n",
       " 590: 'Payroll Account, Long-term deposits, e-account, Funds, Credit Card, Securities, Direct Debit',\n",
       " 591: 'Payroll Account, Long-term deposits, Taxes, Direct Debit',\n",
       " 592: 'Current Accounts, Más particular Account, Pensions, Credit Card, Direct Debit',\n",
       " 593: 'Current Accounts, Más particular Account, Long-term deposits, Pensions',\n",
       " 594: 'Current Accounts, Home Account',\n",
       " 595: 'Payroll Account, Más particular Account, Long-term deposits, e-account, Taxes, Credit Card, Payroll',\n",
       " 596: 'Current Accounts, particular Account, Credit Card',\n",
       " 597: 'Current Accounts, Payroll Account, Long-term deposits, e-account, Taxes, Payroll, Direct Debit',\n",
       " 598: 'Más particular Account, e-account, Taxes, Credit Card, Direct Debit',\n",
       " 599: 'Junior Account, Long-term deposits',\n",
       " 600: 'Current Accounts, Más particular Account, Long-term deposits, e-account, Loans, Taxes, Credit Card, Direct Debit',\n",
       " 601: 'Payroll Account, Más particular Account, Long-term deposits, Taxes, Credit Card, Payroll, Direct Debit',\n",
       " 602: 'Payroll Account, Más particular Account, Securities, Payroll',\n",
       " 603: 'Payroll Account, Long-term deposits, e-account, Home Account',\n",
       " 604: 'Payroll Account, Más particular Account, e-account, Mortgage, Payroll, Direct Debit',\n",
       " 605: 'Payroll Account, Más particular Account, Long-term deposits, e-account, Taxes, Credit Card, Direct Debit',\n",
       " 606: 'Payroll Account, Más particular Account, e-account, Taxes',\n",
       " 607: 'Current Accounts, Más particular Account, e-account, Taxes, Credit Card, Payroll, Direct Debit',\n",
       " 608: 'Payroll Account, particular Plus Account, Taxes, Credit Card',\n",
       " 609: 'Current Accounts, Más particular Account, Long-term deposits, e-account, Taxes, Payroll',\n",
       " 610: 'Más particular Account, e-account, Funds',\n",
       " 611: 'Current Accounts, particular Plus Account, e-account',\n",
       " 612: 'Current Accounts, particular Plus Account, Home Account',\n",
       " 613: 'Current Accounts, Payroll Account, particular Plus Account, Payroll, Direct Debit',\n",
       " 614: 'Payroll Account, Long-term deposits, Funds, Taxes, Securities, Payroll, Direct Debit',\n",
       " 615: 'Current Accounts, particular Plus Account, Long-term deposits',\n",
       " 616: 'Payroll Account, particular Plus Account, Funds, Credit Card',\n",
       " 617: 'Current Accounts, particular Plus Account, Securities, Direct Debit',\n",
       " 618: 'Current Accounts, Long-term deposits, Pensions, Taxes',\n",
       " 619: 'particular Plus Account, Long-term deposits',\n",
       " 620: 'Current Accounts, particular Plus Account, Long-term deposits, Funds',\n",
       " 621: 'Current Accounts, particular Plus Account, Pensions, Direct Debit',\n",
       " 622: 'Current Accounts, particular Plus Account, Long-term deposits, Credit Card',\n",
       " 623: 'particular Plus Account, Taxes',\n",
       " 624: 'Payroll Account, Long-term deposits, e-account, Funds, Securities, Direct Debit',\n",
       " 625: 'Current Accounts, particular Plus Account, Long-term deposits, Direct Debit',\n",
       " 626: 'Payroll Account, particular Plus Account, e-account, Credit Card, Direct Debit',\n",
       " 627: 'Payroll Account, particular Plus Account, Payroll, Direct Debit',\n",
       " 628: 'Payroll Account, particular Plus Account',\n",
       " 629: 'Payroll Account, particular Plus Account, Taxes, Payroll',\n",
       " 630: 'Current Accounts, particular Plus Account, Long-term deposits, Taxes',\n",
       " 631: 'Payroll Account, particular Plus Account, Taxes, Credit Card, Direct Debit',\n",
       " 632: 'Current Accounts, particular Plus Account, Credit Card',\n",
       " 633: 'Payroll Account, particular Plus Account, Direct Debit',\n",
       " 634: 'Current Accounts, particular Plus Account, Taxes',\n",
       " 635: 'Current Accounts, particular Plus Account, e-account, Credit Card, Direct Debit',\n",
       " 636: 'Current Accounts, particular Plus Account, e-account, Credit Card',\n",
       " 637: 'Current Accounts, particular Plus Account, Long-term deposits, e-account, Direct Debit',\n",
       " 638: 'Payroll Account, Long-term deposits, e-account, Funds, Credit Card, Securities, Payroll, Direct Debit',\n",
       " 639: 'particular Plus Account, Credit Card',\n",
       " 640: 'Current Accounts, Payroll Account, particular Plus Account, Long-term deposits, Payroll, Direct Debit',\n",
       " 641: 'Current Accounts, particular Plus Account, Credit Card, Direct Debit',\n",
       " 642: 'Payroll Account, particular Plus Account, Credit Card, Direct Debit',\n",
       " 643: 'Current Accounts, Funds, Taxes',\n",
       " 644: 'Current Accounts, Payroll Account, particular Plus Account, e-account, Mortgage, Credit Card, Securities, Payroll, Direct Debit',\n",
       " 645: 'Current Accounts, particular Plus Account, Securities',\n",
       " 646: 'Payroll Account, particular Plus Account, Long-term deposits, Securities, Payroll, Direct Debit',\n",
       " 647: 'Current Accounts, particular Plus Account, e-account, Securities, Direct Debit',\n",
       " 648: 'Current Accounts, particular Plus Account, Funds',\n",
       " 649: 'Current Accounts, particular Account, e-account, Direct Debit',\n",
       " 650: 'Payroll Account, particular Plus Account, Credit Card, Payroll, Direct Debit',\n",
       " 651: 'Payroll Account, particular Plus Account, Long-term deposits, Credit Card, Payroll, Direct Debit',\n",
       " 652: 'Payroll Account, Long-term deposits, e-account, Funds, Taxes, Credit Card, Securities, Payroll, Direct Debit',\n",
       " 653: 'Credit Card, Securities',\n",
       " 654: 'particular Plus Account, Taxes, Credit Card, Direct Debit',\n",
       " 655: 'Current Accounts, e-account, Taxes, Credit Card, Payroll, Direct Debit',\n",
       " 656: 'Payroll Account, particular Plus Account, Securities, Payroll, Direct Debit',\n",
       " 657: 'Current Accounts, particular Plus Account, Taxes, Credit Card, Direct Debit',\n",
       " 658: 'Current Accounts, particular Plus Account, Taxes, Direct Debit',\n",
       " 659: 'Current Accounts, Payroll Account, particular Plus Account, Direct Debit',\n",
       " 660: 'Current Accounts, particular Plus Account, e-account, Taxes',\n",
       " 661: 'Payroll Account, Más particular Account, particular Account, Payroll',\n",
       " 662: 'Current Accounts, particular Plus Account, Long-term deposits, Credit Card, Direct Debit',\n",
       " 663: 'Payroll Account, e-account, Funds, Taxes, Credit Card, Payroll, Direct Debit',\n",
       " 664: 'Payroll Account, Long-term deposits, Credit Card, Direct Debit',\n",
       " 665: 'Current Accounts, particular Plus Account, Taxes, Credit Card',\n",
       " 666: 'Payroll Account, particular Plus Account, Taxes, Credit Card, Securities, Payroll, Direct Debit',\n",
       " 667: 'Long-term deposits, Taxes',\n",
       " 668: 'Current Accounts, particular Plus Account, Long-term deposits, e-account, Funds',\n",
       " 669: 'Payroll Account, particular Plus Account, Long-term deposits, e-account, Payroll, Direct Debit',\n",
       " 670: 'Current Accounts, particular Plus Account, Long-term deposits, Credit Card, Securities, Direct Debit',\n",
       " 671: 'Payroll Account, Long-term deposits, e-account, Pensions, Credit Card, Payroll, Direct Debit',\n",
       " 672: 'Current Accounts, Payroll Account, particular Plus Account, Credit Card, Direct Debit',\n",
       " 673: 'Payroll Account, Más particular Account, Long-term deposits, e-account, Funds, Taxes, Direct Debit',\n",
       " 674: 'Current Accounts, Payroll Account, Long-term deposits, Taxes, Credit Card, Payroll, Direct Debit',\n",
       " 675: 'Payroll Account, particular Plus Account, Long-term deposits, e-account, Direct Debit',\n",
       " 676: 'Payroll Account, particular Plus Account, Long-term deposits, Direct Debit',\n",
       " 677: 'Payroll Account, particular Plus Account, Long-term deposits, Funds, Payroll',\n",
       " 678: 'Payroll Account, particular Plus Account, Taxes, Securities, Direct Debit',\n",
       " 679: 'Payroll Account, Long-term deposits, e-account, Taxes, Securities, Payroll, Direct Debit',\n",
       " 680: 'Current Accounts, particular Plus Account, Long-term deposits, e-account',\n",
       " 681: 'Payroll Account, e-account, Funds, Taxes, Payroll, Direct Debit',\n",
       " 682: 'Payroll Account, e-account, Pensions, Taxes, Credit Card, Securities, Payroll, Direct Debit',\n",
       " 683: 'particular Plus Account, e-account',\n",
       " 684: 'Payroll Account, particular Plus Account, e-account, Payroll, Direct Debit',\n",
       " 685: 'Payroll Account, particular Plus Account, Taxes, Direct Debit',\n",
       " 686: 'Payroll Account, particular Plus Account, e-account, Credit Card',\n",
       " 687: 'Payroll Account, particular Plus Account, Credit Card',\n",
       " 688: 'Current Accounts, particular Plus Account, e-account, Direct Debit',\n",
       " 689: 'Payroll Account, Más particular Account, Long-term deposits, Credit Card, Securities, Payroll, Direct Debit',\n",
       " 690: 'Payroll Account, particular Plus Account, Long-term deposits, e-account, Pensions, Taxes, Securities, Payroll, Direct Debit',\n",
       " 691: 'Payroll Account, Long-term deposits, e-account, Pensions, Taxes, Payroll, Direct Debit',\n",
       " 692: 'Más particular Account, Medium-term deposits',\n",
       " 693: 'Payroll Account, Long-term deposits, Pensions, Taxes, Payroll',\n",
       " 694: 'Current Accounts, particular Plus Account, Credit Card, Securities',\n",
       " 695: 'Payroll Account, Taxes, Credit Card, Securities, Payroll, Direct Debit',\n",
       " 696: 'Current Accounts, particular Plus Account, Long-term deposits, e-account, Credit Card, Direct Debit',\n",
       " 697: 'Current Accounts, Payroll Account, Más particular Account, particular Plus Account, e-account, Credit Card, Direct Debit',\n",
       " 698: 'Long-term deposits, Taxes, Credit Card',\n",
       " 699: 'Current Accounts, particular Plus Account, e-account, Funds',\n",
       " 700: 'Payroll Account, particular Plus Account, Securities, Payroll',\n",
       " 701: 'Current Accounts, particular Plus Account, Long-term deposits, Securities',\n",
       " 702: 'Payroll Account, e-account, Funds, Taxes, Credit Card, Direct Debit',\n",
       " 703: 'Current Accounts, Long-term deposits, Taxes, Credit Card, Direct Debit',\n",
       " 704: 'Payroll Account, particular Plus Account, Long-term deposits, Payroll',\n",
       " 705: 'Current Accounts, Payroll Account, particular Plus Account',\n",
       " 706: 'Current Accounts, e-account, Funds, Payroll, Direct Debit',\n",
       " 707: 'Current Accounts, particular Plus Account, Funds, Securities',\n",
       " 708: 'Payroll Account, Long-term deposits, Taxes, Payroll',\n",
       " 709: 'Payroll Account, particular Plus Account, e-account, Direct Debit',\n",
       " 710: 'Current Accounts, Payroll Account, particular Plus Account, Securities, Direct Debit',\n",
       " 711: 'Payroll Account, particular Plus Account, e-account, Payroll',\n",
       " 712: 'Payroll Account, particular Plus Account, Long-term deposits, Taxes, Securities, Payroll, Direct Debit',\n",
       " 713: 'Payroll Account, particular Plus Account, Long-term deposits, Pensions, Payroll, Direct Debit',\n",
       " 714: 'Payroll Account, particular Plus Account, Credit Card, Payroll',\n",
       " 715: 'Payroll Account, particular Account, e-account, Payroll',\n",
       " 716: 'e-account, Pensions, Credit Card, Payroll',\n",
       " 717: 'Short-term deposits, Taxes',\n",
       " 718: 'Payroll Account, particular Plus Account, Long-term deposits, Funds, Credit Card, Payroll, Direct Debit',\n",
       " 719: 'Payroll Account, Long-term deposits, Taxes, Securities, Payroll',\n",
       " 720: 'Current Accounts, Payroll Account, particular Plus Account, Long-term deposits, Taxes, Direct Debit',\n",
       " 721: 'Current Accounts, particular Plus Account, Pensions, Credit Card, Payroll',\n",
       " 722: 'Current Accounts, Derivada Account, particular Plus Account',\n",
       " 723: 'Current Accounts, particular Plus Account, Long-term deposits, Taxes, Credit Card',\n",
       " 724: 'Payroll Account, particular Account, particular Plus Account',\n",
       " 725: 'Current Accounts, Payroll Account, particular Plus Account, Long-term deposits, Funds, Payroll, Direct Debit',\n",
       " 726: 'Current Accounts, Payroll Account, particular Plus Account, Long-term deposits, Taxes, Payroll, Direct Debit',\n",
       " 727: 'Payroll Account, Mortgage, Taxes, Credit Card, Payroll, Direct Debit',\n",
       " 728: 'Payroll Account, Más particular Account, Long-term deposits, e-account, Direct Debit',\n",
       " 729: 'Payroll Account, Long-term deposits, e-account, Pensions, Taxes, Direct Debit',\n",
       " 730: 'Payroll Account, Long-term deposits, Loans, Taxes, Payroll, Direct Debit',\n",
       " 731: 'Current Accounts, particular Account, particular Plus Account',\n",
       " 732: 'Current Accounts, Payroll Account, Securities, Direct Debit',\n",
       " 733: 'Current Accounts, Payroll Account, e-account, Funds, Mortgage, Credit Card, Securities, Direct Debit',\n",
       " 734: 'Current Accounts, particular Plus Account, Long-term deposits, Funds, Direct Debit',\n",
       " 735: 'Más particular Account, Long-term deposits, e-account, Direct Debit',\n",
       " 736: 'Payroll Account, e-account, Mortgage, Credit Card, Direct Debit',\n",
       " 737: 'Current Accounts, Payroll Account, Funds, Credit Card, Payroll, Direct Debit',\n",
       " 738: 'Current Accounts, particular Plus Account, Funds, Direct Debit',\n",
       " 739: 'Current Accounts, Más particular Account, particular Plus Account',\n",
       " 740: 'Payroll Account, particular Plus Account, Funds, Taxes, Credit Card, Payroll, Direct Debit',\n",
       " 741: 'Current Accounts, particular Plus Account, e-account, Taxes, Credit Card, Direct Debit',\n",
       " 742: 'Payroll Account, particular Plus Account, Long-term deposits, Taxes, Credit Card, Payroll',\n",
       " 743: 'Current Accounts, Payroll Account, Long-term deposits, e-account, Funds, Payroll, Direct Debit',\n",
       " 744: 'Current Accounts, particular Plus Account, Long-term deposits, Funds, Taxes',\n",
       " 745: 'Payroll Account, particular Plus Account, e-account, Mortgage, Taxes, Credit Card, Securities, Payroll, Direct Debit',\n",
       " 746: 'Current Accounts, particular Plus Account, Payroll, Direct Debit',\n",
       " 747: 'Current Accounts, Payroll Account, particular Plus Account, e-account, Credit Card, Payroll, Direct Debit',\n",
       " 748: 'Payroll Account, particular Plus Account, Pensions',\n",
       " 749: 'Payroll Account, particular Plus Account, Funds, Taxes, Direct Debit',\n",
       " 750: 'Current Accounts, Payroll Account, Más particular Account, Long-term deposits, Taxes, Credit Card, Payroll, Direct Debit',\n",
       " 751: 'Current Accounts, Payroll Account, Long-term deposits, e-account, Credit Card, Home Account, Payroll, Direct Debit',\n",
       " 752: 'Current Accounts, Más particular Account, Long-term deposits, e-account, Taxes, Direct Debit',\n",
       " 753: 'Current Accounts, Payroll Account, Loans, Credit Card, Payroll, Direct Debit',\n",
       " 754: 'Current Accounts, Payroll Account, Más particular Account, Taxes, Credit Card, Securities, Payroll, Direct Debit',\n",
       " 755: 'Current Accounts, Más particular Account, Long-term deposits, Taxes, Credit Card, Direct Debit',\n",
       " 756: 'Payroll Account, Taxes, Credit Card, Securities, Direct Debit',\n",
       " 757: 'Current Accounts, Payroll Account, Más particular Account, Long-term deposits, Payroll, Direct Debit',\n",
       " 758: 'Current Accounts, particular Account, Taxes, Credit Card',\n",
       " 759: 'Más particular Account, e-account, Taxes',\n",
       " 760: 'Payroll Account, Más particular Account, Taxes, Securities, Direct Debit',\n",
       " 761: 'Payroll Account, Taxes, Securities, Payroll',\n",
       " 762: 'Payroll Account, particular Plus Account, e-account, Securities',\n",
       " 763: 'Current Accounts, particular Plus Account, Long-term deposits, Funds, Credit Card',\n",
       " 764: 'Guarantees, Current Accounts, Pensions, Credit Card, Securities',\n",
       " 765: 'Payroll Account, particular Plus Account, e-account, Taxes, Direct Debit',\n",
       " 766: 'Current Accounts, Medium-term deposits, Long-term deposits, Securities',\n",
       " 767: 'Current Accounts, particular Plus Account, Funds, Taxes',\n",
       " 768: 'Current Accounts, Long-term deposits, Credit Card, Securities, Direct Debit',\n",
       " 769: 'Payroll Account, particular Plus Account, e-account',\n",
       " 770: 'Payroll Account, Long-term deposits, Credit Card',\n",
       " 771: 'Current Accounts, Long-term deposits, e-account, Taxes, Credit Card, Securities',\n",
       " 772: 'Payroll Account, e-account, Funds, Pensions, Credit Card, Securities',\n",
       " 773: 'Payroll Account, Pensions, Credit Card, Securities, Direct Debit',\n",
       " 774: 'Payroll Account, particular Plus Account, Medium-term deposits, Taxes, Credit Card, Payroll, Direct Debit',\n",
       " 775: 'Payroll Account, particular Plus Account, e-account, Taxes, Payroll, Direct Debit',\n",
       " 776: 'Payroll Account, particular Plus Account, Long-term deposits, e-account, Credit Card, Payroll, Direct Debit',\n",
       " 777: 'Payroll Account, particular Plus Account, Long-term deposits, Taxes, Direct Debit',\n",
       " 778: 'Current Accounts, particular Plus Account, Pensions, Payroll, Direct Debit',\n",
       " 779: 'Payroll Account, Long-term deposits, Credit Card, Securities',\n",
       " 780: 'Payroll Account, particular Plus Account, Long-term deposits, e-account',\n",
       " 781: 'Current Accounts, particular Plus Account, Funds, Credit Card, Securities',\n",
       " 782: 'Payroll Account, particular Plus Account, Long-term deposits, Credit Card, Direct Debit',\n",
       " 783: 'Current Accounts, particular Plus Account, e-account, Securities',\n",
       " 784: 'Current Accounts, particular Plus Account, Long-term deposits, e-account, Taxes, Direct Debit',\n",
       " 785: 'Payroll Account, particular Plus Account, Securities',\n",
       " 786: 'Payroll Account, particular Plus Account, e-account, Taxes',\n",
       " 787: 'Current Accounts, Payroll Account, particular Plus Account, Taxes, Payroll, Direct Debit',\n",
       " 788: 'Payroll Account, e-account, Funds, Taxes, Securities, Payroll, Direct Debit',\n",
       " 789: 'Current Accounts, particular Plus Account, Long-term deposits, e-account, Taxes',\n",
       " 790: 'Payroll Account, particular Plus Account, Long-term deposits, Credit Card, Payroll',\n",
       " 791: 'Payroll Account, particular Plus Account, Long-term deposits',\n",
       " 792: 'Current Accounts, particular Plus Account, Pensions',\n",
       " 793: 'Payroll Account, particular Plus Account, Long-term deposits, e-account, Funds, Taxes, Credit Card, Direct Debit',\n",
       " 794: 'Payroll Account, e-account, Funds, Pensions, Securities, Payroll',\n",
       " 795: 'Payroll Account, particular Plus Account, Long-term deposits, e-account, Funds, Taxes, Direct Debit',\n",
       " 796: 'e-account, Funds, Taxes',\n",
       " 797: 'Payroll Account, Long-term deposits, e-account, Taxes, Payroll',\n",
       " 798: 'Payroll Account, Más particular Account, e-account, Credit Card, Securities',\n",
       " 799: 'Payroll Account, Funds, Payroll, Direct Debit',\n",
       " 800: 'Payroll Account, e-account, Home Account',\n",
       " 801: 'Current Accounts, Payroll Account, Más particular Account, e-account, Securities, Payroll, Direct Debit',\n",
       " 802: 'Payroll Account, Long-term deposits, e-account, Pensions, Taxes, Credit Card, Securities, Payroll, Direct Debit',\n",
       " 803: 'Current Accounts, Payroll Account, Long-term deposits, e-account, Direct Debit',\n",
       " 804: 'Payroll Account, Más particular Account, Pensions, Direct Debit',\n",
       " 805: 'Current Accounts, Más particular Account, Long-term deposits, Funds, Credit Card',\n",
       " 806: 'Current Accounts, Más particular Account, Long-term deposits, Payroll, Direct Debit',\n",
       " 807: 'e-account, Taxes, Credit Card',\n",
       " 808: 'Payroll Account, Long-term deposits, e-account, Funds, Pensions, Direct Debit',\n",
       " 809: 'Current Accounts, Pensions, Direct Debit',\n",
       " 810: 'Payroll Account, Mortgage, Direct Debit',\n",
       " 811: 'Payroll Account, Más particular Account, Taxes, Credit Card',\n",
       " 812: 'Payroll Account, Más particular Account, Funds, Credit Card, Payroll, Direct Debit',\n",
       " 813: 'Current Accounts, Payroll Account, Long-term deposits, e-account, Taxes, Credit Card, Securities, Direct Debit',\n",
       " 814: 'Current Accounts, Más particular Account, Long-term deposits, e-account, Funds, Credit Card',\n",
       " 815: 'Payroll Account, Más particular Account, Funds',\n",
       " 816: 'Current Accounts, Más particular Account, e-account, Securities, Direct Debit',\n",
       " 817: 'Current Accounts, Más particular Account, Funds, Taxes, Credit Card, Direct Debit',\n",
       " 818: 'Current Accounts, Pensions, Credit Card, Direct Debit',\n",
       " 819: 'Payroll Account, Más particular Account, particular Plus Account, Long-term deposits, e-account, Credit Card, Payroll, Direct Debit',\n",
       " 820: 'Payroll Account, Más particular Account, Long-term deposits, Payroll',\n",
       " 821: 'Payroll Account, e-account, Funds, Taxes, Credit Card, Securities',\n",
       " 822: 'Payroll Account, Más particular Account, e-account, Taxes, Credit Card, Direct Debit',\n",
       " 823: 'Current Accounts, Payroll Account, Más particular Account',\n",
       " 824: 'Más particular Account, Long-term deposits, Direct Debit',\n",
       " 825: 'Current Accounts, Más particular Account, Taxes, Credit Card, Securities',\n",
       " 826: 'Payroll Account, Más particular Account, Long-term deposits, e-account, Payroll, Direct Debit',\n",
       " 827: 'Más particular Account, Securities',\n",
       " 828: 'Current Accounts, Más particular Account, particular Plus Account, e-account',\n",
       " 829: 'Current Accounts, Más particular Account, Funds, Taxes',\n",
       " 830: 'Payroll Account, Más particular Account, Long-term deposits, Credit Card, Payroll',\n",
       " 831: 'Current Accounts, Payroll Account, Long-term deposits, Taxes, Credit Card, Securities, Payroll, Direct Debit',\n",
       " 832: 'Payroll Account, Long-term deposits, e-account, Funds, Pensions, Taxes, Credit Card, Direct Debit',\n",
       " 833: 'Current Accounts, Payroll Account, Más particular Account, e-account, Direct Debit',\n",
       " 834: 'Current Accounts, Más particular Account, Credit Card, Securities, Direct Debit',\n",
       " 835: 'Securities, Direct Debit',\n",
       " 836: 'Payroll Account, Más particular Account, Long-term deposits, e-account, Credit Card, Direct Debit',\n",
       " 837: 'Current Accounts, Payroll Account, Long-term deposits, Taxes, Payroll, Direct Debit',\n",
       " 838: 'Payroll Account, Más particular Account, e-account, Pensions, Payroll, Direct Debit',\n",
       " 839: 'Payroll Account, Más particular Account, Long-term deposits, Funds, Credit Card, Payroll, Direct Debit',\n",
       " 840: 'Current Accounts, Payroll Account, Long-term deposits, e-account, Funds, Credit Card, Payroll, Direct Debit',\n",
       " 841: 'Payroll Account, e-account, Taxes, Securities, Direct Debit',\n",
       " 842: 'Current Accounts, Payroll Account, particular Account, particular Plus Account, e-account, Taxes, Payroll, Direct Debit',\n",
       " 843: 'Payroll Account, e-account, Funds, Taxes',\n",
       " 844: 'Current Accounts, Payroll Account, Taxes, Credit Card, Payroll',\n",
       " 845: 'Current Accounts, Más particular Account, particular Account',\n",
       " 846: 'Payroll Account, Más particular Account, Pensions, Payroll, Direct Debit',\n",
       " 847: 'Current Accounts, Payroll Account, e-account, Securities, Direct Debit',\n",
       " 848: 'Current Accounts, Más particular Account, Funds, Credit Card, Direct Debit',\n",
       " 849: 'Current Accounts, particular Account, Long-term deposits',\n",
       " 850: 'Current Accounts, Payroll Account, e-account, Pensions, Payroll, Direct Debit',\n",
       " 851: 'Current Accounts, Funds, Credit Card, Securities, Direct Debit',\n",
       " 852: 'Current Accounts, Más particular Account, e-account, Pensions, Securities',\n",
       " 853: 'Payroll Account, Más particular Account, Securities, Direct Debit',\n",
       " 854: 'Current Accounts, Más particular Account, particular Account, Funds, Taxes, Credit Card, Direct Debit',\n",
       " 855: 'Payroll Account, Mortgage, Credit Card, Payroll, Direct Debit',\n",
       " 856: 'Payroll Account, Long-term deposits, e-account, Pensions, Payroll, Direct Debit',\n",
       " 857: 'Payroll Account, Long-term deposits, Funds, Direct Debit',\n",
       " 858: 'Current Accounts, Payroll Account, Long-term deposits, Credit Card, Direct Debit',\n",
       " 859: 'Payroll Account, Loans, Taxes, Credit Card, Payroll, Direct Debit',\n",
       " 860: 'Current Accounts, Payroll Account, Long-term deposits',\n",
       " 861: 'Payroll Account, Pensions, Taxes, Credit Card, Direct Debit',\n",
       " 862: 'Current Accounts, Derivada Account, Long-term deposits, e-account, Credit Card',\n",
       " 863: 'Current Accounts, Payroll Account, e-account, Taxes, Credit Card',\n",
       " 864: 'Current Accounts, Payroll Account, e-account, Funds, Securities',\n",
       " 865: 'Current Accounts, Payroll Account, Long-term deposits, Payroll',\n",
       " 866: 'Payroll Account, Long-term deposits, e-account, Securities, Payroll, Direct Debit',\n",
       " 867: 'Current Accounts, Long-term deposits, e-account, Taxes, Credit Card',\n",
       " 868: 'Payroll Account, Medium-term deposits, e-account, Direct Debit',\n",
       " 869: 'Current Accounts, Payroll Account, e-account, Funds, Credit Card, Payroll, Direct Debit',\n",
       " 870: 'Payroll Account, e-account, Pensions, Securities, Payroll',\n",
       " 871: 'Payroll Account, e-account, Funds, Securities, Direct Debit',\n",
       " 872: 'Más particular Account, Long-term deposits, Funds',\n",
       " 873: 'Payroll Account, e-account, Pensions, Payroll',\n",
       " 874: 'Current Accounts, Payroll Account, e-account, Funds, Taxes, Payroll, Direct Debit',\n",
       " 875: 'Payroll Account, Pensions, Credit Card, Payroll',\n",
       " 876: 'Current Accounts, Payroll Account, e-account, Funds, Payroll',\n",
       " 877: 'Payroll Account, Long-term deposits, e-account, Taxes, Securities, Direct Debit',\n",
       " 878: 'Current Accounts, e-account, Pensions, Securities, Direct Debit',\n",
       " 879: 'Current Accounts, Medium-term deposits, e-account, Securities',\n",
       " 880: 'Current Accounts, Derivada Account, Pensions, Taxes, Direct Debit',\n",
       " 881: 'Current Accounts, Más particular Account, Long-term deposits, e-account, Securities',\n",
       " 882: 'Current Accounts, Payroll Account, e-account, Taxes, Securities, Payroll, Direct Debit',\n",
       " 883: 'e-account, Pensions',\n",
       " 884: 'Current Accounts, Securities, Payroll',\n",
       " 885: 'Current Accounts, Payroll Account, Taxes',\n",
       " 886: 'Current Accounts, Payroll Account, e-account, Pensions, Credit Card, Payroll, Direct Debit',\n",
       " 887: 'Current Accounts, e-account, Funds, Payroll',\n",
       " 888: 'Current Accounts, Payroll Account, e-account, Credit Card',\n",
       " 889: 'Current Accounts, e-account, Funds, Pensions, Credit Card, Direct Debit',\n",
       " 890: 'Current Accounts, Long-term deposits, e-account, Pensions, Securities',\n",
       " 891: 'Current Accounts, e-account, Funds, Securities, Direct Debit',\n",
       " 892: 'Current Accounts, Payroll Account, e-account, Credit Card, Securities, Direct Debit',\n",
       " 893: 'Current Accounts, Payroll Account, Long-term deposits, e-account, Pensions, Credit Card, Payroll, Direct Debit',\n",
       " 894: 'Current Accounts, Payroll Account, Long-term deposits, e-account, Taxes, Direct Debit',\n",
       " 895: 'Current Accounts, e-account, Pensions, Taxes, Securities',\n",
       " 896: 'Current Accounts, Medium-term deposits, Long-term deposits, e-account, Direct Debit',\n",
       " 897: 'Payroll Account, Funds, Taxes, Credit Card, Payroll, Direct Debit',\n",
       " 898: 'Current Accounts, Long-term deposits, Securities, Direct Debit',\n",
       " 899: 'Payroll Account, Long-term deposits, Securities, Payroll',\n",
       " 900: 'Long-term deposits, e-account, Securities',\n",
       " 901: 'Loans, Credit Card, Direct Debit',\n",
       " 902: 'Payroll Account, e-account, Loans, Taxes, Credit Card, Direct Debit',\n",
       " 903: 'Payroll Account, Long-term deposits, Securities, Direct Debit',\n",
       " 904: 'Current Accounts, Payroll Account, e-account, Pensions, Taxes, Direct Debit',\n",
       " 905: 'Current Accounts, Payroll Account, e-account, Mortgage, Credit Card, Payroll, Direct Debit',\n",
       " 906: 'Medium-term deposits, Long-term deposits, e-account',\n",
       " 907: 'Current Accounts, Short-term deposits, e-account',\n",
       " 908: 'Short-term deposits, e-account',\n",
       " 909: 'Payroll Account, Short-term deposits, Payroll',\n",
       " 910: 'Payroll Account, Funds, Pensions, Direct Debit',\n",
       " 911: 'Short-term deposits, Payroll',\n",
       " 912: 'Más particular Account, Short-term deposits',\n",
       " 913: 'Payroll Account, Pensions',\n",
       " 914: 'Current Accounts, Medium-term deposits, Long-term deposits, Funds',\n",
       " 915: 'Current Accounts, Más particular Account, Funds, Pensions',\n",
       " 916: 'Derivada Account',\n",
       " 917: 'Current Accounts, Long-term deposits, Credit Card, Securities',\n",
       " 918: 'Short-term deposits, Long-term deposits',\n",
       " 919: 'Payroll Account, e-account, Credit Card, Securities',\n",
       " 920: 'Mortgage',\n",
       " 921: 'e-account, Credit Card, Payroll',\n",
       " 922: 'Current Accounts, e-account, Funds, Pensions, Taxes, Securities, Direct Debit',\n",
       " 923: 'Payroll Account, Credit Card, Securities',\n",
       " 924: 'Pensions, Credit Card, Payroll',\n",
       " 925: 'Current Accounts, Payroll Account, Securities, Payroll, Direct Debit',\n",
       " 926: 'Payroll Account, Short-term deposits, Credit Card, Payroll, Direct Debit',\n",
       " 927: 'Payroll Account, e-account, Funds, Securities, Payroll',\n",
       " 928: 'Current Accounts, Long-term deposits, Taxes, Securities',\n",
       " 929: 'Current Accounts, Medium-term deposits, Funds',\n",
       " 930: 'Current Accounts, Long-term deposits, Pensions, Direct Debit',\n",
       " 931: 'Current Accounts, Más particular Account, Short-term deposits',\n",
       " 932: 'Current Accounts, Short-term deposits, Long-term deposits, Funds, Direct Debit',\n",
       " 933: 'Payroll Account, Short-term deposits, Credit Card, Direct Debit',\n",
       " 934: 'Short-term deposits, Funds',\n",
       " 935: 'Payroll Account, Pensions, Direct Debit',\n",
       " 936: 'Payroll Account, Short-term deposits, Long-term deposits, Payroll, Direct Debit',\n",
       " 937: 'Current Accounts, Más particular Account, Pensions, Payroll, Direct Debit',\n",
       " 938: 'Current Accounts, Long-term deposits, Payroll',\n",
       " 939: 'Current Accounts, Más particular Account, Short-term deposits, Direct Debit',\n",
       " 940: 'Payroll Account, Más particular Account, Short-term deposits, Direct Debit',\n",
       " 941: 'Current Accounts, Más particular Account, Pensions, Securities, Direct Debit',\n",
       " 942: 'Current Accounts, Short-term deposits, Pensions',\n",
       " 943: 'Payroll Account, Más particular Account, Short-term deposits, e-account, Direct Debit',\n",
       " 944: 'Current Accounts, Más particular Account, Short-term deposits, Long-term deposits, Funds',\n",
       " 945: 'Payroll Account, Más particular Account, Long-term deposits, Pensions, Payroll, Direct Debit',\n",
       " 946: 'Current Accounts, Short-term deposits, e-account, Credit Card, Direct Debit',\n",
       " 947: 'Current Accounts, Short-term deposits, Credit Card',\n",
       " 948: 'Payroll Account, Más particular Account, Short-term deposits',\n",
       " 949: 'Current Accounts, Short-term deposits, Long-term deposits, e-account, Funds',\n",
       " 950: 'Current Accounts, Payroll Account, Short-term deposits, Credit Card, Payroll',\n",
       " 951: 'Payroll Account, Short-term deposits, Payroll, Direct Debit',\n",
       " 952: 'Current Accounts, Short-term deposits, Securities',\n",
       " 953: 'Payroll Account, Más particular Account, Pensions',\n",
       " 954: 'Payroll Account, Más particular Account, Short-term deposits, Credit Card, Direct Debit',\n",
       " 955: 'Current Accounts, Long-term deposits, Funds, Securities, Direct Debit',\n",
       " 956: 'Más particular Account, Funds',\n",
       " 957: 'Current Accounts, Short-term deposits, Long-term deposits, Direct Debit',\n",
       " 958: 'Current Accounts, Payroll Account, Medium-term deposits, Long-term deposits, e-account, Direct Debit',\n",
       " 959: 'Taxes, Credit Card, Payroll',\n",
       " 960: 'Payroll Account, Pensions, Securities, Payroll, Direct Debit',\n",
       " 961: 'Payroll Account, Funds, Credit Card, Payroll',\n",
       " 962: 'Pensions, Direct Debit',\n",
       " 963: 'Derivada Account, Payroll Account, Direct Debit',\n",
       " 964: 'Current Accounts, Long-term deposits, Funds, Credit Card, Securities, Direct Debit',\n",
       " 965: 'Payroll Account, Mortgage, Credit Card, Direct Debit',\n",
       " 966: 'Payroll Account, Long-term deposits, Funds, Credit Card, Securities, Payroll, Direct Debit',\n",
       " 967: 'Current Accounts, Pensions, Taxes, Credit Card, Direct Debit',\n",
       " 968: 'Current Accounts, Long-term deposits, e-account, Loans, Credit Card, Direct Debit',\n",
       " 969: 'Current Accounts, Taxes, Securities, Payroll, Direct Debit',\n",
       " 970: 'Current Accounts, e-account, Funds, Credit Card, Securities, Direct Debit',\n",
       " 971: 'Funds, Payroll',\n",
       " 972: 'Current Accounts, Long-term deposits, Funds, Credit Card, Securities',\n",
       " 973: 'Payroll Account, Long-term deposits, e-account, Pensions, Direct Debit',\n",
       " 974: 'Current Accounts, Funds, Taxes, Credit Card, Securities, Direct Debit',\n",
       " 975: 'Current Accounts, Payroll Account, Mortgage, Taxes, Credit Card, Payroll, Direct Debit',\n",
       " 976: 'Long-term deposits, Taxes, Credit Card, Direct Debit',\n",
       " 977: 'Payroll Account, Medium-term deposits, e-account, Payroll, Direct Debit',\n",
       " 978: 'Payroll Account, Funds, Direct Debit',\n",
       " 979: 'Current Accounts, Payroll Account, Credit Card',\n",
       " 980: 'Payroll Account, Mortgage, Taxes, Direct Debit',\n",
       " 981: 'Loans, nan',\n",
       " 982: 'Current Accounts, Payroll Account, Credit Card, Securities, Payroll, Direct Debit',\n",
       " 983: 'Current Accounts, Medium-term deposits, Direct Debit',\n",
       " 984: 'Payroll Account, Long-term deposits, Funds, Payroll, Direct Debit',\n",
       " 985: 'Payroll Account, Medium-term deposits, Taxes, Credit Card, Payroll, Direct Debit',\n",
       " 986: 'Payroll Account, Long-term deposits, e-account, Funds, Pensions, Credit Card, Direct Debit',\n",
       " 987: 'Current Accounts, Payroll Account, Loans, Payroll, Direct Debit',\n",
       " 988: 'Taxes, Payroll',\n",
       " 989: 'Current Accounts, Funds, Taxes, Direct Debit',\n",
       " 990: 'Current Accounts, Short-term deposits, e-account, Funds, Direct Debit',\n",
       " 991: 'Derivada Account, e-account',\n",
       " 992: 'Payroll Account, Pensions, Taxes, Securities, Payroll',\n",
       " 993: 'Current Accounts, Medium-term deposits, Long-term deposits, Direct Debit',\n",
       " 994: 'Current Accounts, Payroll Account, Funds, Payroll, Direct Debit',\n",
       " 995: 'Current Accounts, Payroll Account, Long-term deposits, e-account, Pensions, Taxes, Securities, Payroll, Direct Debit',\n",
       " 996: 'Payroll Account, Loans, Taxes, Credit Card, Direct Debit',\n",
       " 997: 'Payroll Account, Medium-term deposits, Long-term deposits, Credit Card, Payroll, Direct Debit',\n",
       " 998: 'Payroll Account, Long-term deposits, Pensions, Payroll, Direct Debit',\n",
       " 999: 'Payroll Account, Short-term deposits, e-account',\n",
       " ...}"
      ]
     },
     "execution_count": 2,
     "metadata": {},
     "output_type": "execute_result"
    }
   ],
   "source": [
    "import pickle\n",
    "import boto3\n",
    "import numpy as np\n",
    "#s3://santander-starter-train/modeldtr/\n",
    "filename = 'dtr_New_1.sav'\n",
    "#loaded_model = pickle.load(open(filename, 'rb'))\n",
    "#pickle.dump(reg, open(filename, 'wb'))\n",
    "# some time later...\n",
    "#s3_resource = boto3.resource('s3')\n",
    "#s3_resource.Object('santander-starter-train','modeldtr/dtr_New_1.sav').put(Body=open(filename, 'rb'))\n",
    "# load the model from disk\n",
    "#loaded_model = pickle.load(open(filename, 'rb'))\n",
    "#result = loaded_model.score(x_test,y_test)\n",
    "#y_prediction= loaded_model.predict(x_test)\n",
    "#print(y_prediction)\n",
    "\n",
    "## Load dictionary for ProdRecommendation\n",
    "import boto3\n",
    "import pickle\n",
    "s3_resource = boto3.resource('s3')\n",
    "filename = 'ProdRecommed.npy'\n",
    "dicttprodrec = s3_resource.Object('santander-starter-train','dictionaries/ProdRecommed.npy').download_file(filename)\n",
    "daf= np.load(\"ProdRecommed.npy\",allow_pickle='TRUE').item()\n",
    "daf[0]"
   ]
  },
  {
   "cell_type": "code",
   "execution_count": 3,
   "metadata": {
    "_cell_guid": "b1076dfc-b9ad-4769-8c92-a6c4dae69d19",
    "_uuid": "8f2839f25d086af736a60e9eeb907d3b93b6e0e5"
   },
   "outputs": [],
   "source": [
    "import gc\n",
    "import os\n",
    "import time\n",
    "import math\n",
    "import subprocess\n",
    "import pandas as pd\n",
    "import numpy as np\n",
    "import matplotlib.pyplot as plt\n",
    "import seaborn as sns\n",
    "%matplotlib inline\n",
    "\n",
    "from sklearn.preprocessing import LabelEncoder, MinMaxScaler\n",
    "from sklearn.model_selection import cross_val_score, train_test_split, KFold, StratifiedKFold\n",
    "\n",
    "from sklearn.metrics import roc_auc_score\n",
    "#from bayes_opt import BayesianOptimization\n",
    "from sklearn.model_selection import StratifiedKFold\n",
    "\n",
    "# Importing all models\n",
    "\n",
    "# Classification\n",
    "from sklearn.linear_model import LogisticRegression, ElasticNet, Lasso, Ridge\n",
    "from sklearn.neighbors import KNeighborsClassifier\n",
    "from sklearn.svm import SVC\n",
    "from sklearn.naive_bayes import GaussianNB\n",
    "from sklearn.tree import DecisionTreeClassifier, ExtraTreeClassifier\n",
    "from sklearn.tree import DecisionTreeRegressor, ExtraTreeRegressor\n",
    "from sklearn.ensemble import AdaBoostClassifier, BaggingClassifier, ExtraTreesClassifier, GradientBoostingClassifier, \\\n",
    "    RandomForestClassifier, VotingClassifier\n",
    "from sklearn.ensemble import AdaBoostRegressor, BaggingRegressor, ExtraTreesRegressor, GradientBoostingRegressor, \\\n",
    "    RandomForestRegressor, VotingRegressor\n",
    "\n",
    "\n",
    "#import lightgbm as lgb\n",
    "#import xgboost as xgb\n",
    "#import catboost as cat\n",
    "#from catboost import Pool, CatBoostClassifier\n",
    "\n",
    "import warnings\n",
    "#print(os.listdir(\"../input\"))\n",
    "warnings.simplefilter('ignore')"
   ]
  },
  {
   "cell_type": "code",
   "execution_count": 4,
   "metadata": {},
   "outputs": [],
   "source": [
    "total_start_time = time.time()"
   ]
  },
  {
   "cell_type": "markdown",
   "metadata": {},
   "source": [
    "# Importing Data and Reducing Memory"
   ]
  },
  {
   "cell_type": "code",
   "execution_count": 5,
   "metadata": {
    "_cell_guid": "79c7e3d0-c299-4dcb-8224-4455121ee9b0",
    "_uuid": "d629ff2d2480ee46fbb7e2d37f6b5fab8052498a"
   },
   "outputs": [],
   "source": [
    "def reduce_mem_usage(df):\n",
    "    \"\"\" iterate through all the columns of a dataframe and modify the data type\n",
    "        to reduce memory usage.\n",
    "    \"\"\"\n",
    "    start_mem = df.memory_usage().sum() / 1024 ** 2\n",
    "    print('Memory usage of dataframe is {:.2f} MB'.format(start_mem))\n",
    "\n",
    "    for col in df.columns:\n",
    "        col_type = df[col].dtype\n",
    "\n",
    "        if col_type != object:\n",
    "            c_min = df[col].min()\n",
    "            c_max = df[col].max()\n",
    "            if str(col_type)[:3] == 'int':\n",
    "                if c_min > np.iinfo(np.int8).min and c_max < np.iinfo(np.int8).max:\n",
    "                    df[col] = df[col].astype(np.int8)\n",
    "                elif c_min > np.iinfo(np.int16).min and c_max < np.iinfo(np.int16).max:\n",
    "                    df[col] = df[col].astype(np.int16)\n",
    "                elif c_min > np.iinfo(np.int32).min and c_max < np.iinfo(np.int32).max:\n",
    "                    df[col] = df[col].astype(np.int32)\n",
    "                elif c_min > np.iinfo(np.int64).min and c_max < np.iinfo(np.int64).max:\n",
    "                    df[col] = df[col].astype(np.int64)\n",
    "            else:\n",
    "                if c_min > np.finfo(np.float16).min and c_max < np.finfo(np.float16).max:\n",
    "                    df[col] = df[col].astype(np.float16)\n",
    "                elif c_min > np.finfo(np.float32).min and c_max < np.finfo(np.float32).max:\n",
    "                    df[col] = df[col].astype(np.float32)\n",
    "                else:\n",
    "                    df[col] = df[col].astype(np.float64)\n",
    "        else:\n",
    "            df[col] = df[col].astype('category')\n",
    "\n",
    "    end_mem = df.memory_usage().sum() / 1024 ** 2\n",
    "    print('Memory usage after optimization is: {:.2f} MB'.format(end_mem))\n",
    "    print('Decreased by {:.1f}%'.format(100 * (start_mem - end_mem) / start_mem))\n",
    "\n",
    "    return df\n",
    "\n",
    "def import_data(file):\n",
    "    \"\"\"create a dataframe and optimize its memory usage\"\"\"\n",
    "    df = pd.read_csv(file, parse_dates=True, keep_date_col=True)\n",
    "    df = reduce_mem_usage(df)\n",
    "    return df"
   ]
  },
  {
   "cell_type": "code",
   "execution_count": 6,
   "metadata": {},
   "outputs": [
    {
     "name": "stdout",
     "output_type": "stream",
     "text": [
      "Memory usage of dataframe is 2498.90 MB\n",
      "Memory usage after optimization is: 780.91 MB\n",
      "Decreased by 68.7%\n"
     ]
    }
   ],
   "source": [
    "traintesting = import_data(\"s3://santander-starter-train/PreProcessedtrainingdata/traintesting_PreProcessed.csv\")\n",
    "##test = import_data(\"test_ver2.csv\")\n",
    "##sub = import_data(\"sample_submission.csv\")\n",
    "\n",
    "##print(\"\\n\\nTrain Size : \\t{}\\nTest Size : \\t{}\".format(train.shape, test.shape))\n"
   ]
  },
  {
   "cell_type": "code",
   "execution_count": 7,
   "metadata": {},
   "outputs": [
    {
     "data": {
      "text/html": [
       "<div>\n",
       "<style scoped>\n",
       "    .dataframe tbody tr th:only-of-type {\n",
       "        vertical-align: middle;\n",
       "    }\n",
       "\n",
       "    .dataframe tbody tr th {\n",
       "        vertical-align: top;\n",
       "    }\n",
       "\n",
       "    .dataframe thead th {\n",
       "        text-align: right;\n",
       "    }\n",
       "</style>\n",
       "<table border=\"1\" class=\"dataframe\">\n",
       "  <thead>\n",
       "    <tr style=\"text-align: right;\">\n",
       "      <th></th>\n",
       "      <th>date</th>\n",
       "      <th>customer_code</th>\n",
       "      <th>emp_status</th>\n",
       "      <th>residence_code</th>\n",
       "      <th>sex</th>\n",
       "      <th>age</th>\n",
       "      <th>date_first_prod</th>\n",
       "      <th>new_customer</th>\n",
       "      <th>seniority_inmonths</th>\n",
       "      <th>prime_customer</th>\n",
       "      <th>...</th>\n",
       "      <th>is_foreigner</th>\n",
       "      <th>spouse</th>\n",
       "      <th>channel</th>\n",
       "      <th>deceased</th>\n",
       "      <th>primary_address</th>\n",
       "      <th>province_code</th>\n",
       "      <th>status_ai</th>\n",
       "      <th>gincome</th>\n",
       "      <th>social_segment</th>\n",
       "      <th>ProductRecommed</th>\n",
       "    </tr>\n",
       "  </thead>\n",
       "  <tbody>\n",
       "    <tr>\n",
       "      <th>0</th>\n",
       "      <td>20150128.0</td>\n",
       "      <td>1375586.0</td>\n",
       "      <td>1.0</td>\n",
       "      <td>0.0</td>\n",
       "      <td>2.0</td>\n",
       "      <td>35.0</td>\n",
       "      <td>20150112.0</td>\n",
       "      <td>0.0</td>\n",
       "      <td>6.0</td>\n",
       "      <td>1.0</td>\n",
       "      <td>...</td>\n",
       "      <td>1.0</td>\n",
       "      <td>2.0</td>\n",
       "      <td>0.0</td>\n",
       "      <td>0.0</td>\n",
       "      <td>1.0</td>\n",
       "      <td>29.0</td>\n",
       "      <td>1.0</td>\n",
       "      <td>87218.101562</td>\n",
       "      <td>3.0</td>\n",
       "      <td>0.0</td>\n",
       "    </tr>\n",
       "    <tr>\n",
       "      <th>1</th>\n",
       "      <td>20150128.0</td>\n",
       "      <td>1050611.0</td>\n",
       "      <td>1.0</td>\n",
       "      <td>0.0</td>\n",
       "      <td>1.0</td>\n",
       "      <td>23.0</td>\n",
       "      <td>20120810.0</td>\n",
       "      <td>0.0</td>\n",
       "      <td>35.0</td>\n",
       "      <td>1.0</td>\n",
       "      <td>...</td>\n",
       "      <td>2.0</td>\n",
       "      <td>2.0</td>\n",
       "      <td>1.0</td>\n",
       "      <td>0.0</td>\n",
       "      <td>1.0</td>\n",
       "      <td>13.0</td>\n",
       "      <td>0.0</td>\n",
       "      <td>35548.738281</td>\n",
       "      <td>3.0</td>\n",
       "      <td>0.0</td>\n",
       "    </tr>\n",
       "    <tr>\n",
       "      <th>2</th>\n",
       "      <td>20150128.0</td>\n",
       "      <td>1050612.0</td>\n",
       "      <td>1.0</td>\n",
       "      <td>0.0</td>\n",
       "      <td>1.0</td>\n",
       "      <td>23.0</td>\n",
       "      <td>20120810.0</td>\n",
       "      <td>0.0</td>\n",
       "      <td>35.0</td>\n",
       "      <td>1.0</td>\n",
       "      <td>...</td>\n",
       "      <td>1.0</td>\n",
       "      <td>2.0</td>\n",
       "      <td>1.0</td>\n",
       "      <td>0.0</td>\n",
       "      <td>1.0</td>\n",
       "      <td>13.0</td>\n",
       "      <td>0.0</td>\n",
       "      <td>122179.109375</td>\n",
       "      <td>3.0</td>\n",
       "      <td>0.0</td>\n",
       "    </tr>\n",
       "    <tr>\n",
       "      <th>3</th>\n",
       "      <td>20150128.0</td>\n",
       "      <td>1050613.0</td>\n",
       "      <td>1.0</td>\n",
       "      <td>0.0</td>\n",
       "      <td>2.0</td>\n",
       "      <td>22.0</td>\n",
       "      <td>20120810.0</td>\n",
       "      <td>0.0</td>\n",
       "      <td>35.0</td>\n",
       "      <td>1.0</td>\n",
       "      <td>...</td>\n",
       "      <td>1.0</td>\n",
       "      <td>2.0</td>\n",
       "      <td>2.0</td>\n",
       "      <td>0.0</td>\n",
       "      <td>1.0</td>\n",
       "      <td>50.0</td>\n",
       "      <td>0.0</td>\n",
       "      <td>119775.539062</td>\n",
       "      <td>3.0</td>\n",
       "      <td>1.0</td>\n",
       "    </tr>\n",
       "    <tr>\n",
       "      <th>4</th>\n",
       "      <td>20150128.0</td>\n",
       "      <td>1050614.0</td>\n",
       "      <td>1.0</td>\n",
       "      <td>0.0</td>\n",
       "      <td>1.0</td>\n",
       "      <td>23.0</td>\n",
       "      <td>20120810.0</td>\n",
       "      <td>0.0</td>\n",
       "      <td>35.0</td>\n",
       "      <td>1.0</td>\n",
       "      <td>...</td>\n",
       "      <td>1.0</td>\n",
       "      <td>2.0</td>\n",
       "      <td>1.0</td>\n",
       "      <td>0.0</td>\n",
       "      <td>1.0</td>\n",
       "      <td>50.0</td>\n",
       "      <td>1.0</td>\n",
       "      <td>134254.312500</td>\n",
       "      <td>3.0</td>\n",
       "      <td>0.0</td>\n",
       "    </tr>\n",
       "  </tbody>\n",
       "</table>\n",
       "<p>5 rows × 24 columns</p>\n",
       "</div>"
      ],
      "text/plain": [
       "         date  customer_code  emp_status  residence_code  sex   age  \\\n",
       "0  20150128.0      1375586.0         1.0             0.0  2.0  35.0   \n",
       "1  20150128.0      1050611.0         1.0             0.0  1.0  23.0   \n",
       "2  20150128.0      1050612.0         1.0             0.0  1.0  23.0   \n",
       "3  20150128.0      1050613.0         1.0             0.0  2.0  22.0   \n",
       "4  20150128.0      1050614.0         1.0             0.0  1.0  23.0   \n",
       "\n",
       "   date_first_prod  new_customer  seniority_inmonths  prime_customer  ...  \\\n",
       "0       20150112.0           0.0                 6.0             1.0  ...   \n",
       "1       20120810.0           0.0                35.0             1.0  ...   \n",
       "2       20120810.0           0.0                35.0             1.0  ...   \n",
       "3       20120810.0           0.0                35.0             1.0  ...   \n",
       "4       20120810.0           0.0                35.0             1.0  ...   \n",
       "\n",
       "   is_foreigner  spouse  channel  deceased  primary_address  province_code  \\\n",
       "0           1.0     2.0      0.0       0.0              1.0           29.0   \n",
       "1           2.0     2.0      1.0       0.0              1.0           13.0   \n",
       "2           1.0     2.0      1.0       0.0              1.0           13.0   \n",
       "3           1.0     2.0      2.0       0.0              1.0           50.0   \n",
       "4           1.0     2.0      1.0       0.0              1.0           50.0   \n",
       "\n",
       "   status_ai        gincome  social_segment  ProductRecommed  \n",
       "0        1.0   87218.101562             3.0              0.0  \n",
       "1        0.0   35548.738281             3.0              0.0  \n",
       "2        0.0  122179.109375             3.0              0.0  \n",
       "3        0.0  119775.539062             3.0              1.0  \n",
       "4        1.0  134254.312500             3.0              0.0  \n",
       "\n",
       "[5 rows x 24 columns]"
      ]
     },
     "execution_count": 7,
     "metadata": {},
     "output_type": "execute_result"
    }
   ],
   "source": [
    "traintesting.head()"
   ]
  },
  {
   "cell_type": "code",
   "execution_count": 6,
   "metadata": {
    "scrolled": true
   },
   "outputs": [
    {
     "data": {
      "text/plain": [
       "Index(['date', 'customer_code', 'emp_status', 'residence_code', 'sex', 'age',\n",
       "       'date_first_prod', 'new_customer', 'seniority_inmonths',\n",
       "       'prime_customer', 'prime_lastdate', 'customer_type',\n",
       "       'customer_relation', 'is_residence', 'is_foreigner', 'spouse',\n",
       "       'channel', 'deceased', 'primary_address', 'province_code', 'status_ai',\n",
       "       'gincome', 'social_segment', 'ProductRecommed'],\n",
       "      dtype='object')"
      ]
     },
     "execution_count": 6,
     "metadata": {},
     "output_type": "execute_result"
    }
   ],
   "source": [
    "traintesting.columns #PrinceG : \n",
    "#Train data has 24 columns to be used as features. Last 24 columsn represent the product to be recommended"
   ]
  },
  {
   "cell_type": "code",
   "execution_count": 7,
   "metadata": {
    "scrolled": true
   },
   "outputs": [
    {
     "data": {
      "text/plain": [
       "date                  0\n",
       "customer_code         0\n",
       "emp_status            0\n",
       "residence_code        0\n",
       "sex                   0\n",
       "age                   0\n",
       "date_first_prod       0\n",
       "new_customer          0\n",
       "seniority_inmonths    0\n",
       "prime_customer        0\n",
       "prime_lastdate        0\n",
       "customer_type         0\n",
       "customer_relation     0\n",
       "is_residence          0\n",
       "is_foreigner          0\n",
       "spouse                0\n",
       "channel               0\n",
       "deceased              0\n",
       "primary_address       0\n",
       "province_code         0\n",
       "status_ai             0\n",
       "gincome               0\n",
       "social_segment        0\n",
       "ProductRecommed       0\n",
       "dtype: int64"
      ]
     },
     "execution_count": 7,
     "metadata": {},
     "output_type": "execute_result"
    }
   ],
   "source": [
    "## verify which all columns have Null / NaN values\n",
    "traintesting.isnull().sum()"
   ]
  },
  {
   "cell_type": "code",
   "execution_count": 8,
   "metadata": {},
   "outputs": [],
   "source": [
    "traintesting = traintesting.astype('float64')"
   ]
  },
  {
   "cell_type": "markdown",
   "metadata": {},
   "source": [
    "# Modelling\n"
   ]
  },
  {
   "cell_type": "markdown",
   "metadata": {},
   "source": [
    "! pip install catboost"
   ]
  },
  {
   "cell_type": "markdown",
   "metadata": {},
   "source": [
    "import lightgbm as lgb\n",
    "import xgboost as xgb\n",
    "import catboost as cat\n",
    "from catboost import Pool, CatBoostClassifier\n",
    "def baseliner_clas(train, feat, target, cv, metric):\n",
    "\n",
    "    eval_dict = {}\n",
    "    models = [lgb.LGBMClassifier()]\n",
    "    # LogisticRegression(), SVC(), GaussianNB(), KNeighborsClassifier(), DecisionTreeClassifier(), ExtraTreeClassifier(), AdaBoostClassifier(), BaggingClassifier(),\n",
    "    # RandomForestClassifier(), ExtraTreesClassifier(), GradientBoostingClassifier(), xgb.XGBClassifier(), cat.CatBoostClassifier(verbose=0)\n",
    "\n",
    "    for model in models:\n",
    "        model_name = str(model).split(\"(\")[0]\n",
    "        results = cross_val_score(model, train[feat], train[target], cv=cv,\n",
    "                                  scoring=metric)\n",
    "        print(model_name, results.mean(), results)\n",
    "        eval_dict[model_name] = results.mean()\n",
    "\n",
    "    return eval_dict"
   ]
  },
  {
   "cell_type": "markdown",
   "metadata": {},
   "source": [
    "base_1 = baseliner_clas(traintesting, traintesting.drop([\"ProductRecommed\"], axis=1), traintesting['ProductRecommed'], 3, 'roc_auc')"
   ]
  },
  {
   "cell_type": "markdown",
   "metadata": {},
   "source": [
    "### Documentation related to LGBM:   https://medium.com/@pushkarmandot/https-medium-com-pushkarmandot-what-is-lightgbm-how-to-implement-it-how-to-fine-tune-the-parameters-60347819b7fc"
   ]
  },
  {
   "cell_type": "code",
   "execution_count": 40,
   "metadata": {},
   "outputs": [
    {
     "name": "stdout",
     "output_type": "stream",
     "text": [
      "Collecting lightgbm\n",
      "  Downloading lightgbm-3.2.0-py3-none-manylinux1_x86_64.whl (2.0 MB)\n",
      "\u001b[K     |████████████████████████████████| 2.0 MB 20.8 MB/s eta 0:00:01\n",
      "\u001b[?25hRequirement already satisfied: scikit-learn!=0.22.0 in /home/ec2-user/anaconda3/envs/python3/lib/python3.6/site-packages (from lightgbm) (0.24.1)\n",
      "Requirement already satisfied: numpy in /home/ec2-user/anaconda3/envs/python3/lib/python3.6/site-packages (from lightgbm) (1.19.5)\n",
      "Requirement already satisfied: wheel in /home/ec2-user/anaconda3/envs/python3/lib/python3.6/site-packages (from lightgbm) (0.36.2)\n",
      "Requirement already satisfied: scipy in /home/ec2-user/anaconda3/envs/python3/lib/python3.6/site-packages (from lightgbm) (1.5.3)\n",
      "Requirement already satisfied: threadpoolctl>=2.0.0 in /home/ec2-user/anaconda3/envs/python3/lib/python3.6/site-packages (from scikit-learn!=0.22.0->lightgbm) (2.1.0)\n",
      "Requirement already satisfied: joblib>=0.11 in /home/ec2-user/anaconda3/envs/python3/lib/python3.6/site-packages (from scikit-learn!=0.22.0->lightgbm) (1.0.1)\n",
      "Installing collected packages: lightgbm\n",
      "Successfully installed lightgbm-3.2.0\n"
     ]
    }
   ],
   "source": [
    "!pip install lightgbm"
   ]
  },
  {
   "cell_type": "code",
   "execution_count": 41,
   "metadata": {},
   "outputs": [],
   "source": [
    "#from sklearn.LGBMModel import lightgbm\n",
    "import lightgbm as lgb\n",
    "def lgb_model(train, feat, target):\n",
    "    x_train, x_valid, y_train, y_valid = train_test_split(traintesting.drop([\"ProductRecommed\"], axis=1), traintesting['ProductRecommed'], test_size=0.2, random_state=13)\n",
    "\n",
    "    train_set = lgb.Dataset(x_train, label=y_train)\n",
    "    valid_set = lgb.Dataset(x_valid, label=y_valid)\n",
    "\n",
    "    MAX_ROUNDS = 2000\n",
    "    params = {\n",
    "        \"boosting\": 'gbdt', # \"dart\",\n",
    "        \"learning_rate\": 0.01,\n",
    "        \"nthread\": -1,\n",
    "        \"seed\": 13,\n",
    "        \"num_boost_round\": MAX_ROUNDS,\n",
    "        #\"objective\": \"Regression\",\n",
    "        \"metric\": \"mse\",\n",
    "        \"metric\": \"None\"\n",
    "    }\n",
    "\n",
    "    model = lgb.train(\n",
    "        params,\n",
    "        train_set=train_set,\n",
    "        valid_sets=[train_set, valid_set],\n",
    "        #early_stopping_rounds=50,\n",
    "        verbose_eval=100\n",
    "    )\n",
    "\n",
    "    lgb.plot_importance(model, figsize=(24, 50))\n",
    "\n",
    "    return model"
   ]
  },
  {
   "cell_type": "markdown",
   "metadata": {},
   "source": [
    "# LGB Feature Importance "
   ]
  },
  {
   "cell_type": "code",
   "execution_count": 42,
   "metadata": {},
   "outputs": [
    {
     "name": "stdout",
     "output_type": "stream",
     "text": [
      "[LightGBM] [Warning] Auto-choosing row-wise multi-threading, the overhead of testing was 0.286353 seconds.\n",
      "You can set `force_row_wise=true` to remove the overhead.\n",
      "And if memory is not enough, you can set `force_col_wise=true`.\n",
      "[LightGBM] [Info] Total Bins 1511\n",
      "[LightGBM] [Info] Number of data points in the train set: 10917847, number of used features: 22\n",
      "[LightGBM] [Info] Start training from score 176.573715\n"
     ]
    },
    {
     "data": {
      "image/png": "[encoded data removed]",
      "text/plain": [
       "<Figure size 1728x3600 with 1 Axes>"
      ]
     },
     "metadata": {
      "needs_background": "light"
     },
     "output_type": "display_data"
    }
   ],
   "source": [
    "model = lgb_model(traintesting, traintesting.drop([\"ProductRecommed\"], axis=1), traintesting['ProductRecommed'])"
   ]
  },
  {
   "cell_type": "code",
   "execution_count": 54,
   "metadata": {},
   "outputs": [],
   "source": [
    "#Prediction\n",
    "x_train, x_valid, y_train, y_valid = train_test_split(traintesting.drop([\"ProductRecommed\"], axis=1), traintesting['ProductRecommed'], test_size=0.2, random_state=13)\n",
    "y_pred=model.predict(x_valid)"
   ]
  },
  {
   "cell_type": "code",
   "execution_count": 55,
   "metadata": {},
   "outputs": [],
   "source": [
    "#y_pred\n",
    "y_pred1= y_pred.astype('int64')"
   ]
  },
  {
   "cell_type": "code",
   "execution_count": 56,
   "metadata": {},
   "outputs": [
    {
     "data": {
      "image/png": "[encoded data removed]",
      "text/plain": [
       "<Figure size 432x288 with 1 Axes>"
      ]
     },
     "metadata": {
      "needs_background": "light"
     },
     "output_type": "display_data"
    }
   ],
   "source": [
    "plt.scatter(y_valid, y_pred1)\n",
    "plt.xlabel(\"Recommendations\")\n",
    "plt.ylabel(\"Predicted Recommendations\")\n",
    "plt.title(\"Recommendations vs Predicted Recommendations\")\n",
    "plt.show()"
   ]
  },
  {
   "cell_type": "code",
   "execution_count": 57,
   "metadata": {},
   "outputs": [],
   "source": [
    "##\n",
    "x_valid['ProdRecommed'] = y_valid\n",
    "x_valid['ProdRecommedPredict'] = y_pred1\n",
    "x_valid['ProdRecommed'].astype('str')\n",
    "#daf= np.load(\"s3://santander-starter-train/dictionaries/ProdRecommed.npy\",allow_pickle='TRUE').item()\n",
    "#daf= np.load(\"ProdRecommed.npy\",allow_pickle='TRUE').item()\n",
    "#daf[0].astype('str')\n",
    "x_valid['ProdRecommed'] = x_valid['ProdRecommed'].map(daf[0])\n",
    "#x_valid['ProdRecommed'] = x_valid['ProdRecommed'].remap(daf)\n",
    "x_valid['ProdRecommedPredict'] = x_valid['ProdRecommedPredict'].map(daf[0])"
   ]
  },
  {
   "cell_type": "code",
   "execution_count": 58,
   "metadata": {},
   "outputs": [
    {
     "data": {
      "text/html": [
       "<div>\n",
       "<style scoped>\n",
       "    .dataframe tbody tr th:only-of-type {\n",
       "        vertical-align: middle;\n",
       "    }\n",
       "\n",
       "    .dataframe tbody tr th {\n",
       "        vertical-align: top;\n",
       "    }\n",
       "\n",
       "    .dataframe thead th {\n",
       "        text-align: right;\n",
       "    }\n",
       "</style>\n",
       "<table border=\"1\" class=\"dataframe\">\n",
       "  <thead>\n",
       "    <tr style=\"text-align: right;\">\n",
       "      <th></th>\n",
       "      <th>date</th>\n",
       "      <th>customer_code</th>\n",
       "      <th>emp_status</th>\n",
       "      <th>residence_code</th>\n",
       "      <th>sex</th>\n",
       "      <th>age</th>\n",
       "      <th>date_first_prod</th>\n",
       "      <th>new_customer</th>\n",
       "      <th>seniority_inmonths</th>\n",
       "      <th>prime_customer</th>\n",
       "      <th>...</th>\n",
       "      <th>spouse</th>\n",
       "      <th>channel</th>\n",
       "      <th>deceased</th>\n",
       "      <th>primary_address</th>\n",
       "      <th>province_code</th>\n",
       "      <th>status_ai</th>\n",
       "      <th>gincome</th>\n",
       "      <th>social_segment</th>\n",
       "      <th>ProdRecommed</th>\n",
       "      <th>ProdRecommedPredict</th>\n",
       "    </tr>\n",
       "  </thead>\n",
       "  <tbody>\n",
       "    <tr>\n",
       "      <th>13044013</th>\n",
       "      <td>20160528.0</td>\n",
       "      <td>127040.0</td>\n",
       "      <td>1.0</td>\n",
       "      <td>0.0</td>\n",
       "      <td>2.0</td>\n",
       "      <td>44.0</td>\n",
       "      <td>19990404.0</td>\n",
       "      <td>0.0</td>\n",
       "      <td>206.0</td>\n",
       "      <td>1.0</td>\n",
       "      <td>...</td>\n",
       "      <td>2.0</td>\n",
       "      <td>5.0</td>\n",
       "      <td>0.0</td>\n",
       "      <td>1.0</td>\n",
       "      <td>28.0</td>\n",
       "      <td>1.0</td>\n",
       "      <td>90723.687500</td>\n",
       "      <td>3.0</td>\n",
       "      <td>Current Accounts, Payroll Account, particular ...</td>\n",
       "      <td>Payroll Account, Long-term deposits, Credit Ca...</td>\n",
       "    </tr>\n",
       "    <tr>\n",
       "      <th>3183259</th>\n",
       "      <td>20150628.0</td>\n",
       "      <td>1042712.0</td>\n",
       "      <td>1.0</td>\n",
       "      <td>0.0</td>\n",
       "      <td>2.0</td>\n",
       "      <td>41.0</td>\n",
       "      <td>20120804.0</td>\n",
       "      <td>0.0</td>\n",
       "      <td>35.0</td>\n",
       "      <td>1.0</td>\n",
       "      <td>...</td>\n",
       "      <td>2.0</td>\n",
       "      <td>1.0</td>\n",
       "      <td>0.0</td>\n",
       "      <td>1.0</td>\n",
       "      <td>8.0</td>\n",
       "      <td>1.0</td>\n",
       "      <td>91011.539062</td>\n",
       "      <td>3.0</td>\n",
       "      <td>Current Accounts, Direct Debit</td>\n",
       "      <td>Payroll Account, Payroll</td>\n",
       "    </tr>\n",
       "    <tr>\n",
       "      <th>3708289</th>\n",
       "      <td>20150628.0</td>\n",
       "      <td>506552.0</td>\n",
       "      <td>1.0</td>\n",
       "      <td>0.0</td>\n",
       "      <td>2.0</td>\n",
       "      <td>57.0</td>\n",
       "      <td>20041214.0</td>\n",
       "      <td>0.0</td>\n",
       "      <td>127.0</td>\n",
       "      <td>1.0</td>\n",
       "      <td>...</td>\n",
       "      <td>2.0</td>\n",
       "      <td>23.0</td>\n",
       "      <td>0.0</td>\n",
       "      <td>1.0</td>\n",
       "      <td>41.0</td>\n",
       "      <td>0.0</td>\n",
       "      <td>75419.398438</td>\n",
       "      <td>3.0</td>\n",
       "      <td>particular Account</td>\n",
       "      <td>Payroll Account, e-account, Taxes, Credit Card...</td>\n",
       "    </tr>\n",
       "    <tr>\n",
       "      <th>296346</th>\n",
       "      <td>20150128.0</td>\n",
       "      <td>1200302.0</td>\n",
       "      <td>1.0</td>\n",
       "      <td>0.0</td>\n",
       "      <td>1.0</td>\n",
       "      <td>23.0</td>\n",
       "      <td>20131016.0</td>\n",
       "      <td>0.0</td>\n",
       "      <td>21.0</td>\n",
       "      <td>1.0</td>\n",
       "      <td>...</td>\n",
       "      <td>2.0</td>\n",
       "      <td>1.0</td>\n",
       "      <td>0.0</td>\n",
       "      <td>1.0</td>\n",
       "      <td>28.0</td>\n",
       "      <td>0.0</td>\n",
       "      <td>84902.492188</td>\n",
       "      <td>3.0</td>\n",
       "      <td>Current Accounts</td>\n",
       "      <td>Current Accounts</td>\n",
       "    </tr>\n",
       "    <tr>\n",
       "      <th>6532425</th>\n",
       "      <td>20151028.0</td>\n",
       "      <td>1035422.0</td>\n",
       "      <td>1.0</td>\n",
       "      <td>0.0</td>\n",
       "      <td>1.0</td>\n",
       "      <td>24.0</td>\n",
       "      <td>20120730.0</td>\n",
       "      <td>0.0</td>\n",
       "      <td>39.0</td>\n",
       "      <td>1.0</td>\n",
       "      <td>...</td>\n",
       "      <td>2.0</td>\n",
       "      <td>1.0</td>\n",
       "      <td>0.0</td>\n",
       "      <td>1.0</td>\n",
       "      <td>41.0</td>\n",
       "      <td>0.0</td>\n",
       "      <td>108533.070312</td>\n",
       "      <td>3.0</td>\n",
       "      <td>Current Accounts</td>\n",
       "      <td>Current Accounts</td>\n",
       "    </tr>\n",
       "    <tr>\n",
       "      <th>...</th>\n",
       "      <td>...</td>\n",
       "      <td>...</td>\n",
       "      <td>...</td>\n",
       "      <td>...</td>\n",
       "      <td>...</td>\n",
       "      <td>...</td>\n",
       "      <td>...</td>\n",
       "      <td>...</td>\n",
       "      <td>...</td>\n",
       "      <td>...</td>\n",
       "      <td>...</td>\n",
       "      <td>...</td>\n",
       "      <td>...</td>\n",
       "      <td>...</td>\n",
       "      <td>...</td>\n",
       "      <td>...</td>\n",
       "      <td>...</td>\n",
       "      <td>...</td>\n",
       "      <td>...</td>\n",
       "      <td>...</td>\n",
       "      <td>...</td>\n",
       "    </tr>\n",
       "    <tr>\n",
       "      <th>10296386</th>\n",
       "      <td>20160228.0</td>\n",
       "      <td>648743.0</td>\n",
       "      <td>1.0</td>\n",
       "      <td>0.0</td>\n",
       "      <td>1.0</td>\n",
       "      <td>43.0</td>\n",
       "      <td>20061016.0</td>\n",
       "      <td>0.0</td>\n",
       "      <td>100.0</td>\n",
       "      <td>1.0</td>\n",
       "      <td>...</td>\n",
       "      <td>2.0</td>\n",
       "      <td>71.0</td>\n",
       "      <td>0.0</td>\n",
       "      <td>1.0</td>\n",
       "      <td>28.0</td>\n",
       "      <td>0.0</td>\n",
       "      <td>73694.523438</td>\n",
       "      <td>3.0</td>\n",
       "      <td></td>\n",
       "      <td>Junior Account</td>\n",
       "    </tr>\n",
       "    <tr>\n",
       "      <th>1310650</th>\n",
       "      <td>20150328.0</td>\n",
       "      <td>444671.0</td>\n",
       "      <td>1.0</td>\n",
       "      <td>0.0</td>\n",
       "      <td>1.0</td>\n",
       "      <td>55.0</td>\n",
       "      <td>20031112.0</td>\n",
       "      <td>0.0</td>\n",
       "      <td>140.0</td>\n",
       "      <td>1.0</td>\n",
       "      <td>...</td>\n",
       "      <td>2.0</td>\n",
       "      <td>5.0</td>\n",
       "      <td>0.0</td>\n",
       "      <td>1.0</td>\n",
       "      <td>28.0</td>\n",
       "      <td>0.0</td>\n",
       "      <td>137846.843750</td>\n",
       "      <td>3.0</td>\n",
       "      <td>Current Accounts</td>\n",
       "      <td>e-account, Taxes, Credit Card, Payroll, Direct...</td>\n",
       "    </tr>\n",
       "    <tr>\n",
       "      <th>12474186</th>\n",
       "      <td>20160428.0</td>\n",
       "      <td>1012170.0</td>\n",
       "      <td>1.0</td>\n",
       "      <td>0.0</td>\n",
       "      <td>1.0</td>\n",
       "      <td>11.0</td>\n",
       "      <td>20120412.0</td>\n",
       "      <td>0.0</td>\n",
       "      <td>48.0</td>\n",
       "      <td>1.0</td>\n",
       "      <td>...</td>\n",
       "      <td>2.0</td>\n",
       "      <td>3.0</td>\n",
       "      <td>0.0</td>\n",
       "      <td>1.0</td>\n",
       "      <td>28.0</td>\n",
       "      <td>1.0</td>\n",
       "      <td>142969.859375</td>\n",
       "      <td>3.0</td>\n",
       "      <td>Junior Account</td>\n",
       "      <td>Payroll Account, Long-term deposits, e-account...</td>\n",
       "    </tr>\n",
       "    <tr>\n",
       "      <th>1490040</th>\n",
       "      <td>20150328.0</td>\n",
       "      <td>368245.0</td>\n",
       "      <td>1.0</td>\n",
       "      <td>0.0</td>\n",
       "      <td>1.0</td>\n",
       "      <td>69.0</td>\n",
       "      <td>20020704.0</td>\n",
       "      <td>0.0</td>\n",
       "      <td>6.0</td>\n",
       "      <td>1.0</td>\n",
       "      <td>...</td>\n",
       "      <td>2.0</td>\n",
       "      <td>0.0</td>\n",
       "      <td>0.0</td>\n",
       "      <td>1.0</td>\n",
       "      <td>29.0</td>\n",
       "      <td>1.0</td>\n",
       "      <td>124218.093750</td>\n",
       "      <td>3.0</td>\n",
       "      <td>Current Accounts</td>\n",
       "      <td>Current Accounts, e-account, Taxes, Credit Card</td>\n",
       "    </tr>\n",
       "    <tr>\n",
       "      <th>5545965</th>\n",
       "      <td>20150928.0</td>\n",
       "      <td>893713.0</td>\n",
       "      <td>1.0</td>\n",
       "      <td>0.0</td>\n",
       "      <td>2.0</td>\n",
       "      <td>60.0</td>\n",
       "      <td>20110202.0</td>\n",
       "      <td>0.0</td>\n",
       "      <td>59.0</td>\n",
       "      <td>1.0</td>\n",
       "      <td>...</td>\n",
       "      <td>2.0</td>\n",
       "      <td>5.0</td>\n",
       "      <td>0.0</td>\n",
       "      <td>1.0</td>\n",
       "      <td>28.0</td>\n",
       "      <td>0.0</td>\n",
       "      <td>46740.871094</td>\n",
       "      <td>3.0</td>\n",
       "      <td></td>\n",
       "      <td>Payroll Account, Long-term deposits, e-account...</td>\n",
       "    </tr>\n",
       "  </tbody>\n",
       "</table>\n",
       "<p>2729462 rows × 25 columns</p>\n",
       "</div>"
      ],
      "text/plain": [
       "                date  customer_code  emp_status  residence_code  sex   age  \\\n",
       "13044013  20160528.0       127040.0         1.0             0.0  2.0  44.0   \n",
       "3183259   20150628.0      1042712.0         1.0             0.0  2.0  41.0   \n",
       "3708289   20150628.0       506552.0         1.0             0.0  2.0  57.0   \n",
       "296346    20150128.0      1200302.0         1.0             0.0  1.0  23.0   \n",
       "6532425   20151028.0      1035422.0         1.0             0.0  1.0  24.0   \n",
       "...              ...            ...         ...             ...  ...   ...   \n",
       "10296386  20160228.0       648743.0         1.0             0.0  1.0  43.0   \n",
       "1310650   20150328.0       444671.0         1.0             0.0  1.0  55.0   \n",
       "12474186  20160428.0      1012170.0         1.0             0.0  1.0  11.0   \n",
       "1490040   20150328.0       368245.0         1.0             0.0  1.0  69.0   \n",
       "5545965   20150928.0       893713.0         1.0             0.0  2.0  60.0   \n",
       "\n",
       "          date_first_prod  new_customer  seniority_inmonths  prime_customer  \\\n",
       "13044013       19990404.0           0.0               206.0             1.0   \n",
       "3183259        20120804.0           0.0                35.0             1.0   \n",
       "3708289        20041214.0           0.0               127.0             1.0   \n",
       "296346         20131016.0           0.0                21.0             1.0   \n",
       "6532425        20120730.0           0.0                39.0             1.0   \n",
       "...                   ...           ...                 ...             ...   \n",
       "10296386       20061016.0           0.0               100.0             1.0   \n",
       "1310650        20031112.0           0.0               140.0             1.0   \n",
       "12474186       20120412.0           0.0                48.0             1.0   \n",
       "1490040        20020704.0           0.0                 6.0             1.0   \n",
       "5545965        20110202.0           0.0                59.0             1.0   \n",
       "\n",
       "          ...  spouse  channel  deceased  primary_address  province_code  \\\n",
       "13044013  ...     2.0      5.0       0.0              1.0           28.0   \n",
       "3183259   ...     2.0      1.0       0.0              1.0            8.0   \n",
       "3708289   ...     2.0     23.0       0.0              1.0           41.0   \n",
       "296346    ...     2.0      1.0       0.0              1.0           28.0   \n",
       "6532425   ...     2.0      1.0       0.0              1.0           41.0   \n",
       "...       ...     ...      ...       ...              ...            ...   \n",
       "10296386  ...     2.0     71.0       0.0              1.0           28.0   \n",
       "1310650   ...     2.0      5.0       0.0              1.0           28.0   \n",
       "12474186  ...     2.0      3.0       0.0              1.0           28.0   \n",
       "1490040   ...     2.0      0.0       0.0              1.0           29.0   \n",
       "5545965   ...     2.0      5.0       0.0              1.0           28.0   \n",
       "\n",
       "          status_ai        gincome  social_segment  \\\n",
       "13044013        1.0   90723.687500             3.0   \n",
       "3183259         1.0   91011.539062             3.0   \n",
       "3708289         0.0   75419.398438             3.0   \n",
       "296346          0.0   84902.492188             3.0   \n",
       "6532425         0.0  108533.070312             3.0   \n",
       "...             ...            ...             ...   \n",
       "10296386        0.0   73694.523438             3.0   \n",
       "1310650         0.0  137846.843750             3.0   \n",
       "12474186        1.0  142969.859375             3.0   \n",
       "1490040         1.0  124218.093750             3.0   \n",
       "5545965         0.0   46740.871094             3.0   \n",
       "\n",
       "                                               ProdRecommed  \\\n",
       "13044013  Current Accounts, Payroll Account, particular ...   \n",
       "3183259                      Current Accounts, Direct Debit   \n",
       "3708289                                  particular Account   \n",
       "296346                                     Current Accounts   \n",
       "6532425                                    Current Accounts   \n",
       "...                                                     ...   \n",
       "10296386                                                      \n",
       "1310650                                    Current Accounts   \n",
       "12474186                                     Junior Account   \n",
       "1490040                                    Current Accounts   \n",
       "5545965                                                       \n",
       "\n",
       "                                        ProdRecommedPredict  \n",
       "13044013  Payroll Account, Long-term deposits, Credit Ca...  \n",
       "3183259                            Payroll Account, Payroll  \n",
       "3708289   Payroll Account, e-account, Taxes, Credit Card...  \n",
       "296346                                     Current Accounts  \n",
       "6532425                                    Current Accounts  \n",
       "...                                                     ...  \n",
       "10296386                                     Junior Account  \n",
       "1310650   e-account, Taxes, Credit Card, Payroll, Direct...  \n",
       "12474186  Payroll Account, Long-term deposits, e-account...  \n",
       "1490040     Current Accounts, e-account, Taxes, Credit Card  \n",
       "5545965   Payroll Account, Long-term deposits, e-account...  \n",
       "\n",
       "[2729462 rows x 25 columns]"
      ]
     },
     "execution_count": 58,
     "metadata": {},
     "output_type": "execute_result"
    }
   ],
   "source": [
    "x_valid"
   ]
  },
  {
   "cell_type": "code",
   "execution_count": 59,
   "metadata": {},
   "outputs": [
    {
     "name": "stdout",
     "output_type": "stream",
     "text": [
      "R^2: 0.2821807928066473\n",
      "MAE: 167.59692239716105\n",
      "MSE: 246691.65441431315\n",
      "RMSE: 496.6806362385322\n"
     ]
    }
   ],
   "source": [
    "import sklearn.metrics as metrics\n",
    "print('R^2:',metrics.r2_score(y_valid, y_pred1))\n",
    "#print('Adjusted R^2:',1 - (1-metrics.r2_score(y_train, y_pred))*(len(y_train)-1)/(len(y_train)-X_train.shape[1]-1))\n",
    "print('MAE:',metrics.mean_absolute_error(y_valid, y_pred1))\n",
    "print('MSE:',metrics.mean_squared_error(y_valid, y_pred1))\n",
    "print('RMSE:',np.sqrt(metrics.mean_squared_error(y_valid, y_pred1)))"
   ]
  },
  {
   "cell_type": "code",
   "execution_count": 60,
   "metadata": {},
   "outputs": [
    {
     "data": {
      "text/plain": [
       "[<matplotlib.lines.Line2D at 0x7f059087e400>]"
      ]
     },
     "execution_count": 60,
     "metadata": {},
     "output_type": "execute_result"
    },
    {
     "data": {
      "image/png": "[encoded data removed]",
      "text/plain": [
       "<Figure size 432x288 with 1 Axes>"
      ]
     },
     "metadata": {
      "needs_background": "light"
     },
     "output_type": "display_data"
    }
   ],
   "source": [
    "plt.plot(np.arange(len(y_valid)),y_valid ,color='green', marker='o', linestyle='dashed',linewidth=2, markersize=12)\n",
    "plt.plot(np.arange(len(y_pred)),y_pred ,color='red', marker='o', linestyle='dashed',linewidth=2, markersize=12)"
   ]
  },
  {
   "cell_type": "markdown",
   "metadata": {},
   "source": [
    "## LGB does not seem to give the good rsults as values are not aligned"
   ]
  },
  {
   "cell_type": "code",
   "execution_count": 50,
   "metadata": {},
   "outputs": [
    {
     "data": {
      "text/plain": [
       "{'ResponseMetadata': {'RequestId': 'ZQ5CS5RD6NE9ZJPA',\n",
       "  'HostId': 'xK/zEhachdY+Nfk/nV/fA8lAiXXnOhwN98PMwr4KuvAvh2GMbbkxzz9aruRSdCuzSZkGi2NE0no=',\n",
       "  'HTTPStatusCode': 200,\n",
       "  'HTTPHeaders': {'x-amz-id-2': 'xK/zEhachdY+Nfk/nV/fA8lAiXXnOhwN98PMwr4KuvAvh2GMbbkxzz9aruRSdCuzSZkGi2NE0no=',\n",
       "   'x-amz-request-id': 'ZQ5CS5RD6NE9ZJPA',\n",
       "   'date': 'Mon, 22 Mar 2021 19:11:24 GMT',\n",
       "   'x-amz-version-id': 'SLEqXBwWTOz8IkFVPKe4LROsoXlJDEfR',\n",
       "   'etag': '\"0389598fd2cf0c9dbfc65d843f393974\"',\n",
       "   'content-length': '0',\n",
       "   'server': 'AmazonS3'},\n",
       "  'RetryAttempts': 0},\n",
       " 'ETag': '\"0389598fd2cf0c9dbfc65d843f393974\"',\n",
       " 'VersionId': 'SLEqXBwWTOz8IkFVPKe4LROsoXlJDEfR'}"
      ]
     },
     "execution_count": 50,
     "metadata": {},
     "output_type": "execute_result"
    }
   ],
   "source": [
    "#Save the LGB Model \n",
    "import pickle\n",
    "import boto3\n",
    "#s3://santander-starter-train/modeldtr/\n",
    "filename = 'lgb.sav'\n",
    "#loaded_model = pickle.load(open(filename, 'rb'))\n",
    "pickle.dump(model, open(filename, 'wb'))\n",
    "# some time later...\n",
    "s3_resource = boto3.resource('s3')\n",
    "s3_resource.Object('santander-starter-train','modelsagemaker/lgb.sav').put(Body=open(filename, 'rb'))\n"
   ]
  },
  {
   "cell_type": "code",
   "execution_count": 52,
   "metadata": {},
   "outputs": [],
   "source": [
    "## Download the Model and run Prediction\n",
    "import boto3\n",
    "import pickle\n",
    "s3_resource = boto3.resource('s3')\n",
    "filename = 'lgb.sav'\n",
    "objectfile = s3_resource.Object('santander-starter-train','modelsagemaker/lgb.sav').download_file(filename)\n",
    "lgbmodel = pickle.load(open(filename, 'rb'))\n",
    "x_train, x_valid, y_train, y_valid = train_test_split(traintesting.drop([\"ProductRecommed\"], axis=1), traintesting['ProductRecommed'], test_size=0.2, random_state=13)\n",
    "y_pred=lgbmodel.predict(x_valid)"
   ]
  },
  {
   "cell_type": "markdown",
   "metadata": {},
   "source": [
    "## Gradient Boosting Model"
   ]
  },
  {
   "cell_type": "code",
   "execution_count": 9,
   "metadata": {},
   "outputs": [],
   "source": [
    "traintesting1 = traintesting"
   ]
  },
  {
   "cell_type": "code",
   "execution_count": 10,
   "metadata": {},
   "outputs": [
    {
     "name": "stdout",
     "output_type": "stream",
     "text": [
      "Done. Time elapsed for Gradient Boost Model Training: 2426.62s\n"
     ]
    }
   ],
   "source": [
    "start_time = time.time()\n",
    "from sklearn.datasets import make_regression\n",
    "from sklearn.ensemble import GradientBoostingRegressor\n",
    "from sklearn.model_selection import train_test_split\n",
    "#X, y = make_regression(random_state=0)\n",
    "X_train, X_test, y_train, y_test = train_test_split(traintesting1.drop(['ProductRecommed'], axis=1), traintesting1['ProductRecommed'],test_size = 0.30, random_state= 355)\n",
    "reg = GradientBoostingRegressor(random_state=0)\n",
    "reg.fit(X_train, y_train)\n",
    "GradientBoostingRegressor(random_state=0)\n",
    "\n",
    "\n",
    "print('Done. Time elapsed for Gradient Boost Model Training: {:.2f}s'.format(time.time() - start_time))"
   ]
  },
  {
   "cell_type": "code",
   "execution_count": 11,
   "metadata": {},
   "outputs": [
    {
     "data": {
      "text/plain": [
       "0.257722490571316"
      ]
     },
     "execution_count": 11,
     "metadata": {},
     "output_type": "execute_result"
    }
   ],
   "source": [
    "y_prd_grad = reg.predict(X_test)\n",
    "\n",
    "reg.score(X_test, y_test)"
   ]
  },
  {
   "cell_type": "code",
   "execution_count": 12,
   "metadata": {},
   "outputs": [
    {
     "data": {
      "text/plain": [
       "[<matplotlib.lines.Line2D at 0x7f2b39c7fe48>]"
      ]
     },
     "execution_count": 12,
     "metadata": {},
     "output_type": "execute_result"
    },
    {
     "data": {
      "image/png": "[encoded data removed]",
      "text/plain": [
       "<Figure size 432x288 with 1 Axes>"
      ]
     },
     "metadata": {
      "needs_background": "light"
     },
     "output_type": "display_data"
    }
   ],
   "source": [
    "plt.plot(np.arange(len(y_test)),y_test ,color='green', marker='o', linestyle='dashed',linewidth=2, markersize=12)\n",
    "plt.plot(np.arange(len(y_prd_grad)),y_prd_grad ,color='red', marker='o', linestyle='dashed',linewidth=2, markersize=12)"
   ]
  },
  {
   "cell_type": "code",
   "execution_count": 14,
   "metadata": {},
   "outputs": [
    {
     "data": {
      "text/plain": [
       "{'ResponseMetadata': {'RequestId': 'SA5XCQGPE63VGZSA',\n",
       "  'HostId': 'hBOdhabTLyaWZu0wwXB0MY4HCMhqifiaWvT+OMLdiXleX3jYTL7I920U6i4B3YP2MkLT6V3F7Vk=',\n",
       "  'HTTPStatusCode': 200,\n",
       "  'HTTPHeaders': {'x-amz-id-2': 'hBOdhabTLyaWZu0wwXB0MY4HCMhqifiaWvT+OMLdiXleX3jYTL7I920U6i4B3YP2MkLT6V3F7Vk=',\n",
       "   'x-amz-request-id': 'SA5XCQGPE63VGZSA',\n",
       "   'date': 'Tue, 23 Mar 2021 10:15:42 GMT',\n",
       "   'x-amz-version-id': 'dqsSySx8.6HyokiylBKW9TjRxbKuLHm4',\n",
       "   'etag': '\"578110b9395e2356b02107ed2800ca45\"',\n",
       "   'content-length': '0',\n",
       "   'server': 'AmazonS3'},\n",
       "  'RetryAttempts': 0},\n",
       " 'ETag': '\"578110b9395e2356b02107ed2800ca45\"',\n",
       " 'VersionId': 'dqsSySx8.6HyokiylBKW9TjRxbKuLHm4'}"
      ]
     },
     "execution_count": 14,
     "metadata": {},
     "output_type": "execute_result"
    }
   ],
   "source": [
    "## Save GB Model\n",
    "import pickle\n",
    "import boto3\n",
    "#s3://santander-starter-train/modeldtr/\n",
    "filename = 'gbm.sav'\n",
    "#loaded_model = pickle.load(open(filename, 'rb'))\n",
    "pickle.dump(reg, open(filename, 'wb'))\n",
    "# some time later...\n",
    "s3_resource = boto3.resource('s3')\n",
    "s3_resource.Object('santander-starter-train','modelsagemaker/gbm.sav').put(Body=open(filename, 'rb'))"
   ]
  },
  {
   "cell_type": "markdown",
   "metadata": {},
   "source": [
    "## Gradeint Booster has given only 25.6% score thus not relevant for our case"
   ]
  },
  {
   "cell_type": "markdown",
   "metadata": {},
   "source": [
    "## Linar Regression"
   ]
  },
  {
   "cell_type": "code",
   "execution_count": 7,
   "metadata": {},
   "outputs": [
    {
     "data": {
      "text/plain": [
       "LinearRegression()"
      ]
     },
     "execution_count": 7,
     "metadata": {},
     "output_type": "execute_result"
    }
   ],
   "source": [
    "from sklearn.linear_model import LinearRegression\n",
    "\n",
    "# Create a Linear regressor\n",
    "lm = LinearRegression()\n",
    "\n",
    "# Train the model using the training sets \n",
    "lm.fit(traintesting.drop(['ProductRecommed'], axis=1), traintesting['ProductRecommed'])"
   ]
  },
  {
   "cell_type": "code",
   "execution_count": 8,
   "metadata": {},
   "outputs": [
    {
     "data": {
      "text/plain": [
       "12305.366814577916"
      ]
     },
     "execution_count": 8,
     "metadata": {},
     "output_type": "execute_result"
    }
   ],
   "source": [
    "lm.intercept_"
   ]
  },
  {
   "cell_type": "code",
   "execution_count": 9,
   "metadata": {},
   "outputs": [
    {
     "data": {
      "text/html": [
       "<div>\n",
       "<style scoped>\n",
       "    .dataframe tbody tr th:only-of-type {\n",
       "        vertical-align: middle;\n",
       "    }\n",
       "\n",
       "    .dataframe tbody tr th {\n",
       "        vertical-align: top;\n",
       "    }\n",
       "\n",
       "    .dataframe thead th {\n",
       "        text-align: right;\n",
       "    }\n",
       "</style>\n",
       "<table border=\"1\" class=\"dataframe\">\n",
       "  <thead>\n",
       "    <tr style=\"text-align: right;\">\n",
       "      <th></th>\n",
       "      <th>Attribute</th>\n",
       "      <th>Coefficients</th>\n",
       "    </tr>\n",
       "  </thead>\n",
       "  <tbody>\n",
       "    <tr>\n",
       "      <th>0</th>\n",
       "      <td>date</td>\n",
       "      <td>-0.000502921</td>\n",
       "    </tr>\n",
       "    <tr>\n",
       "      <th>1</th>\n",
       "      <td>customer_code</td>\n",
       "      <td>-1.52424e-06</td>\n",
       "    </tr>\n",
       "    <tr>\n",
       "      <th>2</th>\n",
       "      <td>emp_status</td>\n",
       "      <td>299.408</td>\n",
       "    </tr>\n",
       "    <tr>\n",
       "      <th>3</th>\n",
       "      <td>residence_code</td>\n",
       "      <td>-0.692058</td>\n",
       "    </tr>\n",
       "    <tr>\n",
       "      <th>4</th>\n",
       "      <td>sex</td>\n",
       "      <td>-9.18007</td>\n",
       "    </tr>\n",
       "    <tr>\n",
       "      <th>5</th>\n",
       "      <td>age</td>\n",
       "      <td>-1.51127</td>\n",
       "    </tr>\n",
       "    <tr>\n",
       "      <th>6</th>\n",
       "      <td>date_first_prod</td>\n",
       "      <td>-0.00328963</td>\n",
       "    </tr>\n",
       "    <tr>\n",
       "      <th>7</th>\n",
       "      <td>new_customer</td>\n",
       "      <td>17.5763</td>\n",
       "    </tr>\n",
       "    <tr>\n",
       "      <th>8</th>\n",
       "      <td>seniority_inmonths</td>\n",
       "      <td>-0.00128176</td>\n",
       "    </tr>\n",
       "    <tr>\n",
       "      <th>9</th>\n",
       "      <td>prime_customer</td>\n",
       "      <td>-142.353</td>\n",
       "    </tr>\n",
       "    <tr>\n",
       "      <th>10</th>\n",
       "      <td>prime_lastdate</td>\n",
       "      <td>0.000693381</td>\n",
       "    </tr>\n",
       "    <tr>\n",
       "      <th>11</th>\n",
       "      <td>customer_type</td>\n",
       "      <td>-17.111</td>\n",
       "    </tr>\n",
       "    <tr>\n",
       "      <th>12</th>\n",
       "      <td>customer_relation</td>\n",
       "      <td>4.06793e-10</td>\n",
       "    </tr>\n",
       "    <tr>\n",
       "      <th>13</th>\n",
       "      <td>is_residence</td>\n",
       "      <td>95.3812</td>\n",
       "    </tr>\n",
       "    <tr>\n",
       "      <th>14</th>\n",
       "      <td>is_foreigner</td>\n",
       "      <td>-3.37377</td>\n",
       "    </tr>\n",
       "    <tr>\n",
       "      <th>15</th>\n",
       "      <td>spouse</td>\n",
       "      <td>-657.165</td>\n",
       "    </tr>\n",
       "    <tr>\n",
       "      <th>16</th>\n",
       "      <td>channel</td>\n",
       "      <td>0.282684</td>\n",
       "    </tr>\n",
       "    <tr>\n",
       "      <th>17</th>\n",
       "      <td>deceased</td>\n",
       "      <td>-55.9666</td>\n",
       "    </tr>\n",
       "    <tr>\n",
       "      <th>18</th>\n",
       "      <td>primary_address</td>\n",
       "      <td>65883.7</td>\n",
       "    </tr>\n",
       "    <tr>\n",
       "      <th>19</th>\n",
       "      <td>province_code</td>\n",
       "      <td>0.132169</td>\n",
       "    </tr>\n",
       "    <tr>\n",
       "      <th>20</th>\n",
       "      <td>status_ai</td>\n",
       "      <td>187.545</td>\n",
       "    </tr>\n",
       "    <tr>\n",
       "      <th>21</th>\n",
       "      <td>gincome</td>\n",
       "      <td>1.99439e-05</td>\n",
       "    </tr>\n",
       "    <tr>\n",
       "      <th>22</th>\n",
       "      <td>social_segment</td>\n",
       "      <td>-286.343</td>\n",
       "    </tr>\n",
       "    <tr>\n",
       "      <th>23</th>\n",
       "      <td>ProductRecommed</td>\n",
       "      <td>None</td>\n",
       "    </tr>\n",
       "  </tbody>\n",
       "</table>\n",
       "</div>"
      ],
      "text/plain": [
       "             Attribute Coefficients\n",
       "0                 date -0.000502921\n",
       "1        customer_code -1.52424e-06\n",
       "2           emp_status      299.408\n",
       "3       residence_code    -0.692058\n",
       "4                  sex     -9.18007\n",
       "5                  age     -1.51127\n",
       "6      date_first_prod  -0.00328963\n",
       "7         new_customer      17.5763\n",
       "8   seniority_inmonths  -0.00128176\n",
       "9       prime_customer     -142.353\n",
       "10      prime_lastdate  0.000693381\n",
       "11       customer_type      -17.111\n",
       "12   customer_relation  4.06793e-10\n",
       "13        is_residence      95.3812\n",
       "14        is_foreigner     -3.37377\n",
       "15              spouse     -657.165\n",
       "16             channel     0.282684\n",
       "17            deceased     -55.9666\n",
       "18     primary_address      65883.7\n",
       "19       province_code     0.132169\n",
       "20           status_ai      187.545\n",
       "21             gincome  1.99439e-05\n",
       "22      social_segment     -286.343\n",
       "23     ProductRecommed         None"
      ]
     },
     "execution_count": 9,
     "metadata": {},
     "output_type": "execute_result"
    }
   ],
   "source": [
    "coeffcients = pd.DataFrame([traintesting.columns,lm.coef_]).T\n",
    "coeffcients = coeffcients.rename(columns={0: 'Attribute', 1: 'Coefficients'})\n",
    "coeffcients"
   ]
  },
  {
   "cell_type": "markdown",
   "metadata": {},
   "source": [
    "int_cols = traintesting.select_dtypes(include=np.int).columns.to_list()\n",
    "bool_cols = []\n",
    "disc_cols = []\n",
    "\n",
    "for col in int_cols:\n",
    "    print(f'{col}-----{traintesting[col].nunique()}')\n",
    "    print('-'  * 30)\n",
    "    print(f'{traintesting[col].unique()}')\n",
    "    print('='  * 30)\n",
    "    \n",
    "    if traintesting[col].nunique() > 2:\n",
    "        disc_cols.append(col)\n",
    "    else:\n",
    "        bool_cols.append(col)"
   ]
  },
  {
   "cell_type": "code",
   "execution_count": 10,
   "metadata": {},
   "outputs": [],
   "source": [
    "y_pred = lm.predict(traintesting.drop(['ProductRecommed'], axis=1))"
   ]
  },
  {
   "cell_type": "code",
   "execution_count": 11,
   "metadata": {},
   "outputs": [
    {
     "name": "stdout",
     "output_type": "stream",
     "text": [
      "R^2: 0.19069759004382203\n",
      "MAE: 224.52943969794572\n",
      "MSE: 275726.01624569827\n",
      "RMSE: 525.0961971350566\n"
     ]
    }
   ],
   "source": [
    "y_train = traintesting['ProductRecommed']\n",
    "import sklearn.metrics as metrics\n",
    "print('R^2:',metrics.r2_score(y_train, y_pred))\n",
    "#print('Adjusted R^2:',1 - (1-metrics.r2_score(y_train, y_pred))*(len(y_train)-1)/(len(y_train)-X_train.shape[1]-1))\n",
    "print('MAE:',metrics.mean_absolute_error(y_train, y_pred))\n",
    "print('MSE:',metrics.mean_squared_error(y_train, y_pred))\n",
    "print('RMSE:',np.sqrt(metrics.mean_squared_error(y_train, y_pred)))"
   ]
  },
  {
   "cell_type": "code",
   "execution_count": 12,
   "metadata": {},
   "outputs": [
    {
     "data": {
      "text/plain": [
       "[<matplotlib.lines.Line2D at 0x7efbbed213c8>]"
      ]
     },
     "execution_count": 12,
     "metadata": {},
     "output_type": "execute_result"
    },
    {
     "data": {
      "image/png": "[encoded data removed]",
      "text/plain": [
       "<Figure size 432x288 with 1 Axes>"
      ]
     },
     "metadata": {
      "needs_background": "light"
     },
     "output_type": "display_data"
    }
   ],
   "source": [
    "plt.plot(np.arange(len(y_train)),y_train ,color='green', marker='o', linestyle='dashed',linewidth=2, markersize=12)\n",
    "plt.plot(np.arange(len(y_pred)),y_pred ,color='red', marker='o', linestyle='dashed',linewidth=2, markersize=12)"
   ]
  },
  {
   "cell_type": "markdown",
   "metadata": {},
   "source": [
    "## MSE and RMSE values are too high for Linear Regression model can not consider this model"
   ]
  },
  {
   "cell_type": "code",
   "execution_count": 13,
   "metadata": {},
   "outputs": [
    {
     "data": {
      "image/png": "[encoded data removed]",
      "text/plain": [
       "<Figure size 432x288 with 1 Axes>"
      ]
     },
     "metadata": {
      "needs_background": "light"
     },
     "output_type": "display_data"
    }
   ],
   "source": [
    "plt.scatter(y_train, y_pred)\n",
    "plt.xlabel(\"Recommendations\")\n",
    "plt.ylabel(\"Predicted Recommendations\")\n",
    "plt.title(\"Recommendations vs Predicted Recommendations\")\n",
    "plt.show()"
   ]
  },
  {
   "cell_type": "code",
   "execution_count": 14,
   "metadata": {},
   "outputs": [
    {
     "data": {
      "text/plain": [
       "{'ResponseMetadata': {'RequestId': 'CK8HH1VGNG807945',\n",
       "  'HostId': 'dLF0729bKae0YEPPZ0npDQG1lID+2q0CvV4CQ4I4uoJzJQJq0LkPFA5FFsxQqlK4le7D/OiG/co=',\n",
       "  'HTTPStatusCode': 200,\n",
       "  'HTTPHeaders': {'x-amz-id-2': 'dLF0729bKae0YEPPZ0npDQG1lID+2q0CvV4CQ4I4uoJzJQJq0LkPFA5FFsxQqlK4le7D/OiG/co=',\n",
       "   'x-amz-request-id': 'CK8HH1VGNG807945',\n",
       "   'date': 'Mon, 22 Mar 2021 15:41:34 GMT',\n",
       "   'x-amz-version-id': 'r9jPTxo._1XtOwyRGqFBXK7uesduJL2a',\n",
       "   'etag': '\"d722a02eb668025fe9c625f768d75f6f\"',\n",
       "   'content-length': '0',\n",
       "   'server': 'AmazonS3'},\n",
       "  'RetryAttempts': 0},\n",
       " 'ETag': '\"d722a02eb668025fe9c625f768d75f6f\"',\n",
       " 'VersionId': 'r9jPTxo._1XtOwyRGqFBXK7uesduJL2a'}"
      ]
     },
     "execution_count": 14,
     "metadata": {},
     "output_type": "execute_result"
    }
   ],
   "source": [
    "import pickle\n",
    "import boto3\n",
    "#s3://santander-starter-train/modeldtr/\n",
    "filename = 'linearreg.sav'\n",
    "#loaded_model = pickle.load(open(filename, 'rb'))\n",
    "pickle.dump(lm, open(filename, 'wb'))\n",
    "# some time later...\n",
    "s3_resource = boto3.resource('s3')\n",
    "s3_resource.Object('santander-starter-train','modelsagemaker/linearreg.sav').put(Body=open(filename, 'rb'))\n",
    "#linearregmodel = 's3://santander-starter-train/modelsagemaker/linearreg.sav'\n",
    "#y_predlm = linearregmodel.predict(traintesting.drop(['ProductRecommed'], axis=1))\n",
    "#y_predlm"
   ]
  },
  {
   "cell_type": "code",
   "execution_count": 39,
   "metadata": {},
   "outputs": [
    {
     "data": {
      "text/plain": [
       "array([ 42.56495991, -27.05000952, -21.94849862, ...,  86.96249067,\n",
       "       -61.49743594,  18.50573305])"
      ]
     },
     "execution_count": 39,
     "metadata": {},
     "output_type": "execute_result"
    }
   ],
   "source": [
    "#with open('linearreg.sav', 'wb') as data:\n",
    "#linearregmodel = s3_resource.Object('santander-starter-train','modelsagemaker/linearreg.sav').download_fileobj('linearreg.sav', 'rb')\n",
    "import boto3\n",
    "import pickle\n",
    "s3_resource = boto3.resource('s3')\n",
    "filename = 'linearreg.sav'\n",
    "objectfile = s3_resource.Object('santander-starter-train','modelsagemaker/linearreg.sav').download_file(filename)\n",
    "linmodel = pickle.load(open(filename, 'rb'))\n",
    "y_pred = linmodel.predict(traintesting.drop(['ProductRecommed'], axis=1))\n",
    "\n",
    "y_pred"
   ]
  },
  {
   "cell_type": "markdown",
   "metadata": {},
   "source": [
    "for col in disc_cols:\n",
    "    print(f'{col} ----- ', pd.to_numeric(traintesting[col], downcast = 'integer').dtype)\n",
    "    traintesting[col] = pd.to_numeric(traintesting[col], downcast = 'integer')"
   ]
  },
  {
   "cell_type": "markdown",
   "metadata": {},
   "source": [
    "traintesting[bool_cols] = traintesting[bool_cols].astype(np.bool_)"
   ]
  },
  {
   "cell_type": "markdown",
   "metadata": {},
   "source": [
    "cont_cols = traintesting.select_dtypes(include=np.float_).columns.to_list()\n",
    "cont_int_cols = []\n",
    "cont_float_cols = []\n",
    "\n",
    "for col in cont_cols:\n",
    "    print(f'{col}-----{traintesting[col].nunique()}')\n",
    "    print('-'  * 30)\n",
    "    print(f'{traintesting[col].unique()}')\n",
    "    print('='  * 30)\n",
    "    if traintesting[col].nunique() < 5 : \n",
    "        cont_int_cols.append(col)\n",
    "    else:\n",
    "        cont_float_cols.append(col)  "
   ]
  },
  {
   "cell_type": "markdown",
   "metadata": {},
   "source": [
    "# Decision Tree"
   ]
  },
  {
   "cell_type": "code",
   "execution_count": 15,
   "metadata": {},
   "outputs": [],
   "source": [
    "## Decision Tree Model\n",
    "from sklearn import preprocessing\n",
    "from sklearn.linear_model import LogisticRegression\n",
    "from sklearn.model_selection import train_test_split,GridSearchCV\n",
    "from sklearn import metrics\n",
    "from sklearn.metrics import classification_report\n"
   ]
  },
  {
   "cell_type": "code",
   "execution_count": 16,
   "metadata": {},
   "outputs": [],
   "source": [
    "x_train,x_test,y_train,y_test = train_test_split(traintesting.drop(['ProductRecommed'], axis=1), traintesting['ProductRecommed'],test_size = 0.30, random_state= 355)"
   ]
  },
  {
   "cell_type": "markdown",
   "metadata": {},
   "source": [
    "x_train.to_csv('x_train_stand_starter.csv')\n",
    "y_train.to_csv('y_train_stand_starter.csv')\n",
    "x_test.to_csv('x_test_stand_starter.csv')\n",
    "y_test.to_csv('y_test_stand_starter.csv')"
   ]
  },
  {
   "cell_type": "markdown",
   "metadata": {},
   "source": [
    "x_train=pd.read_csv('x_train_stand_starter.csv')\n",
    "y_train=pd.read_csv('y_train_stand_starter.csv')\n",
    "x_test=pd.read_csv('x_test_stand_starter.csv')\n",
    "y_test=pd.read_csv('y_test_stand_starter.csv')"
   ]
  },
  {
   "cell_type": "code",
   "execution_count": 17,
   "metadata": {},
   "outputs": [
    {
     "data": {
      "text/plain": [
       "DecisionTreeRegressor()"
      ]
     },
     "execution_count": 17,
     "metadata": {},
     "output_type": "execute_result"
    }
   ],
   "source": [
    "from sklearn.tree import DecisionTreeRegressor, export_graphviz\n",
    "reg = DecisionTreeRegressor()\n",
    "reg.fit(x_train,y_train)"
   ]
  },
  {
   "cell_type": "code",
   "execution_count": 18,
   "metadata": {},
   "outputs": [],
   "source": [
    "y_prediction = reg.predict(x_test)\n",
    "#reg.score(x_test,y_test)"
   ]
  },
  {
   "cell_type": "markdown",
   "metadata": {},
   "source": [
    "## Decision Tree Regressor has been giving 78% score the best so far"
   ]
  },
  {
   "cell_type": "code",
   "execution_count": 19,
   "metadata": {},
   "outputs": [
    {
     "data": {
      "text/plain": [
       "0.7815593690663116"
      ]
     },
     "execution_count": 19,
     "metadata": {},
     "output_type": "execute_result"
    }
   ],
   "source": [
    "reg.score(x_test,y_test)"
   ]
  },
  {
   "cell_type": "code",
   "execution_count": 23,
   "metadata": {},
   "outputs": [
    {
     "data": {
      "text/plain": [
       "{'ResponseMetadata': {'RequestId': 'E35D2MS22JZ5S5GG',\n",
       "  'HostId': 'hJtYKugv/6f0g57TS0CH2Tz18Y6SZpVwWLIXSZ5TPw90kUoZ27ERnYZLj2ghtaNwXaXM+nEg2Zk=',\n",
       "  'HTTPStatusCode': 200,\n",
       "  'HTTPHeaders': {'x-amz-id-2': 'hJtYKugv/6f0g57TS0CH2Tz18Y6SZpVwWLIXSZ5TPw90kUoZ27ERnYZLj2ghtaNwXaXM+nEg2Zk=',\n",
       "   'x-amz-request-id': 'E35D2MS22JZ5S5GG',\n",
       "   'date': 'Tue, 23 Mar 2021 10:21:32 GMT',\n",
       "   'x-amz-version-id': 'RKpb9_7MmuVW3uy50bckiDBY7zj_vzJJ',\n",
       "   'etag': '\"9d4e74281c84b96b68cb7131c5883bcd\"',\n",
       "   'content-length': '0',\n",
       "   'server': 'AmazonS3'},\n",
       "  'RetryAttempts': 0},\n",
       " 'ETag': '\"9d4e74281c84b96b68cb7131c5883bcd\"',\n",
       " 'VersionId': 'RKpb9_7MmuVW3uy50bckiDBY7zj_vzJJ'}"
      ]
     },
     "execution_count": 23,
     "metadata": {},
     "output_type": "execute_result"
    }
   ],
   "source": [
    "## Save DTR Model\n",
    "import pickle\n",
    "import boto3\n",
    "#s3://santander-starter-train/modeldtr/\n",
    "filename = 'dtr.sav'\n",
    "#loaded_model = pickle.load(open(filename, 'rb'))\n",
    "pickle.dump(reg, open(filename, 'wb'))\n",
    "# some time later...\n",
    "s3_resource = boto3.resource('s3')\n",
    "s3_resource.Object('santander-starter-train','modelsagemaker/dtr.sav').put(Body=open(filename, 'rb'))"
   ]
  },
  {
   "cell_type": "markdown",
   "metadata": {},
   "source": [
    "from sklearn.ensemble import AdaBoostRegressor\n",
    "regr_2 = AdaBoostRegressor(DecisionTreeRegressor(),n_estimators=300, random_state=300)"
   ]
  },
  {
   "cell_type": "markdown",
   "metadata": {},
   "source": [
    "regr_2.fit(x_train,y_train)"
   ]
  },
  {
   "cell_type": "markdown",
   "metadata": {},
   "source": [
    "regr_2.score(x_test,y_test)"
   ]
  },
  {
   "cell_type": "markdown",
   "metadata": {},
   "source": [
    "from sklearn.model_selection import GridSearchCV\n",
    "grid_search = GridSearchCV(reg, grid_param, cv=5)"
   ]
  },
  {
   "cell_type": "markdown",
   "metadata": {},
   "source": [
    "traintesting= ''\n",
    "grid_search.fit(x_train,y_train)\n",
    "best_parameters = grid_search.best_params_\n",
    "print(best_parameters)"
   ]
  },
  {
   "cell_type": "markdown",
   "metadata": {},
   "source": [
    "grid_search.best_score_"
   ]
  },
  {
   "cell_type": "markdown",
   "metadata": {},
   "source": [
    "reg = DecisionTreeRegressor(criterion= 'mse', max_depth=2, max_leaf_nodes= 5, min_samples_leaf= 20, min_samples_split= 10)\n",
    "reg.fit(x_train,y_train)"
   ]
  },
  {
   "cell_type": "markdown",
   "metadata": {},
   "source": [
    "reg.score(x_test,y_test)"
   ]
  },
  {
   "cell_type": "code",
   "execution_count": 20,
   "metadata": {},
   "outputs": [
    {
     "data": {
      "image/png": "[encoded data removed]",
      "text/plain": [
       "<Figure size 432x288 with 1 Axes>"
      ]
     },
     "metadata": {
      "needs_background": "light"
     },
     "output_type": "display_data"
    }
   ],
   "source": [
    "plt.scatter(y_test, y_prediction)\n",
    "plt.xlabel(\"Recommendations\")\n",
    "plt.ylabel(\"Predicted Recommendations\")\n",
    "plt.title(\"Recommendations vs Predicted Recommendations\")\n",
    "plt.show()"
   ]
  },
  {
   "cell_type": "code",
   "execution_count": 38,
   "metadata": {},
   "outputs": [],
   "source": [
    "#y_predict"
   ]
  },
  {
   "cell_type": "code",
   "execution_count": 21,
   "metadata": {},
   "outputs": [],
   "source": [
    "##\n",
    "x_test['ProdRecommed'] = y_test\n",
    "x_test['ProdRecommedPredict'] = y_prediction\n",
    "x_test['ProdRecommed'].astype('str')\n",
    "daf= np.load('ProdRecommed.npy',allow_pickle='TRUE').item()\n",
    "#daf[0].astype('str')\n",
    "x_test['ProdRecommed'] = x_test['ProdRecommed'].map(daf[0])\n",
    "#x_test['ProdRecommed'] = x_test['ProdRecommed'].remap(daf)\n",
    "x_test['ProdRecommedPredict'] = x_test['ProdRecommedPredict'].map(daf[0])"
   ]
  },
  {
   "cell_type": "code",
   "execution_count": 22,
   "metadata": {},
   "outputs": [
    {
     "data": {
      "text/html": [
       "<div>\n",
       "<style scoped>\n",
       "    .dataframe tbody tr th:only-of-type {\n",
       "        vertical-align: middle;\n",
       "    }\n",
       "\n",
       "    .dataframe tbody tr th {\n",
       "        vertical-align: top;\n",
       "    }\n",
       "\n",
       "    .dataframe thead th {\n",
       "        text-align: right;\n",
       "    }\n",
       "</style>\n",
       "<table border=\"1\" class=\"dataframe\">\n",
       "  <thead>\n",
       "    <tr style=\"text-align: right;\">\n",
       "      <th></th>\n",
       "      <th>date</th>\n",
       "      <th>customer_code</th>\n",
       "      <th>emp_status</th>\n",
       "      <th>residence_code</th>\n",
       "      <th>sex</th>\n",
       "      <th>age</th>\n",
       "      <th>date_first_prod</th>\n",
       "      <th>new_customer</th>\n",
       "      <th>seniority_inmonths</th>\n",
       "      <th>prime_customer</th>\n",
       "      <th>...</th>\n",
       "      <th>spouse</th>\n",
       "      <th>channel</th>\n",
       "      <th>deceased</th>\n",
       "      <th>primary_address</th>\n",
       "      <th>province_code</th>\n",
       "      <th>status_ai</th>\n",
       "      <th>gincome</th>\n",
       "      <th>social_segment</th>\n",
       "      <th>ProdRecommed</th>\n",
       "      <th>ProdRecommedPredict</th>\n",
       "    </tr>\n",
       "  </thead>\n",
       "  <tbody>\n",
       "    <tr>\n",
       "      <th>6483685</th>\n",
       "      <td>20151028.0</td>\n",
       "      <td>1061305.0</td>\n",
       "      <td>1.0</td>\n",
       "      <td>0.0</td>\n",
       "      <td>2.0</td>\n",
       "      <td>27.0</td>\n",
       "      <td>20120916.0</td>\n",
       "      <td>0.0</td>\n",
       "      <td>37.0</td>\n",
       "      <td>1.0</td>\n",
       "      <td>...</td>\n",
       "      <td>2.0</td>\n",
       "      <td>2.0</td>\n",
       "      <td>0.0</td>\n",
       "      <td>1.0</td>\n",
       "      <td>28.0</td>\n",
       "      <td>1.0</td>\n",
       "      <td>211074.359375</td>\n",
       "      <td>3.0</td>\n",
       "      <td>Payroll Account, Taxes</td>\n",
       "      <td>Payroll Account, Taxes, Direct Debit</td>\n",
       "    </tr>\n",
       "    <tr>\n",
       "      <th>828346</th>\n",
       "      <td>20150228.0</td>\n",
       "      <td>66187.0</td>\n",
       "      <td>1.0</td>\n",
       "      <td>0.0</td>\n",
       "      <td>1.0</td>\n",
       "      <td>77.0</td>\n",
       "      <td>19970616.0</td>\n",
       "      <td>0.0</td>\n",
       "      <td>217.0</td>\n",
       "      <td>1.0</td>\n",
       "      <td>...</td>\n",
       "      <td>2.0</td>\n",
       "      <td>5.0</td>\n",
       "      <td>0.0</td>\n",
       "      <td>1.0</td>\n",
       "      <td>28.0</td>\n",
       "      <td>1.0</td>\n",
       "      <td>344074.781250</td>\n",
       "      <td>1.0</td>\n",
       "      <td>Payroll Account, Loans, Taxes, Credit Card, Di...</td>\n",
       "      <td>Payroll Account, Loans, Taxes, Credit Card, Di...</td>\n",
       "    </tr>\n",
       "    <tr>\n",
       "      <th>4012993</th>\n",
       "      <td>20150728.0</td>\n",
       "      <td>184074.0</td>\n",
       "      <td>1.0</td>\n",
       "      <td>0.0</td>\n",
       "      <td>1.0</td>\n",
       "      <td>50.0</td>\n",
       "      <td>20000720.0</td>\n",
       "      <td>0.0</td>\n",
       "      <td>180.0</td>\n",
       "      <td>1.0</td>\n",
       "      <td>...</td>\n",
       "      <td>2.0</td>\n",
       "      <td>4.0</td>\n",
       "      <td>0.0</td>\n",
       "      <td>1.0</td>\n",
       "      <td>8.0</td>\n",
       "      <td>1.0</td>\n",
       "      <td>235430.281250</td>\n",
       "      <td>3.0</td>\n",
       "      <td>Payroll Account, Direct Debit</td>\n",
       "      <td>Payroll Account, Direct Debit</td>\n",
       "    </tr>\n",
       "    <tr>\n",
       "      <th>5140689</th>\n",
       "      <td>20150828.0</td>\n",
       "      <td>1056806.0</td>\n",
       "      <td>1.0</td>\n",
       "      <td>0.0</td>\n",
       "      <td>1.0</td>\n",
       "      <td>28.0</td>\n",
       "      <td>20120908.0</td>\n",
       "      <td>0.0</td>\n",
       "      <td>35.0</td>\n",
       "      <td>1.0</td>\n",
       "      <td>...</td>\n",
       "      <td>2.0</td>\n",
       "      <td>1.0</td>\n",
       "      <td>0.0</td>\n",
       "      <td>1.0</td>\n",
       "      <td>15.0</td>\n",
       "      <td>0.0</td>\n",
       "      <td>82209.359375</td>\n",
       "      <td>3.0</td>\n",
       "      <td>Current Accounts</td>\n",
       "      <td>Current Accounts</td>\n",
       "    </tr>\n",
       "    <tr>\n",
       "      <th>437363</th>\n",
       "      <td>20150128.0</td>\n",
       "      <td>174465.0</td>\n",
       "      <td>1.0</td>\n",
       "      <td>0.0</td>\n",
       "      <td>1.0</td>\n",
       "      <td>45.0</td>\n",
       "      <td>20000502.0</td>\n",
       "      <td>0.0</td>\n",
       "      <td>12.0</td>\n",
       "      <td>1.0</td>\n",
       "      <td>...</td>\n",
       "      <td>2.0</td>\n",
       "      <td>5.0</td>\n",
       "      <td>0.0</td>\n",
       "      <td>1.0</td>\n",
       "      <td>28.0</td>\n",
       "      <td>1.0</td>\n",
       "      <td>165027.546875</td>\n",
       "      <td>3.0</td>\n",
       "      <td>Current Accounts, Long-term deposits</td>\n",
       "      <td>Current Accounts</td>\n",
       "    </tr>\n",
       "    <tr>\n",
       "      <th>...</th>\n",
       "      <td>...</td>\n",
       "      <td>...</td>\n",
       "      <td>...</td>\n",
       "      <td>...</td>\n",
       "      <td>...</td>\n",
       "      <td>...</td>\n",
       "      <td>...</td>\n",
       "      <td>...</td>\n",
       "      <td>...</td>\n",
       "      <td>...</td>\n",
       "      <td>...</td>\n",
       "      <td>...</td>\n",
       "      <td>...</td>\n",
       "      <td>...</td>\n",
       "      <td>...</td>\n",
       "      <td>...</td>\n",
       "      <td>...</td>\n",
       "      <td>...</td>\n",
       "      <td>...</td>\n",
       "      <td>...</td>\n",
       "      <td>...</td>\n",
       "    </tr>\n",
       "    <tr>\n",
       "      <th>6350034</th>\n",
       "      <td>20151028.0</td>\n",
       "      <td>1085041.0</td>\n",
       "      <td>1.0</td>\n",
       "      <td>0.0</td>\n",
       "      <td>1.0</td>\n",
       "      <td>23.0</td>\n",
       "      <td>20121020.0</td>\n",
       "      <td>0.0</td>\n",
       "      <td>36.0</td>\n",
       "      <td>1.0</td>\n",
       "      <td>...</td>\n",
       "      <td>2.0</td>\n",
       "      <td>1.0</td>\n",
       "      <td>0.0</td>\n",
       "      <td>1.0</td>\n",
       "      <td>28.0</td>\n",
       "      <td>0.0</td>\n",
       "      <td>95949.992188</td>\n",
       "      <td>3.0</td>\n",
       "      <td>Current Accounts</td>\n",
       "      <td>Current Accounts</td>\n",
       "    </tr>\n",
       "    <tr>\n",
       "      <th>4261266</th>\n",
       "      <td>20150728.0</td>\n",
       "      <td>1070821.0</td>\n",
       "      <td>1.0</td>\n",
       "      <td>0.0</td>\n",
       "      <td>2.0</td>\n",
       "      <td>23.0</td>\n",
       "      <td>20121000.0</td>\n",
       "      <td>0.0</td>\n",
       "      <td>33.0</td>\n",
       "      <td>1.0</td>\n",
       "      <td>...</td>\n",
       "      <td>2.0</td>\n",
       "      <td>1.0</td>\n",
       "      <td>0.0</td>\n",
       "      <td>1.0</td>\n",
       "      <td>6.0</td>\n",
       "      <td>0.0</td>\n",
       "      <td>63076.140625</td>\n",
       "      <td>3.0</td>\n",
       "      <td>Current Accounts</td>\n",
       "      <td>Current Accounts</td>\n",
       "    </tr>\n",
       "    <tr>\n",
       "      <th>7187234</th>\n",
       "      <td>20151028.0</td>\n",
       "      <td>594640.0</td>\n",
       "      <td>1.0</td>\n",
       "      <td>0.0</td>\n",
       "      <td>1.0</td>\n",
       "      <td>56.0</td>\n",
       "      <td>20060132.0</td>\n",
       "      <td>0.0</td>\n",
       "      <td>117.0</td>\n",
       "      <td>1.0</td>\n",
       "      <td>...</td>\n",
       "      <td>2.0</td>\n",
       "      <td>5.0</td>\n",
       "      <td>0.0</td>\n",
       "      <td>1.0</td>\n",
       "      <td>20.0</td>\n",
       "      <td>0.0</td>\n",
       "      <td>134254.312500</td>\n",
       "      <td>3.0</td>\n",
       "      <td></td>\n",
       "      <td>particular Account</td>\n",
       "    </tr>\n",
       "    <tr>\n",
       "      <th>4645686</th>\n",
       "      <td>20150828.0</td>\n",
       "      <td>917342.0</td>\n",
       "      <td>1.0</td>\n",
       "      <td>0.0</td>\n",
       "      <td>2.0</td>\n",
       "      <td>35.0</td>\n",
       "      <td>20110704.0</td>\n",
       "      <td>0.0</td>\n",
       "      <td>49.0</td>\n",
       "      <td>1.0</td>\n",
       "      <td>...</td>\n",
       "      <td>2.0</td>\n",
       "      <td>4.0</td>\n",
       "      <td>0.0</td>\n",
       "      <td>1.0</td>\n",
       "      <td>28.0</td>\n",
       "      <td>0.0</td>\n",
       "      <td>70465.679688</td>\n",
       "      <td>3.0</td>\n",
       "      <td></td>\n",
       "      <td></td>\n",
       "    </tr>\n",
       "    <tr>\n",
       "      <th>5104391</th>\n",
       "      <td>20150828.0</td>\n",
       "      <td>1088629.0</td>\n",
       "      <td>1.0</td>\n",
       "      <td>0.0</td>\n",
       "      <td>1.0</td>\n",
       "      <td>24.0</td>\n",
       "      <td>20121024.0</td>\n",
       "      <td>0.0</td>\n",
       "      <td>34.0</td>\n",
       "      <td>1.0</td>\n",
       "      <td>...</td>\n",
       "      <td>2.0</td>\n",
       "      <td>1.0</td>\n",
       "      <td>0.0</td>\n",
       "      <td>1.0</td>\n",
       "      <td>50.0</td>\n",
       "      <td>0.0</td>\n",
       "      <td>87018.750000</td>\n",
       "      <td>3.0</td>\n",
       "      <td>Current Accounts</td>\n",
       "      <td>Current Accounts</td>\n",
       "    </tr>\n",
       "  </tbody>\n",
       "</table>\n",
       "<p>4094193 rows × 25 columns</p>\n",
       "</div>"
      ],
      "text/plain": [
       "               date  customer_code  emp_status  residence_code  sex   age  \\\n",
       "6483685  20151028.0      1061305.0         1.0             0.0  2.0  27.0   \n",
       "828346   20150228.0        66187.0         1.0             0.0  1.0  77.0   \n",
       "4012993  20150728.0       184074.0         1.0             0.0  1.0  50.0   \n",
       "5140689  20150828.0      1056806.0         1.0             0.0  1.0  28.0   \n",
       "437363   20150128.0       174465.0         1.0             0.0  1.0  45.0   \n",
       "...             ...            ...         ...             ...  ...   ...   \n",
       "6350034  20151028.0      1085041.0         1.0             0.0  1.0  23.0   \n",
       "4261266  20150728.0      1070821.0         1.0             0.0  2.0  23.0   \n",
       "7187234  20151028.0       594640.0         1.0             0.0  1.0  56.0   \n",
       "4645686  20150828.0       917342.0         1.0             0.0  2.0  35.0   \n",
       "5104391  20150828.0      1088629.0         1.0             0.0  1.0  24.0   \n",
       "\n",
       "         date_first_prod  new_customer  seniority_inmonths  prime_customer  \\\n",
       "6483685       20120916.0           0.0                37.0             1.0   \n",
       "828346        19970616.0           0.0               217.0             1.0   \n",
       "4012993       20000720.0           0.0               180.0             1.0   \n",
       "5140689       20120908.0           0.0                35.0             1.0   \n",
       "437363        20000502.0           0.0                12.0             1.0   \n",
       "...                  ...           ...                 ...             ...   \n",
       "6350034       20121020.0           0.0                36.0             1.0   \n",
       "4261266       20121000.0           0.0                33.0             1.0   \n",
       "7187234       20060132.0           0.0               117.0             1.0   \n",
       "4645686       20110704.0           0.0                49.0             1.0   \n",
       "5104391       20121024.0           0.0                34.0             1.0   \n",
       "\n",
       "         ...  spouse  channel  deceased  primary_address  province_code  \\\n",
       "6483685  ...     2.0      2.0       0.0              1.0           28.0   \n",
       "828346   ...     2.0      5.0       0.0              1.0           28.0   \n",
       "4012993  ...     2.0      4.0       0.0              1.0            8.0   \n",
       "5140689  ...     2.0      1.0       0.0              1.0           15.0   \n",
       "437363   ...     2.0      5.0       0.0              1.0           28.0   \n",
       "...      ...     ...      ...       ...              ...            ...   \n",
       "6350034  ...     2.0      1.0       0.0              1.0           28.0   \n",
       "4261266  ...     2.0      1.0       0.0              1.0            6.0   \n",
       "7187234  ...     2.0      5.0       0.0              1.0           20.0   \n",
       "4645686  ...     2.0      4.0       0.0              1.0           28.0   \n",
       "5104391  ...     2.0      1.0       0.0              1.0           50.0   \n",
       "\n",
       "         status_ai        gincome  social_segment  \\\n",
       "6483685        1.0  211074.359375             3.0   \n",
       "828346         1.0  344074.781250             1.0   \n",
       "4012993        1.0  235430.281250             3.0   \n",
       "5140689        0.0   82209.359375             3.0   \n",
       "437363         1.0  165027.546875             3.0   \n",
       "...            ...            ...             ...   \n",
       "6350034        0.0   95949.992188             3.0   \n",
       "4261266        0.0   63076.140625             3.0   \n",
       "7187234        0.0  134254.312500             3.0   \n",
       "4645686        0.0   70465.679688             3.0   \n",
       "5104391        0.0   87018.750000             3.0   \n",
       "\n",
       "                                              ProdRecommed  \\\n",
       "6483685                             Payroll Account, Taxes   \n",
       "828346   Payroll Account, Loans, Taxes, Credit Card, Di...   \n",
       "4012993                      Payroll Account, Direct Debit   \n",
       "5140689                                   Current Accounts   \n",
       "437363                Current Accounts, Long-term deposits   \n",
       "...                                                    ...   \n",
       "6350034                                   Current Accounts   \n",
       "4261266                                   Current Accounts   \n",
       "7187234                                                      \n",
       "4645686                                                      \n",
       "5104391                                   Current Accounts   \n",
       "\n",
       "                                       ProdRecommedPredict  \n",
       "6483685               Payroll Account, Taxes, Direct Debit  \n",
       "828346   Payroll Account, Loans, Taxes, Credit Card, Di...  \n",
       "4012993                      Payroll Account, Direct Debit  \n",
       "5140689                                   Current Accounts  \n",
       "437363                                    Current Accounts  \n",
       "...                                                    ...  \n",
       "6350034                                   Current Accounts  \n",
       "4261266                                   Current Accounts  \n",
       "7187234                                 particular Account  \n",
       "4645686                                                     \n",
       "5104391                                   Current Accounts  \n",
       "\n",
       "[4094193 rows x 25 columns]"
      ]
     },
     "execution_count": 22,
     "metadata": {},
     "output_type": "execute_result"
    }
   ],
   "source": [
    "#x_test.replace({\"ProdRecommed\": daf[0]})\n",
    "#x_test.replace({\"ProdRecommedPredict\": daf[0]})\n",
    "x_test\n"
   ]
  },
  {
   "cell_type": "code",
   "execution_count": 24,
   "metadata": {},
   "outputs": [
    {
     "name": "stdout",
     "output_type": "stream",
     "text": [
      "R^2: 0.7815593690663116\n",
      "MAE: 25.37604846669417\n",
      "MSE: 74953.3837877208\n",
      "RMSE: 273.77615635354516\n"
     ]
    }
   ],
   "source": [
    "import sklearn.metrics as metrics\n",
    "print('R^2:',metrics.r2_score(y_test, y_prediction))\n",
    "#print('Adjusted R^2:',1 - (1-metrics.r2_score(y_train, y_pred))*(len(y_train)-1)/(len(y_train)-X_train.shape[1]-1))\n",
    "print('MAE:',metrics.mean_absolute_error(y_test, y_prediction))\n",
    "print('MSE:',metrics.mean_squared_error(y_test, y_prediction))\n",
    "print('RMSE:',np.sqrt(metrics.mean_squared_error(y_test, y_prediction)))"
   ]
  },
  {
   "cell_type": "code",
   "execution_count": 25,
   "metadata": {},
   "outputs": [
    {
     "data": {
      "text/plain": [
       "[<matplotlib.lines.Line2D at 0x7f2b310b7748>]"
      ]
     },
     "execution_count": 25,
     "metadata": {},
     "output_type": "execute_result"
    },
    {
     "data": {
      "image/png": "[encoded data removed]",
      "text/plain": [
       "<Figure size 432x288 with 1 Axes>"
      ]
     },
     "metadata": {
      "needs_background": "light"
     },
     "output_type": "display_data"
    }
   ],
   "source": [
    "plt.plot(np.arange(len(y_test)),y_test ,color='green', marker='o', linestyle='dashed',linewidth=2, markersize=12)\n"
   ]
  },
  {
   "cell_type": "code",
   "execution_count": 26,
   "metadata": {},
   "outputs": [
    {
     "data": {
      "text/plain": [
       "[<matplotlib.lines.Line2D at 0x7f2b3106db70>]"
      ]
     },
     "execution_count": 26,
     "metadata": {},
     "output_type": "execute_result"
    },
    {
     "data": {
      "image/png": "[encoded data removed]",
      "text/plain": [
       "<Figure size 432x288 with 1 Axes>"
      ]
     },
     "metadata": {
      "needs_background": "light"
     },
     "output_type": "display_data"
    }
   ],
   "source": [
    "plt.plot(np.arange(len(y_prediction)),y_prediction ,color='red', marker='o', linestyle='dashed',linewidth=2, markersize=12)"
   ]
  },
  {
   "cell_type": "markdown",
   "metadata": {},
   "source": [
    "## The decision Tree regressor seems to be best model as most of the predictions are matching"
   ]
  },
  {
   "cell_type": "code",
   "execution_count": 27,
   "metadata": {},
   "outputs": [
    {
     "name": "stdout",
     "output_type": "stream",
     "text": [
      "Done. Time elapsed: 3246.89s\n"
     ]
    }
   ],
   "source": [
    "print('Done. Time elapsed: {:.2f}s'.format(time.time() - total_start_time))"
   ]
  },
  {
   "cell_type": "markdown",
   "metadata": {},
   "source": [
    "## Save Dictionaries\n",
    "np.save('ProdRecommed.npy', di) \n",
    "np.save('Residence_Code.npy', di1) \n",
    "np.save('Channel.npy', di2) "
   ]
  },
  {
   "cell_type": "markdown",
   "metadata": {},
   "source": [
    "x_train,x_test,y_train,y_test = train_test_split(traintesting.drop(['ProductRecommed'], axis=1), traintesting['ProductRecommed'],test_size = 0.30, random_state= 400)"
   ]
  },
  {
   "cell_type": "markdown",
   "metadata": {},
   "source": [
    "x_train= x_train.astype('float64')\n",
    "\n",
    "#,x_test,y_train,y_test"
   ]
  },
  {
   "cell_type": "markdown",
   "metadata": {},
   "source": [
    "y_train= y_train.astype('float64')"
   ]
  },
  {
   "cell_type": "markdown",
   "metadata": {},
   "source": [
    "x_test= x_test.astype('float64')\n",
    "y_test = y_test.astype('float64')"
   ]
  },
  {
   "cell_type": "markdown",
   "metadata": {},
   "source": [
    "import xgboost as xgb\n",
    "\n",
    "dtrain = xgb.DMatrix(x_train, label=y_train)\n"
   ]
  },
  {
   "cell_type": "markdown",
   "metadata": {},
   "source": [
    "dtest = xgb.DMatrix(x_test, label=y_test)"
   ]
  },
  {
   "cell_type": "markdown",
   "metadata": {},
   "source": [
    "import xgboost as xgb\n",
    "from sklearn.datasets import dump_svmlight_file\n",
    "\n",
    "dump_svmlight_file(x_train, y_train, 'dtrain.svm', zero_based=True)\n",
    "dump_svmlight_file(x_test, y_test, 'dtest.svm', zero_based=True)\n",
    "dtrain_svm = xgb.DMatrix('dtrain.svm')\n",
    "dtest_svm = xgb.DMatrix('dtest.svm')"
   ]
  },
  {
   "cell_type": "markdown",
   "metadata": {},
   "source": [
    "!pip install torch\n",
    "import torch\n",
    "n_classes = len(torch.unique(y_train))\n",
    " "
   ]
  },
  {
   "cell_type": "markdown",
   "metadata": {},
   "source": [
    "nc= len(y_train.unique())\n",
    "nc"
   ]
  },
  {
   "cell_type": "markdown",
   "metadata": {},
   "source": [
    "\n",
    "params = {\n",
    "    'eta':0.1,\n",
    "    #'n_estimators':1000,\n",
    "    'max_depth':5,\n",
    "    'min_child_weight':1,\n",
    "    'gamma':0,\n",
    "    'subsample':0.8,\n",
    "    'colsample_bytree':0.8,\n",
    "    'objective':'multi:softmax',\n",
    "    'nthread':4,\n",
    "    #'scale_pos_weight':1,\n",
    "    'seed':27,\n",
    "    'num_class':nc}  # the number of classes that exist in this datset\n",
    "num_round = 20  # the number of training iterations"
   ]
  },
  {
   "cell_type": "markdown",
   "metadata": {},
   "source": [
    "bst = xgb.train(params=params, dtrain=dtrain, num_boost_round =20)\n",
    "bst.dump_model('dump_xgboost.raw.txt')"
   ]
  },
  {
   "cell_type": "markdown",
   "metadata": {},
   "source": [
    "y_pred = bst.predict(dtest)"
   ]
  },
  {
   "cell_type": "markdown",
   "metadata": {},
   "source": [
    "from sklearn.metrics import precision_score\n",
    "\n",
    "print precision_score(y_test, y_pred, average='macro')\n"
   ]
  },
  {
   "cell_type": "markdown",
   "metadata": {},
   "source": [
    "from sklearn.externals import joblib\n",
    "\n",
    "joblib.dump(bst, 'bst_model.pkl', compress=True)"
   ]
  },
  {
   "cell_type": "markdown",
   "metadata": {},
   "source": [
    "## XGBOOST can not be used for our dataset as Num of classes (one of the mandatory parameters of XGBOOST) is having a value too high 10908 which give bad allocation error"
   ]
  },
  {
   "cell_type": "markdown",
   "metadata": {},
   "source": [
    "## KNN Algorithm"
   ]
  },
  {
   "cell_type": "markdown",
   "metadata": {},
   "source": [
    "from sklearn.cluster import KMeans"
   ]
  },
  {
   "cell_type": "markdown",
   "metadata": {},
   "source": [
    "traintesting"
   ]
  },
  {
   "cell_type": "code",
   "execution_count": 9,
   "metadata": {},
   "outputs": [],
   "source": [
    "traintesting1 = traintesting.head(1000000)"
   ]
  },
  {
   "cell_type": "markdown",
   "metadata": {},
   "source": [
    "kmeans = KMeans(n_clusters=len(traintesting1['ProductRecommed'].unique()))"
   ]
  },
  {
   "cell_type": "markdown",
   "metadata": {},
   "source": [
    "kmeans.fit(traintesting1)"
   ]
  },
  {
   "cell_type": "markdown",
   "metadata": {},
   "source": [
    "kmeans.cluster_centers_\n",
    "#traintesting1['ProductRecommed'].unique()"
   ]
  },
  {
   "cell_type": "markdown",
   "metadata": {},
   "source": [
    "kmeans.labels_"
   ]
  },
  {
   "cell_type": "markdown",
   "metadata": {},
   "source": [
    "def converter(cluster):\n",
    "    if cluster=='Yes':\n",
    "        return 1\n",
    "    else:\n",
    "        return 0"
   ]
  },
  {
   "cell_type": "markdown",
   "metadata": {},
   "source": [
    "traintesting1['Cluster'] = kmeans.labels_"
   ]
  },
  {
   "cell_type": "markdown",
   "metadata": {},
   "source": [
    "traintesting1"
   ]
  },
  {
   "cell_type": "markdown",
   "metadata": {},
   "source": [
    "from sklearn.metrics import confusion_matrix,classification_report\n",
    "print(confusion_matrix(['Cluster'],kmeans.labels_))\n",
    "print(classification_report(df['Cluster'],kmeans.labels_))"
   ]
  },
  {
   "cell_type": "code",
   "execution_count": null,
   "metadata": {},
   "outputs": [],
   "source": [
    "from sklearn.model_selection import train_test_split\n",
    "x_train,x_test,y_train,y_test = train_test_split(traintesting.drop(['ProductRecommed'], axis=1), traintesting['ProductRecommed'],test_size = 0.30, random_state= 355)\n",
    "#Performing Feature Scaling\n",
    "from sklearn.preprocessing import StandardScaler\n",
    "scaler = StandardScaler()\n",
    "scaler.fit(x_train)\n",
    "x_train = scaler.transform(x_train)\n",
    "x_test = scaler.transform(x_test)\n",
    "#Training KNN with k=5\n",
    "from sklearn.neighbors import KNeighborsClassifier\n",
    "classifier = KNeighborsClassifier(n_neighbors=5)\n",
    "classifier.fit(x_train, y_train)"
   ]
  },
  {
   "cell_type": "code",
   "execution_count": null,
   "metadata": {},
   "outputs": [],
   "source": [
    "import pickle\n",
    "filename = 'KNN_1.sav'\n",
    "pickle.dump(classifier, open(filename, 'wb'))\n",
    "# some time later...\n",
    " \n",
    "# load the model from disk\n",
    "#loaded_model = pickle.load(open(filename, 'rb'))\n",
    "#result = loaded_model.score(x_test,y_test)\n",
    "#y_predict= loaded_model.predict(x_test)\n",
    "#print(y_predict)"
   ]
  },
  {
   "cell_type": "code",
   "execution_count": null,
   "metadata": {},
   "outputs": [],
   "source": [
    "y_knn_pred = classifier.predict(x_test)"
   ]
  },
  {
   "cell_type": "code",
   "execution_count": null,
   "metadata": {},
   "outputs": [],
   "source": [
    "classifier.score(x_test,y_test)"
   ]
  },
  {
   "cell_type": "code",
   "execution_count": null,
   "metadata": {},
   "outputs": [],
   "source": [
    "print(confusion_matrix(y_test,y_knn_pred))"
   ]
  },
  {
   "cell_type": "code",
   "execution_count": null,
   "metadata": {},
   "outputs": [],
   "source": [
    "print(classification_report(y_test,y_knn_pred))"
   ]
  },
  {
   "cell_type": "code",
   "execution_count": null,
   "metadata": {},
   "outputs": [],
   "source": [
    " error_rate = []\n",
    "\n",
    "# Will take some time\n",
    "for i in range(1,40):\n",
    "    \n",
    "    knn = KNeighborsClassifier(n_neighbors=i)\n",
    "    knn.fit(x_train,y_train)\n",
    "    pred_i = knn.predict(x_test)\n",
    "    error_rate.append(np.mean(pred_i != y_test))"
   ]
  },
  {
   "cell_type": "code",
   "execution_count": null,
   "metadata": {},
   "outputs": [],
   "source": [
    "plt.figure(figsize=(10,6))\n",
    "plt.plot(range(1,40),error_rate,color='blue', linestyle='dashed', marker='o',\n",
    "         markerfacecolor='red', markersize=10)\n",
    "plt.title('Error Rate vs. K Value')\n",
    "plt.xlabel('K')\n",
    "plt.ylabel('Error Rate')"
   ]
  },
  {
   "cell_type": "markdown",
   "metadata": {},
   "source": [
    "# Bayesian Optimisation"
   ]
  },
  {
   "cell_type": "markdown",
   "metadata": {},
   "source": [
    "start_time = time.time()\n",
    "bayesian_tr_index, bayesian_val_index  = list(StratifiedKFold(n_splits=2, shuffle=True, random_state=1).split(traintesting1, traintesting1.ProductRecommed.values))[0]\n",
    "print(len(bayesian_tr_index), len(bayesian_val_index))\n",
    "print('Done. Time elapsed: {:.2f}s'.format(time.time() - start_time))"
   ]
  },
  {
   "cell_type": "markdown",
   "metadata": {},
   "source": [
    "bayesian_val_index"
   ]
  },
  {
   "cell_type": "code",
   "execution_count": 9,
   "metadata": {},
   "outputs": [],
   "source": [
    "x_train,xg_valid,y_train,yg_valid = train_test_split(traintesting.drop(['ProductRecommed'], axis=1), traintesting['ProductRecommed'],test_size = 0.30, random_state= 355)"
   ]
  },
  {
   "cell_type": "code",
   "execution_count": 10,
   "metadata": {},
   "outputs": [
    {
     "data": {
      "text/plain": [
       "GaussianNB(priors=None, var_smoothing=1e-09)"
      ]
     },
     "execution_count": 10,
     "metadata": {},
     "output_type": "execute_result"
    }
   ],
   "source": [
    "naive_clf = GaussianNB()\n",
    "naive_clf.fit(x_train,y_train)"
   ]
  },
  {
   "cell_type": "code",
   "execution_count": 45,
   "metadata": {},
   "outputs": [
    {
     "data": {
      "text/plain": [
       "4094193"
      ]
     },
     "execution_count": 45,
     "metadata": {},
     "output_type": "execute_result"
    }
   ],
   "source": [
    "len(xg_valid)\n",
    "#naive_clf.score(xg_valid,yg_valid)"
   ]
  },
  {
   "cell_type": "code",
   "execution_count": 42,
   "metadata": {},
   "outputs": [],
   "source": [
    "xg_valid_test_naive= xg_valid.head(100000)"
   ]
  },
  {
   "cell_type": "code",
   "execution_count": 43,
   "metadata": {},
   "outputs": [],
   "source": [
    "yg_valid_test_naive= yg_valid.head(100000)"
   ]
  },
  {
   "cell_type": "code",
   "execution_count": 34,
   "metadata": {},
   "outputs": [],
   "source": [
    "y_naive_predict= naive_clf.predict(xg_valid_test_naive)"
   ]
  },
  {
   "cell_type": "code",
   "execution_count": 44,
   "metadata": {},
   "outputs": [
    {
     "data": {
      "text/plain": [
       "0.00104"
      ]
     },
     "execution_count": 44,
     "metadata": {},
     "output_type": "execute_result"
    }
   ],
   "source": [
    "naive_clf.score(xg_valid_test_naive,yg_valid_test_naive)"
   ]
  },
  {
   "cell_type": "code",
   "execution_count": 40,
   "metadata": {},
   "outputs": [
    {
     "data": {
      "text/plain": [
       "[<matplotlib.lines.Line2D at 0x15fe65588c8>]"
      ]
     },
     "execution_count": 40,
     "metadata": {},
     "output_type": "execute_result"
    },
    {
     "data": {
      "image/png": "[encoded data removed]",
      "text/plain": [
       "<Figure size 432x288 with 1 Axes>"
      ]
     },
     "metadata": {
      "needs_background": "light"
     },
     "output_type": "display_data"
    }
   ],
   "source": [
    "plt.plot(np.arange(len(yg_valid_test_naive)),yg_valid_test_naive ,color='green', marker='o', linestyle='dashed',linewidth=2, markersize=12)\n"
   ]
  },
  {
   "cell_type": "code",
   "execution_count": 41,
   "metadata": {},
   "outputs": [
    {
     "data": {
      "text/plain": [
       "[<matplotlib.lines.Line2D at 0x15fe65bf8c8>]"
      ]
     },
     "execution_count": 41,
     "metadata": {},
     "output_type": "execute_result"
    },
    {
     "data": {
      "image/png": "[encoded data removed]",
      "text/plain": [
       "<Figure size 432x288 with 1 Axes>"
      ]
     },
     "metadata": {
      "needs_background": "light"
     },
     "output_type": "display_data"
    }
   ],
   "source": [
    "plt.plot(np.arange(len(y_naive_predict)),y_naive_predict ,color='red', marker='o', linestyle='dashed',linewidth=2, markersize=12)"
   ]
  },
  {
   "cell_type": "code",
   "execution_count": 37,
   "metadata": {},
   "outputs": [
    {
     "name": "stdout",
     "output_type": "stream",
     "text": [
      "R^2: -76.61571085037049\n",
      "MAE: 3342.06978\n",
      "MSE: 27328794.1137\n",
      "RMSE: 5227.6949139845565\n"
     ]
    }
   ],
   "source": [
    "import sklearn.metrics as metrics\n",
    "print('R^2:',metrics.r2_score(yg_valid_test_naive, y_naive_predict))\n",
    "#print('Adjusted R^2:',1 - (1-metrics.r2_score(y_train, y_pred))*(len(y_train)-1)/(len(y_train)-X_train.shape[1]-1))\n",
    "print('MAE:',metrics.mean_absolute_error(yg_valid_test_naive, y_naive_predict))\n",
    "print('MSE:',metrics.mean_squared_error(yg_valid_test_naive, y_naive_predict))\n",
    "print('RMSE:',np.sqrt(metrics.mean_squared_error(yg_valid_test_naive, y_naive_predict)))"
   ]
  },
  {
   "cell_type": "code",
   "execution_count": 47,
   "metadata": {},
   "outputs": [],
   "source": [
    "import pickle\n",
    "filename = 'Naive_Bayes.sav'\n",
    "pickle.dump(naive_clf, open(filename, 'wb'))\n",
    "# some time later...\n",
    " \n",
    "# load the model from disk\n",
    "#loaded_model = pickle.load(open(filename, 'rb'))\n",
    "#result = loaded_model.score(x_test,y_test)\n",
    "#y_predict= loaded_model.predict(x_test)\n",
    "#print(y_predict)"
   ]
  },
  {
   "cell_type": "markdown",
   "metadata": {},
   "source": [
    "## Naive Bayes is worst model as it has score of 1% only"
   ]
  },
  {
   "cell_type": "code",
   "execution_count": 60,
   "metadata": {},
   "outputs": [],
   "source": [
    "x_train,xg_valid,y_train,yg_valid = train_test_split(traintesting1.drop(['ProductRecommed'], axis=1), traintesting1['ProductRecommed'],test_size = 0.30, random_state= 355)"
   ]
  },
  {
   "cell_type": "code",
   "execution_count": 73,
   "metadata": {},
   "outputs": [
    {
     "name": "stdout",
     "output_type": "stream",
     "text": [
      "Done. Time elapsed: 0.00s\n"
     ]
    }
   ],
   "source": [
    "# Function for LGB model creation for bayesian optimisation\n",
    "start_time = time.time()\n",
    "def LGB_bayesian(\n",
    "    num_leaves,  # int\n",
    "    min_data_in_leaf,  # int\n",
    "    learning_rate,\n",
    "    min_sum_hessian_in_leaf,    # int  \n",
    "    feature_fraction,\n",
    "    lambda_l1,\n",
    "    lambda_l2,\n",
    "    min_gain_to_split,\n",
    "    max_depth):\n",
    "    \n",
    "    # LightGBM expects next three parameters need to be integer. So we make them integer\n",
    "    num_leaves = int(num_leaves)\n",
    "    min_data_in_leaf = int(min_data_in_leaf)\n",
    "    max_depth = int(max_depth)\n",
    "\n",
    "    assert type(num_leaves) == int\n",
    "    assert type(min_data_in_leaf) == int\n",
    "    assert type(max_depth) == int\n",
    "\n",
    "    param = {\n",
    "        'num_leaves': num_leaves,\n",
    "        'max_bin': 63,\n",
    "        'min_data_in_leaf': min_data_in_leaf,\n",
    "        'learning_rate': learning_rate,\n",
    "        'min_sum_hessian_in_leaf': min_sum_hessian_in_leaf,\n",
    "        'bagging_fraction': 1.0,\n",
    "        'bagging_freq': 5,\n",
    "        'feature_fraction': feature_fraction,\n",
    "        'lambda_l1': lambda_l1,\n",
    "        'lambda_l2': lambda_l2,\n",
    "        'min_gain_to_split': min_gain_to_split,\n",
    "        'max_depth': max_depth,\n",
    "        'save_binary': True, \n",
    "        'seed': 13,\n",
    "        'feature_fraction_seed': 13,\n",
    "        'bagging_seed': 13,\n",
    "        'drop_seed': 13,\n",
    "        'data_random_seed': 13,\n",
    "        'objective': 'binary',\n",
    "        'boosting_type': 'gbdt',\n",
    "        'verbose': 1,\n",
    "        'metric': 'auc',\n",
    "        'is_unbalance': True,\n",
    "        'boost_from_average': False,   \n",
    "\n",
    "    }    \n",
    "    \n",
    "    \n",
    "#    xg_train = lgb.Dataset(x_train.iloc[bayesian_tr_index][y_train].values,\n",
    "#                           label=x_train.iloc[bayesian_tr_index][y_train].values,\n",
    "#                           feature_name=y_train,\n",
    "#                           free_raw_data = False\n",
    "#                           )\n",
    "#    xg_valid = lgb.Dataset(x_train.iloc[bayesian_val_index][y_train].values,\n",
    "#                           label=x_train.iloc[bayesian_val_index][y_train].values,\n",
    "#                           feature_name=y_train,\n",
    "#                           free_raw_data = False\n",
    "#                           ) \n",
    "\n",
    "    num_round = 5000\n",
    "    clf = GaussianNB.fit(traintesting1,x_train,y_train)\n",
    "    \n",
    "    #clf = lgb.x_train(param, x_train, num_round, valid_sets = [xg_valid], verbose_eval=250, early_stopping_rounds = 50)\n",
    "    \n",
    "    #predictions = clf.predict(x_train.iloc[bayesian_val_index][y_train].values, num_iteration=clf.best_iteration)   \n",
    "    \n",
    "    #score = roc_auc_score(x_train.iloc[bayesian_val_index][y_train].values, predictions)\n",
    "    \n",
    "    return clf\n",
    "\n",
    "# Region Space for Bayesian Optimisation\n",
    "region_space_LGB = {\n",
    "    'num_leaves': (5, 20), \n",
    "    'min_data_in_leaf': (5, 20),  \n",
    "    'learning_rate': (0.01, 0.3),\n",
    "    'min_sum_hessian_in_leaf': (0.00001, 0.01),    \n",
    "    'feature_fraction': (0.05, 0.5),\n",
    "    'lambda_l1': (0, 5.0), \n",
    "    'lambda_l2': (0, 5.0), \n",
    "    'min_gain_to_split': (0, 1.0),\n",
    "    'max_depth':(3,15),\n",
    "}\n",
    "\n",
    "LGB_BO = BayesianOptimization(LGB_bayesian, region_space_LGB, random_state=13)\n",
    "print('Done. Time elapsed: {:.2f}s'.format(time.time() - start_time))"
   ]
  },
  {
   "cell_type": "code",
   "execution_count": 74,
   "metadata": {},
   "outputs": [
    {
     "name": "stdout",
     "output_type": "stream",
     "text": [
      "|   iter    |  target   | featur... | lambda_l1 | lambda_l2 | learni... | max_depth | min_da... | min_ga... | min_su... | num_le... |\n",
      "-------------------------------------------------------------------------------------------------------------------------------------\n"
     ]
    },
    {
     "ename": "AttributeError",
     "evalue": "'DataFrame' object has no attribute '_partial_fit'",
     "output_type": "error",
     "traceback": [
      "\u001b[1;31m---------------------------------------------------------------------------\u001b[0m",
      "\u001b[1;31mKeyError\u001b[0m                                  Traceback (most recent call last)",
      "\u001b[1;32m~\\AppData\\Local\\Continuum\\anaconda3\\lib\\site-packages\\bayes_opt\\target_space.py\u001b[0m in \u001b[0;36mprobe\u001b[1;34m(self, params)\u001b[0m\n\u001b[0;32m    190\u001b[0m         \u001b[1;32mtry\u001b[0m\u001b[1;33m:\u001b[0m\u001b[1;33m\u001b[0m\u001b[1;33m\u001b[0m\u001b[0m\n\u001b[1;32m--> 191\u001b[1;33m             \u001b[0mtarget\u001b[0m \u001b[1;33m=\u001b[0m \u001b[0mself\u001b[0m\u001b[1;33m.\u001b[0m\u001b[0m_cache\u001b[0m\u001b[1;33m[\u001b[0m\u001b[0m_hashable\u001b[0m\u001b[1;33m(\u001b[0m\u001b[0mx\u001b[0m\u001b[1;33m)\u001b[0m\u001b[1;33m]\u001b[0m\u001b[1;33m\u001b[0m\u001b[1;33m\u001b[0m\u001b[0m\n\u001b[0m\u001b[0;32m    192\u001b[0m         \u001b[1;32mexcept\u001b[0m \u001b[0mKeyError\u001b[0m\u001b[1;33m:\u001b[0m\u001b[1;33m\u001b[0m\u001b[1;33m\u001b[0m\u001b[0m\n",
      "\u001b[1;31mKeyError\u001b[0m: (0.3999660847582191, 1.1877061001745615, 4.1213926633068425, 0.2900672674324699, 14.67121336685872, 11.801738711259683, 0.6090424627612779, 0.007757509880902418, 14.624200171386038)",
      "\nDuring handling of the above exception, another exception occurred:\n",
      "\u001b[1;31mAttributeError\u001b[0m                            Traceback (most recent call last)",
      "\u001b[1;32m<ipython-input-74-8dd0096aa392>\u001b[0m in \u001b[0;36m<module>\u001b[1;34m\u001b[0m\n\u001b[0;32m      1\u001b[0m \u001b[0minit_points\u001b[0m \u001b[1;33m=\u001b[0m \u001b[1;36m5\u001b[0m\u001b[1;33m\u001b[0m\u001b[1;33m\u001b[0m\u001b[0m\n\u001b[0;32m      2\u001b[0m \u001b[0mn_iter\u001b[0m \u001b[1;33m=\u001b[0m \u001b[1;36m5\u001b[0m\u001b[1;33m\u001b[0m\u001b[1;33m\u001b[0m\u001b[0m\n\u001b[1;32m----> 3\u001b[1;33m \u001b[0mLGB_BO\u001b[0m\u001b[1;33m.\u001b[0m\u001b[0mmaximize\u001b[0m\u001b[1;33m(\u001b[0m\u001b[0minit_points\u001b[0m\u001b[1;33m=\u001b[0m\u001b[0minit_points\u001b[0m\u001b[1;33m,\u001b[0m \u001b[0mn_iter\u001b[0m\u001b[1;33m=\u001b[0m\u001b[0mn_iter\u001b[0m\u001b[1;33m,\u001b[0m \u001b[0macq\u001b[0m\u001b[1;33m=\u001b[0m\u001b[1;34m'ucb'\u001b[0m\u001b[1;33m,\u001b[0m \u001b[0mxi\u001b[0m\u001b[1;33m=\u001b[0m\u001b[1;36m0.0\u001b[0m\u001b[1;33m,\u001b[0m \u001b[0malpha\u001b[0m\u001b[1;33m=\u001b[0m\u001b[1;36m1e-6\u001b[0m\u001b[1;33m)\u001b[0m\u001b[1;33m\u001b[0m\u001b[1;33m\u001b[0m\u001b[0m\n\u001b[0m",
      "\u001b[1;32m~\\AppData\\Local\\Continuum\\anaconda3\\lib\\site-packages\\bayes_opt\\bayesian_optimization.py\u001b[0m in \u001b[0;36mmaximize\u001b[1;34m(self, init_points, n_iter, acq, kappa, kappa_decay, kappa_decay_delay, xi, **gp_params)\u001b[0m\n\u001b[0;32m    183\u001b[0m                 \u001b[0miteration\u001b[0m \u001b[1;33m+=\u001b[0m \u001b[1;36m1\u001b[0m\u001b[1;33m\u001b[0m\u001b[1;33m\u001b[0m\u001b[0m\n\u001b[0;32m    184\u001b[0m \u001b[1;33m\u001b[0m\u001b[0m\n\u001b[1;32m--> 185\u001b[1;33m             \u001b[0mself\u001b[0m\u001b[1;33m.\u001b[0m\u001b[0mprobe\u001b[0m\u001b[1;33m(\u001b[0m\u001b[0mx_probe\u001b[0m\u001b[1;33m,\u001b[0m \u001b[0mlazy\u001b[0m\u001b[1;33m=\u001b[0m\u001b[1;32mFalse\u001b[0m\u001b[1;33m)\u001b[0m\u001b[1;33m\u001b[0m\u001b[1;33m\u001b[0m\u001b[0m\n\u001b[0m\u001b[0;32m    186\u001b[0m \u001b[1;33m\u001b[0m\u001b[0m\n\u001b[0;32m    187\u001b[0m             \u001b[1;32mif\u001b[0m \u001b[0mself\u001b[0m\u001b[1;33m.\u001b[0m\u001b[0m_bounds_transformer\u001b[0m\u001b[1;33m:\u001b[0m\u001b[1;33m\u001b[0m\u001b[1;33m\u001b[0m\u001b[0m\n",
      "\u001b[1;32m~\\AppData\\Local\\Continuum\\anaconda3\\lib\\site-packages\\bayes_opt\\bayesian_optimization.py\u001b[0m in \u001b[0;36mprobe\u001b[1;34m(self, params, lazy)\u001b[0m\n\u001b[0;32m    114\u001b[0m             \u001b[0mself\u001b[0m\u001b[1;33m.\u001b[0m\u001b[0m_queue\u001b[0m\u001b[1;33m.\u001b[0m\u001b[0madd\u001b[0m\u001b[1;33m(\u001b[0m\u001b[0mparams\u001b[0m\u001b[1;33m)\u001b[0m\u001b[1;33m\u001b[0m\u001b[1;33m\u001b[0m\u001b[0m\n\u001b[0;32m    115\u001b[0m         \u001b[1;32melse\u001b[0m\u001b[1;33m:\u001b[0m\u001b[1;33m\u001b[0m\u001b[1;33m\u001b[0m\u001b[0m\n\u001b[1;32m--> 116\u001b[1;33m             \u001b[0mself\u001b[0m\u001b[1;33m.\u001b[0m\u001b[0m_space\u001b[0m\u001b[1;33m.\u001b[0m\u001b[0mprobe\u001b[0m\u001b[1;33m(\u001b[0m\u001b[0mparams\u001b[0m\u001b[1;33m)\u001b[0m\u001b[1;33m\u001b[0m\u001b[1;33m\u001b[0m\u001b[0m\n\u001b[0m\u001b[0;32m    117\u001b[0m             \u001b[0mself\u001b[0m\u001b[1;33m.\u001b[0m\u001b[0mdispatch\u001b[0m\u001b[1;33m(\u001b[0m\u001b[0mEvents\u001b[0m\u001b[1;33m.\u001b[0m\u001b[0mOPTIMIZATION_STEP\u001b[0m\u001b[1;33m)\u001b[0m\u001b[1;33m\u001b[0m\u001b[1;33m\u001b[0m\u001b[0m\n\u001b[0;32m    118\u001b[0m \u001b[1;33m\u001b[0m\u001b[0m\n",
      "\u001b[1;32m~\\AppData\\Local\\Continuum\\anaconda3\\lib\\site-packages\\bayes_opt\\target_space.py\u001b[0m in \u001b[0;36mprobe\u001b[1;34m(self, params)\u001b[0m\n\u001b[0;32m    192\u001b[0m         \u001b[1;32mexcept\u001b[0m \u001b[0mKeyError\u001b[0m\u001b[1;33m:\u001b[0m\u001b[1;33m\u001b[0m\u001b[1;33m\u001b[0m\u001b[0m\n\u001b[0;32m    193\u001b[0m             \u001b[0mparams\u001b[0m \u001b[1;33m=\u001b[0m \u001b[0mdict\u001b[0m\u001b[1;33m(\u001b[0m\u001b[0mzip\u001b[0m\u001b[1;33m(\u001b[0m\u001b[0mself\u001b[0m\u001b[1;33m.\u001b[0m\u001b[0m_keys\u001b[0m\u001b[1;33m,\u001b[0m \u001b[0mx\u001b[0m\u001b[1;33m)\u001b[0m\u001b[1;33m)\u001b[0m\u001b[1;33m\u001b[0m\u001b[1;33m\u001b[0m\u001b[0m\n\u001b[1;32m--> 194\u001b[1;33m             \u001b[0mtarget\u001b[0m \u001b[1;33m=\u001b[0m \u001b[0mself\u001b[0m\u001b[1;33m.\u001b[0m\u001b[0mtarget_func\u001b[0m\u001b[1;33m(\u001b[0m\u001b[1;33m**\u001b[0m\u001b[0mparams\u001b[0m\u001b[1;33m)\u001b[0m\u001b[1;33m\u001b[0m\u001b[1;33m\u001b[0m\u001b[0m\n\u001b[0m\u001b[0;32m    195\u001b[0m             \u001b[0mself\u001b[0m\u001b[1;33m.\u001b[0m\u001b[0mregister\u001b[0m\u001b[1;33m(\u001b[0m\u001b[0mx\u001b[0m\u001b[1;33m,\u001b[0m \u001b[0mtarget\u001b[0m\u001b[1;33m)\u001b[0m\u001b[1;33m\u001b[0m\u001b[1;33m\u001b[0m\u001b[0m\n\u001b[0;32m    196\u001b[0m         \u001b[1;32mreturn\u001b[0m \u001b[0mtarget\u001b[0m\u001b[1;33m\u001b[0m\u001b[1;33m\u001b[0m\u001b[0m\n",
      "\u001b[1;32m<ipython-input-73-2f3b05498051>\u001b[0m in \u001b[0;36mLGB_bayesian\u001b[1;34m(num_leaves, min_data_in_leaf, learning_rate, min_sum_hessian_in_leaf, feature_fraction, lambda_l1, lambda_l2, min_gain_to_split, max_depth)\u001b[0m\n\u001b[0;32m     62\u001b[0m \u001b[1;33m\u001b[0m\u001b[0m\n\u001b[0;32m     63\u001b[0m     \u001b[0mnum_round\u001b[0m \u001b[1;33m=\u001b[0m \u001b[1;36m5000\u001b[0m\u001b[1;33m\u001b[0m\u001b[1;33m\u001b[0m\u001b[0m\n\u001b[1;32m---> 64\u001b[1;33m     \u001b[0mclf\u001b[0m \u001b[1;33m=\u001b[0m \u001b[0mGaussianNB\u001b[0m\u001b[1;33m.\u001b[0m\u001b[0mfit\u001b[0m\u001b[1;33m(\u001b[0m\u001b[0mtraintesting1\u001b[0m\u001b[1;33m,\u001b[0m\u001b[0mx_train\u001b[0m\u001b[1;33m,\u001b[0m\u001b[0my_train\u001b[0m\u001b[1;33m)\u001b[0m\u001b[1;33m\u001b[0m\u001b[1;33m\u001b[0m\u001b[0m\n\u001b[0m\u001b[0;32m     65\u001b[0m \u001b[1;33m\u001b[0m\u001b[0m\n\u001b[0;32m     66\u001b[0m     \u001b[1;31m#clf = lgb.x_train(param, x_train, num_round, valid_sets = [xg_valid], verbose_eval=250, early_stopping_rounds = 50)\u001b[0m\u001b[1;33m\u001b[0m\u001b[1;33m\u001b[0m\u001b[1;33m\u001b[0m\u001b[0m\n",
      "\u001b[1;32m~\\AppData\\Local\\Continuum\\anaconda3\\lib\\site-packages\\sklearn\\naive_bayes.py\u001b[0m in \u001b[0;36mfit\u001b[1;34m(self, X, y, sample_weight)\u001b[0m\n\u001b[0;32m    188\u001b[0m         \"\"\"\n\u001b[0;32m    189\u001b[0m         \u001b[0mX\u001b[0m\u001b[1;33m,\u001b[0m \u001b[0my\u001b[0m \u001b[1;33m=\u001b[0m \u001b[0mcheck_X_y\u001b[0m\u001b[1;33m(\u001b[0m\u001b[0mX\u001b[0m\u001b[1;33m,\u001b[0m \u001b[0my\u001b[0m\u001b[1;33m)\u001b[0m\u001b[1;33m\u001b[0m\u001b[1;33m\u001b[0m\u001b[0m\n\u001b[1;32m--> 190\u001b[1;33m         return self._partial_fit(X, y, np.unique(y), _refit=True,\n\u001b[0m\u001b[0;32m    191\u001b[0m                                  sample_weight=sample_weight)\n\u001b[0;32m    192\u001b[0m \u001b[1;33m\u001b[0m\u001b[0m\n",
      "\u001b[1;32m~\\AppData\\Local\\Continuum\\anaconda3\\lib\\site-packages\\pandas\\core\\generic.py\u001b[0m in \u001b[0;36m__getattr__\u001b[1;34m(self, name)\u001b[0m\n\u001b[0;32m   5177\u001b[0m             \u001b[1;32mif\u001b[0m \u001b[0mself\u001b[0m\u001b[1;33m.\u001b[0m\u001b[0m_info_axis\u001b[0m\u001b[1;33m.\u001b[0m\u001b[0m_can_hold_identifiers_and_holds_name\u001b[0m\u001b[1;33m(\u001b[0m\u001b[0mname\u001b[0m\u001b[1;33m)\u001b[0m\u001b[1;33m:\u001b[0m\u001b[1;33m\u001b[0m\u001b[1;33m\u001b[0m\u001b[0m\n\u001b[0;32m   5178\u001b[0m                 \u001b[1;32mreturn\u001b[0m \u001b[0mself\u001b[0m\u001b[1;33m[\u001b[0m\u001b[0mname\u001b[0m\u001b[1;33m]\u001b[0m\u001b[1;33m\u001b[0m\u001b[1;33m\u001b[0m\u001b[0m\n\u001b[1;32m-> 5179\u001b[1;33m             \u001b[1;32mreturn\u001b[0m \u001b[0mobject\u001b[0m\u001b[1;33m.\u001b[0m\u001b[0m__getattribute__\u001b[0m\u001b[1;33m(\u001b[0m\u001b[0mself\u001b[0m\u001b[1;33m,\u001b[0m \u001b[0mname\u001b[0m\u001b[1;33m)\u001b[0m\u001b[1;33m\u001b[0m\u001b[1;33m\u001b[0m\u001b[0m\n\u001b[0m\u001b[0;32m   5180\u001b[0m \u001b[1;33m\u001b[0m\u001b[0m\n\u001b[0;32m   5181\u001b[0m     \u001b[1;32mdef\u001b[0m \u001b[0m__setattr__\u001b[0m\u001b[1;33m(\u001b[0m\u001b[0mself\u001b[0m\u001b[1;33m,\u001b[0m \u001b[0mname\u001b[0m\u001b[1;33m,\u001b[0m \u001b[0mvalue\u001b[0m\u001b[1;33m)\u001b[0m\u001b[1;33m:\u001b[0m\u001b[1;33m\u001b[0m\u001b[1;33m\u001b[0m\u001b[0m\n",
      "\u001b[1;31mAttributeError\u001b[0m: 'DataFrame' object has no attribute '_partial_fit'"
     ]
    }
   ],
   "source": [
    "init_points = 5\n",
    "n_iter = 5\n",
    "LGB_BO.maximize(init_points=init_points, n_iter=n_iter, acq='ucb', xi=0.0, alpha=1e-6)"
   ]
  },
  {
   "cell_type": "code",
   "execution_count": 49,
   "metadata": {},
   "outputs": [
    {
     "name": "stdout",
     "output_type": "stream",
     "text": [
      "|   iter    |  target   | featur... | lambda_l1 | lambda_l2 | learni... | max_depth | min_da... | min_ga... | min_su... | num_le... |\n",
      "-------------------------------------------------------------------------------------------------------------------------------------\n"
     ]
    },
    {
     "ename": "IndexError",
     "evalue": "positional indexers are out-of-bounds",
     "output_type": "error",
     "traceback": [
      "\u001b[1;31m---------------------------------------------------------------------------\u001b[0m",
      "\u001b[1;31mKeyError\u001b[0m                                  Traceback (most recent call last)",
      "\u001b[1;32m~\\AppData\\Local\\Continuum\\anaconda3\\lib\\site-packages\\bayes_opt\\target_space.py\u001b[0m in \u001b[0;36mprobe\u001b[1;34m(self, params)\u001b[0m\n\u001b[0;32m    190\u001b[0m         \u001b[1;32mtry\u001b[0m\u001b[1;33m:\u001b[0m\u001b[1;33m\u001b[0m\u001b[1;33m\u001b[0m\u001b[0m\n\u001b[1;32m--> 191\u001b[1;33m             \u001b[0mtarget\u001b[0m \u001b[1;33m=\u001b[0m \u001b[0mself\u001b[0m\u001b[1;33m.\u001b[0m\u001b[0m_cache\u001b[0m\u001b[1;33m[\u001b[0m\u001b[0m_hashable\u001b[0m\u001b[1;33m(\u001b[0m\u001b[0mx\u001b[0m\u001b[1;33m)\u001b[0m\u001b[1;33m]\u001b[0m\u001b[1;33m\u001b[0m\u001b[1;33m\u001b[0m\u001b[0m\n\u001b[0m\u001b[0;32m    192\u001b[0m         \u001b[1;32mexcept\u001b[0m \u001b[0mKeyError\u001b[0m\u001b[1;33m:\u001b[0m\u001b[1;33m\u001b[0m\u001b[1;33m\u001b[0m\u001b[0m\n",
      "\u001b[1;31mKeyError\u001b[0m: (0.3749082032826262, 0.17518262050718658, 1.492247354445897, 0.026968622645801674, 13.284731311046386, 10.592810418122113, 0.679847951578097, 0.002570236693773035, 10.21371822728738)",
      "\nDuring handling of the above exception, another exception occurred:\n",
      "\u001b[1;31mIndexError\u001b[0m                                Traceback (most recent call last)",
      "\u001b[1;32m~\\AppData\\Local\\Continuum\\anaconda3\\lib\\site-packages\\pandas\\core\\indexing.py\u001b[0m in \u001b[0;36m_get_list_axis\u001b[1;34m(self, key, axis)\u001b[0m\n\u001b[0;32m   2129\u001b[0m         \u001b[1;32mtry\u001b[0m\u001b[1;33m:\u001b[0m\u001b[1;33m\u001b[0m\u001b[1;33m\u001b[0m\u001b[0m\n\u001b[1;32m-> 2130\u001b[1;33m             \u001b[1;32mreturn\u001b[0m \u001b[0mself\u001b[0m\u001b[1;33m.\u001b[0m\u001b[0mobj\u001b[0m\u001b[1;33m.\u001b[0m\u001b[0mtake\u001b[0m\u001b[1;33m(\u001b[0m\u001b[0mkey\u001b[0m\u001b[1;33m,\u001b[0m \u001b[0maxis\u001b[0m\u001b[1;33m=\u001b[0m\u001b[0maxis\u001b[0m\u001b[1;33m)\u001b[0m\u001b[1;33m\u001b[0m\u001b[1;33m\u001b[0m\u001b[0m\n\u001b[0m\u001b[0;32m   2131\u001b[0m         \u001b[1;32mexcept\u001b[0m \u001b[0mIndexError\u001b[0m\u001b[1;33m:\u001b[0m\u001b[1;33m\u001b[0m\u001b[1;33m\u001b[0m\u001b[0m\n",
      "\u001b[1;32m~\\AppData\\Local\\Continuum\\anaconda3\\lib\\site-packages\\pandas\\core\\generic.py\u001b[0m in \u001b[0;36mtake\u001b[1;34m(self, indices, axis, is_copy, **kwargs)\u001b[0m\n\u001b[0;32m   3603\u001b[0m         new_data = self._data.take(\n\u001b[1;32m-> 3604\u001b[1;33m             \u001b[0mindices\u001b[0m\u001b[1;33m,\u001b[0m \u001b[0maxis\u001b[0m\u001b[1;33m=\u001b[0m\u001b[0mself\u001b[0m\u001b[1;33m.\u001b[0m\u001b[0m_get_block_manager_axis\u001b[0m\u001b[1;33m(\u001b[0m\u001b[0maxis\u001b[0m\u001b[1;33m)\u001b[0m\u001b[1;33m,\u001b[0m \u001b[0mverify\u001b[0m\u001b[1;33m=\u001b[0m\u001b[1;32mTrue\u001b[0m\u001b[1;33m\u001b[0m\u001b[1;33m\u001b[0m\u001b[0m\n\u001b[0m\u001b[0;32m   3605\u001b[0m         )\n",
      "\u001b[1;32m~\\AppData\\Local\\Continuum\\anaconda3\\lib\\site-packages\\pandas\\core\\internals\\managers.py\u001b[0m in \u001b[0;36mtake\u001b[1;34m(self, indexer, axis, verify, convert)\u001b[0m\n\u001b[0;32m   1388\u001b[0m         \u001b[1;32mif\u001b[0m \u001b[0mconvert\u001b[0m\u001b[1;33m:\u001b[0m\u001b[1;33m\u001b[0m\u001b[1;33m\u001b[0m\u001b[0m\n\u001b[1;32m-> 1389\u001b[1;33m             \u001b[0mindexer\u001b[0m \u001b[1;33m=\u001b[0m \u001b[0mmaybe_convert_indices\u001b[0m\u001b[1;33m(\u001b[0m\u001b[0mindexer\u001b[0m\u001b[1;33m,\u001b[0m \u001b[0mn\u001b[0m\u001b[1;33m)\u001b[0m\u001b[1;33m\u001b[0m\u001b[1;33m\u001b[0m\u001b[0m\n\u001b[0m\u001b[0;32m   1390\u001b[0m \u001b[1;33m\u001b[0m\u001b[0m\n",
      "\u001b[1;32m~\\AppData\\Local\\Continuum\\anaconda3\\lib\\site-packages\\pandas\\core\\indexers.py\u001b[0m in \u001b[0;36mmaybe_convert_indices\u001b[1;34m(indices, n)\u001b[0m\n\u001b[0;32m    200\u001b[0m     \u001b[1;32mif\u001b[0m \u001b[0mmask\u001b[0m\u001b[1;33m.\u001b[0m\u001b[0many\u001b[0m\u001b[1;33m(\u001b[0m\u001b[1;33m)\u001b[0m\u001b[1;33m:\u001b[0m\u001b[1;33m\u001b[0m\u001b[1;33m\u001b[0m\u001b[0m\n\u001b[1;32m--> 201\u001b[1;33m         \u001b[1;32mraise\u001b[0m \u001b[0mIndexError\u001b[0m\u001b[1;33m(\u001b[0m\u001b[1;34m\"indices are out-of-bounds\"\u001b[0m\u001b[1;33m)\u001b[0m\u001b[1;33m\u001b[0m\u001b[1;33m\u001b[0m\u001b[0m\n\u001b[0m\u001b[0;32m    202\u001b[0m     \u001b[1;32mreturn\u001b[0m \u001b[0mindices\u001b[0m\u001b[1;33m\u001b[0m\u001b[1;33m\u001b[0m\u001b[0m\n",
      "\u001b[1;31mIndexError\u001b[0m: indices are out-of-bounds",
      "\nDuring handling of the above exception, another exception occurred:\n",
      "\u001b[1;31mIndexError\u001b[0m                                Traceback (most recent call last)",
      "\u001b[1;32m<ipython-input-49-0418a0b9401b>\u001b[0m in \u001b[0;36m<module>\u001b[1;34m\u001b[0m\n\u001b[0;32m      3\u001b[0m \u001b[0mn_iter\u001b[0m \u001b[1;33m=\u001b[0m \u001b[1;36m5\u001b[0m\u001b[1;33m\u001b[0m\u001b[1;33m\u001b[0m\u001b[0m\n\u001b[0;32m      4\u001b[0m \u001b[1;33m\u001b[0m\u001b[0m\n\u001b[1;32m----> 5\u001b[1;33m \u001b[0mLGB_BO\u001b[0m\u001b[1;33m.\u001b[0m\u001b[0mmaximize\u001b[0m\u001b[1;33m(\u001b[0m\u001b[0minit_points\u001b[0m\u001b[1;33m=\u001b[0m\u001b[0minit_points\u001b[0m\u001b[1;33m,\u001b[0m \u001b[0mn_iter\u001b[0m\u001b[1;33m=\u001b[0m\u001b[0mn_iter\u001b[0m\u001b[1;33m,\u001b[0m \u001b[0macq\u001b[0m\u001b[1;33m=\u001b[0m\u001b[1;34m'ucb'\u001b[0m\u001b[1;33m,\u001b[0m \u001b[0mxi\u001b[0m\u001b[1;33m=\u001b[0m\u001b[1;36m0.0\u001b[0m\u001b[1;33m,\u001b[0m \u001b[0malpha\u001b[0m\u001b[1;33m=\u001b[0m\u001b[1;36m1e-6\u001b[0m\u001b[1;33m)\u001b[0m\u001b[1;33m\u001b[0m\u001b[1;33m\u001b[0m\u001b[0m\n\u001b[0m\u001b[0;32m      6\u001b[0m \u001b[0mprint\u001b[0m\u001b[1;33m(\u001b[0m\u001b[1;34m'Done. Time elapsed: {:.2f}s'\u001b[0m\u001b[1;33m.\u001b[0m\u001b[0mformat\u001b[0m\u001b[1;33m(\u001b[0m\u001b[0mtime\u001b[0m\u001b[1;33m.\u001b[0m\u001b[0mtime\u001b[0m\u001b[1;33m(\u001b[0m\u001b[1;33m)\u001b[0m \u001b[1;33m-\u001b[0m \u001b[0mstart_time\u001b[0m\u001b[1;33m)\u001b[0m\u001b[1;33m)\u001b[0m\u001b[1;33m\u001b[0m\u001b[1;33m\u001b[0m\u001b[0m\n",
      "\u001b[1;32m~\\AppData\\Local\\Continuum\\anaconda3\\lib\\site-packages\\bayes_opt\\bayesian_optimization.py\u001b[0m in \u001b[0;36mmaximize\u001b[1;34m(self, init_points, n_iter, acq, kappa, kappa_decay, kappa_decay_delay, xi, **gp_params)\u001b[0m\n\u001b[0;32m    183\u001b[0m                 \u001b[0miteration\u001b[0m \u001b[1;33m+=\u001b[0m \u001b[1;36m1\u001b[0m\u001b[1;33m\u001b[0m\u001b[1;33m\u001b[0m\u001b[0m\n\u001b[0;32m    184\u001b[0m \u001b[1;33m\u001b[0m\u001b[0m\n\u001b[1;32m--> 185\u001b[1;33m             \u001b[0mself\u001b[0m\u001b[1;33m.\u001b[0m\u001b[0mprobe\u001b[0m\u001b[1;33m(\u001b[0m\u001b[0mx_probe\u001b[0m\u001b[1;33m,\u001b[0m \u001b[0mlazy\u001b[0m\u001b[1;33m=\u001b[0m\u001b[1;32mFalse\u001b[0m\u001b[1;33m)\u001b[0m\u001b[1;33m\u001b[0m\u001b[1;33m\u001b[0m\u001b[0m\n\u001b[0m\u001b[0;32m    186\u001b[0m \u001b[1;33m\u001b[0m\u001b[0m\n\u001b[0;32m    187\u001b[0m             \u001b[1;32mif\u001b[0m \u001b[0mself\u001b[0m\u001b[1;33m.\u001b[0m\u001b[0m_bounds_transformer\u001b[0m\u001b[1;33m:\u001b[0m\u001b[1;33m\u001b[0m\u001b[1;33m\u001b[0m\u001b[0m\n",
      "\u001b[1;32m~\\AppData\\Local\\Continuum\\anaconda3\\lib\\site-packages\\bayes_opt\\bayesian_optimization.py\u001b[0m in \u001b[0;36mprobe\u001b[1;34m(self, params, lazy)\u001b[0m\n\u001b[0;32m    114\u001b[0m             \u001b[0mself\u001b[0m\u001b[1;33m.\u001b[0m\u001b[0m_queue\u001b[0m\u001b[1;33m.\u001b[0m\u001b[0madd\u001b[0m\u001b[1;33m(\u001b[0m\u001b[0mparams\u001b[0m\u001b[1;33m)\u001b[0m\u001b[1;33m\u001b[0m\u001b[1;33m\u001b[0m\u001b[0m\n\u001b[0;32m    115\u001b[0m         \u001b[1;32melse\u001b[0m\u001b[1;33m:\u001b[0m\u001b[1;33m\u001b[0m\u001b[1;33m\u001b[0m\u001b[0m\n\u001b[1;32m--> 116\u001b[1;33m             \u001b[0mself\u001b[0m\u001b[1;33m.\u001b[0m\u001b[0m_space\u001b[0m\u001b[1;33m.\u001b[0m\u001b[0mprobe\u001b[0m\u001b[1;33m(\u001b[0m\u001b[0mparams\u001b[0m\u001b[1;33m)\u001b[0m\u001b[1;33m\u001b[0m\u001b[1;33m\u001b[0m\u001b[0m\n\u001b[0m\u001b[0;32m    117\u001b[0m             \u001b[0mself\u001b[0m\u001b[1;33m.\u001b[0m\u001b[0mdispatch\u001b[0m\u001b[1;33m(\u001b[0m\u001b[0mEvents\u001b[0m\u001b[1;33m.\u001b[0m\u001b[0mOPTIMIZATION_STEP\u001b[0m\u001b[1;33m)\u001b[0m\u001b[1;33m\u001b[0m\u001b[1;33m\u001b[0m\u001b[0m\n\u001b[0;32m    118\u001b[0m \u001b[1;33m\u001b[0m\u001b[0m\n",
      "\u001b[1;32m~\\AppData\\Local\\Continuum\\anaconda3\\lib\\site-packages\\bayes_opt\\target_space.py\u001b[0m in \u001b[0;36mprobe\u001b[1;34m(self, params)\u001b[0m\n\u001b[0;32m    192\u001b[0m         \u001b[1;32mexcept\u001b[0m \u001b[0mKeyError\u001b[0m\u001b[1;33m:\u001b[0m\u001b[1;33m\u001b[0m\u001b[1;33m\u001b[0m\u001b[0m\n\u001b[0;32m    193\u001b[0m             \u001b[0mparams\u001b[0m \u001b[1;33m=\u001b[0m \u001b[0mdict\u001b[0m\u001b[1;33m(\u001b[0m\u001b[0mzip\u001b[0m\u001b[1;33m(\u001b[0m\u001b[0mself\u001b[0m\u001b[1;33m.\u001b[0m\u001b[0m_keys\u001b[0m\u001b[1;33m,\u001b[0m \u001b[0mx\u001b[0m\u001b[1;33m)\u001b[0m\u001b[1;33m)\u001b[0m\u001b[1;33m\u001b[0m\u001b[1;33m\u001b[0m\u001b[0m\n\u001b[1;32m--> 194\u001b[1;33m             \u001b[0mtarget\u001b[0m \u001b[1;33m=\u001b[0m \u001b[0mself\u001b[0m\u001b[1;33m.\u001b[0m\u001b[0mtarget_func\u001b[0m\u001b[1;33m(\u001b[0m\u001b[1;33m**\u001b[0m\u001b[0mparams\u001b[0m\u001b[1;33m)\u001b[0m\u001b[1;33m\u001b[0m\u001b[1;33m\u001b[0m\u001b[0m\n\u001b[0m\u001b[0;32m    195\u001b[0m             \u001b[0mself\u001b[0m\u001b[1;33m.\u001b[0m\u001b[0mregister\u001b[0m\u001b[1;33m(\u001b[0m\u001b[0mx\u001b[0m\u001b[1;33m,\u001b[0m \u001b[0mtarget\u001b[0m\u001b[1;33m)\u001b[0m\u001b[1;33m\u001b[0m\u001b[1;33m\u001b[0m\u001b[0m\n\u001b[0;32m    196\u001b[0m         \u001b[1;32mreturn\u001b[0m \u001b[0mtarget\u001b[0m\u001b[1;33m\u001b[0m\u001b[1;33m\u001b[0m\u001b[0m\n",
      "\u001b[1;32m<ipython-input-47-36b3034d700e>\u001b[0m in \u001b[0;36mLGB_bayesian\u001b[1;34m(num_leaves, min_data_in_leaf, learning_rate, min_sum_hessian_in_leaf, feature_fraction, lambda_l1, lambda_l2, min_gain_to_split, max_depth)\u001b[0m\n\u001b[0;32m     50\u001b[0m \u001b[1;33m\u001b[0m\u001b[0m\n\u001b[0;32m     51\u001b[0m \u001b[1;33m\u001b[0m\u001b[0m\n\u001b[1;32m---> 52\u001b[1;33m     xg_train = lgb.Dataset(x_train.iloc[bayesian_tr_index][y_train].values,\n\u001b[0m\u001b[0;32m     53\u001b[0m                            \u001b[0mlabel\u001b[0m\u001b[1;33m=\u001b[0m\u001b[0mx_train\u001b[0m\u001b[1;33m.\u001b[0m\u001b[0miloc\u001b[0m\u001b[1;33m[\u001b[0m\u001b[0mbayesian_tr_index\u001b[0m\u001b[1;33m]\u001b[0m\u001b[1;33m[\u001b[0m\u001b[0my_train\u001b[0m\u001b[1;33m]\u001b[0m\u001b[1;33m.\u001b[0m\u001b[0mvalues\u001b[0m\u001b[1;33m,\u001b[0m\u001b[1;33m\u001b[0m\u001b[1;33m\u001b[0m\u001b[0m\n\u001b[0;32m     54\u001b[0m                            \u001b[0mfeature_name\u001b[0m\u001b[1;33m=\u001b[0m\u001b[0my_train\u001b[0m\u001b[1;33m,\u001b[0m\u001b[1;33m\u001b[0m\u001b[1;33m\u001b[0m\u001b[0m\n",
      "\u001b[1;32m~\\AppData\\Local\\Continuum\\anaconda3\\lib\\site-packages\\pandas\\core\\indexing.py\u001b[0m in \u001b[0;36m__getitem__\u001b[1;34m(self, key)\u001b[0m\n\u001b[0;32m   1422\u001b[0m \u001b[1;33m\u001b[0m\u001b[0m\n\u001b[0;32m   1423\u001b[0m             \u001b[0mmaybe_callable\u001b[0m \u001b[1;33m=\u001b[0m \u001b[0mcom\u001b[0m\u001b[1;33m.\u001b[0m\u001b[0mapply_if_callable\u001b[0m\u001b[1;33m(\u001b[0m\u001b[0mkey\u001b[0m\u001b[1;33m,\u001b[0m \u001b[0mself\u001b[0m\u001b[1;33m.\u001b[0m\u001b[0mobj\u001b[0m\u001b[1;33m)\u001b[0m\u001b[1;33m\u001b[0m\u001b[1;33m\u001b[0m\u001b[0m\n\u001b[1;32m-> 1424\u001b[1;33m             \u001b[1;32mreturn\u001b[0m \u001b[0mself\u001b[0m\u001b[1;33m.\u001b[0m\u001b[0m_getitem_axis\u001b[0m\u001b[1;33m(\u001b[0m\u001b[0mmaybe_callable\u001b[0m\u001b[1;33m,\u001b[0m \u001b[0maxis\u001b[0m\u001b[1;33m=\u001b[0m\u001b[0maxis\u001b[0m\u001b[1;33m)\u001b[0m\u001b[1;33m\u001b[0m\u001b[1;33m\u001b[0m\u001b[0m\n\u001b[0m\u001b[0;32m   1425\u001b[0m \u001b[1;33m\u001b[0m\u001b[0m\n\u001b[0;32m   1426\u001b[0m     \u001b[1;32mdef\u001b[0m \u001b[0m_is_scalar_access\u001b[0m\u001b[1;33m(\u001b[0m\u001b[0mself\u001b[0m\u001b[1;33m,\u001b[0m \u001b[0mkey\u001b[0m\u001b[1;33m:\u001b[0m \u001b[0mTuple\u001b[0m\u001b[1;33m)\u001b[0m\u001b[1;33m:\u001b[0m\u001b[1;33m\u001b[0m\u001b[1;33m\u001b[0m\u001b[0m\n",
      "\u001b[1;32m~\\AppData\\Local\\Continuum\\anaconda3\\lib\\site-packages\\pandas\\core\\indexing.py\u001b[0m in \u001b[0;36m_getitem_axis\u001b[1;34m(self, key, axis)\u001b[0m\n\u001b[0;32m   2146\u001b[0m         \u001b[1;31m# a list of integers\u001b[0m\u001b[1;33m\u001b[0m\u001b[1;33m\u001b[0m\u001b[1;33m\u001b[0m\u001b[0m\n\u001b[0;32m   2147\u001b[0m         \u001b[1;32melif\u001b[0m \u001b[0mis_list_like_indexer\u001b[0m\u001b[1;33m(\u001b[0m\u001b[0mkey\u001b[0m\u001b[1;33m)\u001b[0m\u001b[1;33m:\u001b[0m\u001b[1;33m\u001b[0m\u001b[1;33m\u001b[0m\u001b[0m\n\u001b[1;32m-> 2148\u001b[1;33m             \u001b[1;32mreturn\u001b[0m \u001b[0mself\u001b[0m\u001b[1;33m.\u001b[0m\u001b[0m_get_list_axis\u001b[0m\u001b[1;33m(\u001b[0m\u001b[0mkey\u001b[0m\u001b[1;33m,\u001b[0m \u001b[0maxis\u001b[0m\u001b[1;33m=\u001b[0m\u001b[0maxis\u001b[0m\u001b[1;33m)\u001b[0m\u001b[1;33m\u001b[0m\u001b[1;33m\u001b[0m\u001b[0m\n\u001b[0m\u001b[0;32m   2149\u001b[0m \u001b[1;33m\u001b[0m\u001b[0m\n\u001b[0;32m   2150\u001b[0m         \u001b[1;31m# a single integer\u001b[0m\u001b[1;33m\u001b[0m\u001b[1;33m\u001b[0m\u001b[1;33m\u001b[0m\u001b[0m\n",
      "\u001b[1;32m~\\AppData\\Local\\Continuum\\anaconda3\\lib\\site-packages\\pandas\\core\\indexing.py\u001b[0m in \u001b[0;36m_get_list_axis\u001b[1;34m(self, key, axis)\u001b[0m\n\u001b[0;32m   2131\u001b[0m         \u001b[1;32mexcept\u001b[0m \u001b[0mIndexError\u001b[0m\u001b[1;33m:\u001b[0m\u001b[1;33m\u001b[0m\u001b[1;33m\u001b[0m\u001b[0m\n\u001b[0;32m   2132\u001b[0m             \u001b[1;31m# re-raise with different error message\u001b[0m\u001b[1;33m\u001b[0m\u001b[1;33m\u001b[0m\u001b[1;33m\u001b[0m\u001b[0m\n\u001b[1;32m-> 2133\u001b[1;33m             \u001b[1;32mraise\u001b[0m \u001b[0mIndexError\u001b[0m\u001b[1;33m(\u001b[0m\u001b[1;34m\"positional indexers are out-of-bounds\"\u001b[0m\u001b[1;33m)\u001b[0m\u001b[1;33m\u001b[0m\u001b[1;33m\u001b[0m\u001b[0m\n\u001b[0m\u001b[0;32m   2134\u001b[0m \u001b[1;33m\u001b[0m\u001b[0m\n\u001b[0;32m   2135\u001b[0m     \u001b[1;32mdef\u001b[0m \u001b[0m_getitem_axis\u001b[0m\u001b[1;33m(\u001b[0m\u001b[0mself\u001b[0m\u001b[1;33m,\u001b[0m \u001b[0mkey\u001b[0m\u001b[1;33m,\u001b[0m \u001b[0maxis\u001b[0m\u001b[1;33m:\u001b[0m \u001b[0mint\u001b[0m\u001b[1;33m)\u001b[0m\u001b[1;33m:\u001b[0m\u001b[1;33m\u001b[0m\u001b[1;33m\u001b[0m\u001b[0m\n",
      "\u001b[1;31mIndexError\u001b[0m: positional indexers are out-of-bounds"
     ]
    }
   ],
   "source": [
    "start_time = time.time()\n",
    "init_points = 5\n",
    "n_iter = 5\n",
    "\n",
    "LGB_BO.maximize(init_points=init_points, n_iter=n_iter, acq='ucb', xi=0.0, alpha=1e-6)\n",
    "print('Done. Time elapsed: {:.2f}s'.format(time.time() - start_time))"
   ]
  },
  {
   "cell_type": "code",
   "execution_count": null,
   "metadata": {},
   "outputs": [],
   "source": [
    "LGB_BO.max['ProductRecommed']"
   ]
  },
  {
   "cell_type": "code",
   "execution_count": null,
   "metadata": {},
   "outputs": [],
   "source": [
    "LGB_BO.max['params']"
   ]
  },
  {
   "cell_type": "code",
   "execution_count": null,
   "metadata": {},
   "outputs": [],
   "source": [
    "param_lgb = {\n",
    "        'num_leaves': int(LGB_BO.max['params']['num_leaves']),\n",
    "        'max_bin': 63,\n",
    "        'min_data_in_leaf': int(LGB_BO.max['params']['min_data_in_leaf']),\n",
    "        'learning_rate': LGB_BO.max['params']['learning_rate'],\n",
    "        'min_sum_hessian_in_leaf': LGB_BO.max['params']['min_sum_hessian_in_leaf'],\n",
    "        'bagging_fraction': 1.0, \n",
    "        'bagging_freq': 5, \n",
    "        'feature_fraction': LGB_BO.max['params']['feature_fraction'],\n",
    "        'lambda_l1': LGB_BO.max['params']['lambda_l1'],\n",
    "        'lambda_l2': LGB_BO.max['params']['lambda_l2'],\n",
    "        'min_gain_to_split': LGB_BO.max['params']['min_gain_to_split'],\n",
    "        'max_depth': int(LGB_BO.max['params']['max_depth']),\n",
    "        'save_binary': True,\n",
    "        'seed': 13,\n",
    "        'feature_fraction_seed': 13,\n",
    "        'bagging_seed': 13,\n",
    "        'drop_seed': 13,\n",
    "        'data_random_seed': 13,\n",
    "        'objective': 'binary',\n",
    "        'boosting_type': 'gbdt',\n",
    "        'verbose': 1,\n",
    "        'metric': 'auc',\n",
    "        'is_unbalance': True,\n",
    "        'boost_from_average': False,\n",
    "    }"
   ]
  },
  {
   "cell_type": "markdown",
   "metadata": {},
   "source": [
    "# Model Interpreting\n",
    "### ELI5"
   ]
  },
  {
   "cell_type": "markdown",
   "metadata": {},
   "source": [
    "import eli5\n",
    "\n",
    "model = lgb.LGBMClassifier(**param_lgb, n_estimators = 20000, n_jobs = -1)\n",
    "X_train, X_valid, y_train, y_valid = train_test_split(train[features], train[target], test_size=0.2, stratify=train[target])\n",
    "model.fit(X_train, y_train, eval_set=[(X_train, y_train), (X_valid, y_valid)], verbose=1000, early_stopping_rounds=200)\n",
    "\n",
    "eli5.show_weights(model, targets=[0, 1], feature_names=list(X_train.columns), top=40, feature_filter=lambda x: x != '<BIAS>')"
   ]
  },
  {
   "cell_type": "markdown",
   "metadata": {},
   "source": [
    "#### Taking top 100 features and checking if the scores improves."
   ]
  },
  {
   "cell_type": "markdown",
   "metadata": {},
   "source": [
    "top_features = [i for i in eli5.formatters.as_dataframe.explain_weights_df(model).feature if 'BIAS' not in i][:100]\n",
    "X1 = train[top_features]\n",
    "X_train, X_valid, y_train, y_valid = train_test_split(X1, train[target], test_size=0.2, stratify=train[target])\n",
    "model.fit(X_train, y_train, eval_set=[(X_train, y_train), (X_valid, y_valid)], verbose=1000, early_stopping_rounds=200)"
   ]
  },
  {
   "cell_type": "markdown",
   "metadata": {},
   "source": [
    "* Without removal score : 0.89538\n",
    "* With removal score : 0.883403\n",
    "\n",
    "**So ELI5 isn't helping in reducing the features.**"
   ]
  },
  {
   "cell_type": "markdown",
   "metadata": {},
   "source": [
    "# 5Fold Prediction & Submission"
   ]
  },
  {
   "cell_type": "markdown",
   "metadata": {},
   "source": [
    "%%time\n",
    "folds = StratifiedKFold(n_splits=5, shuffle=True, random_state=13)\n",
    "\n",
    "y_pred_lgb = np.zeros(len(test))\n",
    "num_round = 20000\n",
    "for fold_n, (train_index, valid_index) in enumerate(folds.split(train[features], train[target])):\n",
    "    print('Fold', fold_n, 'started at', time.ctime())\n",
    "    X_train, X_valid = train[features].iloc[train_index], train[features].iloc[valid_index]\n",
    "    y_train, y_valid = train[target].iloc[train_index], train[target].iloc[valid_index]\n",
    "    \n",
    "    train_data = lgb.Dataset(X_train, label=y_train)\n",
    "    valid_data = lgb.Dataset(X_valid, label=y_valid)\n",
    "        \n",
    "    lgb_model = lgb.train(\n",
    "        param_lgb,\n",
    "        train_data,num_round,\n",
    "        valid_sets = [train_data, valid_data],\n",
    "        verbose_eval=1000,\n",
    "        early_stopping_rounds = 1000)\n",
    "            \n",
    "    y_pred_lgb += lgb_model.predict(test[features], num_iteration=lgb_model.best_iteration)/5"
   ]
  },
  {
   "cell_type": "markdown",
   "metadata": {},
   "source": [
    "# Submitting the 5Fold LGB Predictions\n",
    "submission_lgb = pd.DataFrame({\n",
    "        \"ID_code\": test[\"ID_code\"],\n",
    "        \"target\": y_pred_lgb\n",
    "    })\n",
    "submission_lgb.to_csv('sub_lgb.csv', index=False)"
   ]
  },
  {
   "cell_type": "markdown",
   "metadata": {},
   "source": [
    "# This submission score 0.90038 on public leaderboard. (Almost top 9% in Public LB)"
   ]
  },
  {
   "cell_type": "markdown",
   "metadata": {},
   "source": [
    "# Conclusion\n",
    "\n",
    "TODO - \n",
    "1. H20 AutoML\n",
    "1. Using XGBoost, Catboost\n",
    "1. Ensembling, Stacking, Blending\n",
    "1. Feature Removal"
   ]
  },
  {
   "cell_type": "code",
   "execution_count": null,
   "metadata": {},
   "outputs": [],
   "source": []
  }
 ],
 "metadata": {
  "kernelspec": {
   "display_name": "conda_python3",
   "language": "python",
   "name": "conda_python3"
  },
  "language_info": {
   "codemirror_mode": {
    "name": "ipython",
    "version": 3
   },
   "file_extension": ".py",
   "mimetype": "text/x-python",
   "name": "python",
   "nbconvert_exporter": "python",
   "pygments_lexer": "ipython3",
   "version": "3.6.13"
  }
 },
 "nbformat": 4,
 "nbformat_minor": 4
}
